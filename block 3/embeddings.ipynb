{
 "cells": [
  {
   "cell_type": "markdown",
   "metadata": {
    "colab": {},
    "colab_type": "code",
    "id": "AN9OkA1OIUjz"
   },
   "source": [
    "# Übung 1a)\n",
    "\n",
    "Embeddings"
   ]
  },
  {
   "cell_type": "code",
   "execution_count": 0,
   "metadata": {
    "colab": {},
    "colab_type": "code",
    "id": "L0seZBOxIfZc"
   },
   "outputs": [],
   "source": [
    "import pandas as pd\n",
    "import tensorflow as tf\n",
    "from tensorflow.keras import layers\n",
    "from tensorflow.keras.models import Model\n",
    "from tensorflow.keras import callbacks\n",
    "from sklearn import preprocessing\n",
    "import numpy as np\n",
    "import matplotlib.pyplot as plt\n",
    "\n",
    "tf.random.set_seed(42)"
   ]
  },
  {
   "cell_type": "code",
   "execution_count": 4,
   "metadata": {
    "colab": {
     "base_uri": "https://localhost:8080/",
     "height": 71,
     "resources": {
      "http://localhost:8080/nbextensions/google.colab/files.js": {
       "data": "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",
       "headers": [
        [
         "content-type",
         "application/javascript"
        ]
       ],
       "ok": true,
       "status": 200,
       "status_text": ""
      }
     }
    },
    "colab_type": "code",
    "id": "pXEepkYmIt2-",
    "outputId": "96651e62-7a2e-4f47-a719-59f2f5823f8f"
   },
   "outputs": [
    {
     "data": {
      "text/html": [
       "\n",
       "     <input type=\"file\" id=\"files-e55b8818-d078-4240-bbaf-b8c2587c950c\" name=\"files[]\" multiple disabled />\n",
       "     <output id=\"result-e55b8818-d078-4240-bbaf-b8c2587c950c\">\n",
       "      Upload widget is only available when the cell has been executed in the\n",
       "      current browser session. Please rerun this cell to enable.\n",
       "      </output>\n",
       "      <script src=\"/nbextensions/google.colab/files.js\"></script> "
      ],
      "text/plain": [
       "<IPython.core.display.HTML object>"
      ]
     },
     "metadata": {
      "tags": []
     },
     "output_type": "display_data"
    },
    {
     "name": "stdout",
     "output_type": "stream",
     "text": [
      "Saving titanic.csv to titanic.csv\n"
     ]
    }
   ],
   "source": [
    "from google.colab import files\n",
    "uploaded = files.upload()"
   ]
  },
  {
   "cell_type": "code",
   "execution_count": 5,
   "metadata": {
    "colab": {
     "base_uri": "https://localhost:8080/",
     "height": 459
    },
    "colab_type": "code",
    "id": "W-tKIZlbMEiX",
    "outputId": "d95b6050-3645-41b5-c5ed-855b855f2084"
   },
   "outputs": [
    {
     "data": {
      "text/html": [
       "<div>\n",
       "<style scoped>\n",
       "    .dataframe tbody tr th:only-of-type {\n",
       "        vertical-align: middle;\n",
       "    }\n",
       "\n",
       "    .dataframe tbody tr th {\n",
       "        vertical-align: top;\n",
       "    }\n",
       "\n",
       "    .dataframe thead th {\n",
       "        text-align: right;\n",
       "    }\n",
       "</style>\n",
       "<table border=\"1\" class=\"dataframe\">\n",
       "  <thead>\n",
       "    <tr style=\"text-align: right;\">\n",
       "      <th></th>\n",
       "      <th>pclass</th>\n",
       "      <th>survived</th>\n",
       "      <th>name</th>\n",
       "      <th>sex</th>\n",
       "      <th>age</th>\n",
       "      <th>sibsp</th>\n",
       "      <th>parch</th>\n",
       "      <th>ticket</th>\n",
       "      <th>fare</th>\n",
       "      <th>cabin</th>\n",
       "      <th>embarked</th>\n",
       "      <th>boat</th>\n",
       "      <th>body</th>\n",
       "      <th>home_destination</th>\n",
       "    </tr>\n",
       "  </thead>\n",
       "  <tbody>\n",
       "    <tr>\n",
       "      <th>0</th>\n",
       "      <td>1</td>\n",
       "      <td>1</td>\n",
       "      <td>Allen, Miss. Elisabeth Walton</td>\n",
       "      <td>female</td>\n",
       "      <td>29.0000</td>\n",
       "      <td>0</td>\n",
       "      <td>0</td>\n",
       "      <td>24160</td>\n",
       "      <td>211.3375</td>\n",
       "      <td>B5</td>\n",
       "      <td>S</td>\n",
       "      <td>2</td>\n",
       "      <td>NaN</td>\n",
       "      <td>St Louis, MO</td>\n",
       "    </tr>\n",
       "    <tr>\n",
       "      <th>1</th>\n",
       "      <td>1</td>\n",
       "      <td>1</td>\n",
       "      <td>Allison, Master. Hudson Trevor</td>\n",
       "      <td>male</td>\n",
       "      <td>0.9167</td>\n",
       "      <td>1</td>\n",
       "      <td>2</td>\n",
       "      <td>113781</td>\n",
       "      <td>151.5500</td>\n",
       "      <td>C22 C26</td>\n",
       "      <td>S</td>\n",
       "      <td>11</td>\n",
       "      <td>NaN</td>\n",
       "      <td>Montreal, PQ / Chesterville, ON</td>\n",
       "    </tr>\n",
       "    <tr>\n",
       "      <th>2</th>\n",
       "      <td>1</td>\n",
       "      <td>0</td>\n",
       "      <td>Allison, Miss. Helen Loraine</td>\n",
       "      <td>female</td>\n",
       "      <td>2.0000</td>\n",
       "      <td>1</td>\n",
       "      <td>2</td>\n",
       "      <td>113781</td>\n",
       "      <td>151.5500</td>\n",
       "      <td>C22 C26</td>\n",
       "      <td>S</td>\n",
       "      <td>NaN</td>\n",
       "      <td>NaN</td>\n",
       "      <td>Montreal, PQ / Chesterville, ON</td>\n",
       "    </tr>\n",
       "    <tr>\n",
       "      <th>3</th>\n",
       "      <td>1</td>\n",
       "      <td>0</td>\n",
       "      <td>Allison, Mr. Hudson Joshua Creighton</td>\n",
       "      <td>male</td>\n",
       "      <td>30.0000</td>\n",
       "      <td>1</td>\n",
       "      <td>2</td>\n",
       "      <td>113781</td>\n",
       "      <td>151.5500</td>\n",
       "      <td>C22 C26</td>\n",
       "      <td>S</td>\n",
       "      <td>NaN</td>\n",
       "      <td>135.0</td>\n",
       "      <td>Montreal, PQ / Chesterville, ON</td>\n",
       "    </tr>\n",
       "    <tr>\n",
       "      <th>4</th>\n",
       "      <td>1</td>\n",
       "      <td>0</td>\n",
       "      <td>Allison, Mrs. Hudson J C (Bessie Waldo Daniels)</td>\n",
       "      <td>female</td>\n",
       "      <td>25.0000</td>\n",
       "      <td>1</td>\n",
       "      <td>2</td>\n",
       "      <td>113781</td>\n",
       "      <td>151.5500</td>\n",
       "      <td>C22 C26</td>\n",
       "      <td>S</td>\n",
       "      <td>NaN</td>\n",
       "      <td>NaN</td>\n",
       "      <td>Montreal, PQ / Chesterville, ON</td>\n",
       "    </tr>\n",
       "  </tbody>\n",
       "</table>\n",
       "</div>"
      ],
      "text/plain": [
       "   pclass  survived  ...   body                 home_destination\n",
       "0       1         1  ...    NaN                     St Louis, MO\n",
       "1       1         1  ...    NaN  Montreal, PQ / Chesterville, ON\n",
       "2       1         0  ...    NaN  Montreal, PQ / Chesterville, ON\n",
       "3       1         0  ...  135.0  Montreal, PQ / Chesterville, ON\n",
       "4       1         0  ...    NaN  Montreal, PQ / Chesterville, ON\n",
       "\n",
       "[5 rows x 14 columns]"
      ]
     },
     "execution_count": 5,
     "metadata": {
      "tags": []
     },
     "output_type": "execute_result"
    }
   ],
   "source": [
    "import io\n",
    "\n",
    "df = pd.read_csv(io.StringIO(uploaded['titanic.csv'].decode('utf-8')))\n",
    "df.head()"
   ]
  },
  {
   "cell_type": "code",
   "execution_count": 0,
   "metadata": {
    "colab": {},
    "colab_type": "code",
    "id": "XGEEhYtGMeWI"
   },
   "outputs": [],
   "source": [
    "df = df[df.cabin.notnull()]"
   ]
  },
  {
   "cell_type": "markdown",
   "metadata": {},
   "source": [
    "Zuerst führe ich ein Label Encoding auf der Spalte Cabin durch. Die Spalte hat insgesamt 186 unterschiedliche Werte."
   ]
  },
  {
   "cell_type": "code",
   "execution_count": 0,
   "metadata": {
    "colab": {},
    "colab_type": "code",
    "id": "pnL7FlS0UJYb"
   },
   "outputs": [],
   "source": [
    "lbl_enc = preprocessing.LabelEncoder()\n",
    "df[\"cabin_enc\"] = lbl_enc.fit_transform(df[\"cabin\"].fillna(\"-1\").astype(str).values)"
   ]
  },
  {
   "cell_type": "code",
   "execution_count": 16,
   "metadata": {
    "colab": {
     "base_uri": "https://localhost:8080/",
     "height": 34
    },
    "colab_type": "code",
    "id": "Y205bqjJNLJK",
    "outputId": "8e1d01b2-580e-4fdc-b3a2-fa6e8fcac166"
   },
   "outputs": [
    {
     "name": "stdout",
     "output_type": "stream",
     "text": [
      "186\n"
     ]
    }
   ],
   "source": [
    "NUM_UNIQUE_VALUES = int(df.cabin_enc.nunique())\n",
    "print(NUM_UNIQUE_VALUES)"
   ]
  },
  {
   "cell_type": "markdown",
   "metadata": {},
   "source": [
    "Ich möchte 2 dimensionale Embeddings im Anschluss haben."
   ]
  },
  {
   "cell_type": "code",
   "execution_count": 0,
   "metadata": {
    "colab": {},
    "colab_type": "code",
    "id": "-dl5De-9Nqey"
   },
   "outputs": [],
   "source": [
    "EMBED_DIM = 2"
   ]
  },
  {
   "cell_type": "code",
   "execution_count": 0,
   "metadata": {
    "colab": {},
    "colab_type": "code",
    "id": "N4Wmy5ZeNy8h"
   },
   "outputs": [],
   "source": [
    "inp = layers.Input(shape=(1,))\n",
    "out = layers.Embedding(NUM_UNIQUE_VALUES, EMBED_DIM, name=\"cabin\")(inp)\n",
    "out = layers.Flatten()(out)\n",
    "out = layers.Dense(20, activation=\"relu\")(out)\n",
    "out = layers.Dense(10, activation=\"relu\")(out)\n",
    "out = layers.Dense(1)(out)"
   ]
  },
  {
   "cell_type": "code",
   "execution_count": 0,
   "metadata": {
    "colab": {},
    "colab_type": "code",
    "id": "kSAKbjMlNvoz"
   },
   "outputs": [],
   "source": [
    "model = Model(inp, out)"
   ]
  },
  {
   "cell_type": "code",
   "execution_count": 11,
   "metadata": {
    "colab": {
     "base_uri": "https://localhost:8080/",
     "height": 357
    },
    "colab_type": "code",
    "id": "nGGwCLtAN9n8",
    "outputId": "04ef09f4-69dc-4f82-b51d-427eb11ceba4"
   },
   "outputs": [
    {
     "name": "stdout",
     "output_type": "stream",
     "text": [
      "Model: \"model\"\n",
      "_________________________________________________________________\n",
      "Layer (type)                 Output Shape              Param #   \n",
      "=================================================================\n",
      "input_1 (InputLayer)         [(None, 1)]               0         \n",
      "_________________________________________________________________\n",
      "cabin (Embedding)            (None, 1, 2)              372       \n",
      "_________________________________________________________________\n",
      "flatten (Flatten)            (None, 2)                 0         \n",
      "_________________________________________________________________\n",
      "dense (Dense)                (None, 20)                60        \n",
      "_________________________________________________________________\n",
      "dense_1 (Dense)              (None, 10)                210       \n",
      "_________________________________________________________________\n",
      "dense_2 (Dense)              (None, 1)                 11        \n",
      "=================================================================\n",
      "Total params: 653\n",
      "Trainable params: 653\n",
      "Non-trainable params: 0\n",
      "_________________________________________________________________\n"
     ]
    }
   ],
   "source": [
    "model.summary()"
   ]
  },
  {
   "cell_type": "markdown",
   "metadata": {},
   "source": [
    "Die Input und Outputvariablen wandle ich noch zu einem Numpy Array um."
   ]
  },
  {
   "cell_type": "code",
   "execution_count": 0,
   "metadata": {
    "colab": {},
    "colab_type": "code",
    "id": "UOOVLlSOOhVC"
   },
   "outputs": [],
   "source": [
    "X_train = df['cabin_enc'].to_numpy()\n",
    "y_train = df['survived'].to_numpy()"
   ]
  },
  {
   "cell_type": "code",
   "execution_count": 0,
   "metadata": {
    "colab": {},
    "colab_type": "code",
    "id": "AIU_h2QGOn7d"
   },
   "outputs": [],
   "source": [
    "rlr = callbacks.ReduceLROnPlateau(monitor='mse', factor=0.5, patience=3, min_lr=1e-6, mode='max', verbose=1) "
   ]
  },
  {
   "cell_type": "markdown",
   "metadata": {},
   "source": [
    "Ich fitte nun das Modell 100 Epochen mit der MSE Lossfunction und dem Adamoptimizer."
   ]
  },
  {
   "cell_type": "code",
   "execution_count": 19,
   "metadata": {
    "colab": {
     "base_uri": "https://localhost:8080/",
     "height": 1000
    },
    "colab_type": "code",
    "id": "-c6XnofBOxGU",
    "outputId": "93276e0d-222b-443c-b97d-e4d54ab09ec6"
   },
   "outputs": [
    {
     "name": "stdout",
     "output_type": "stream",
     "text": [
      "Epoch 1/100\n",
      "2/2 [==============================] - 0s 6ms/step - loss: 0.6547 - mse: 0.6547 - lr: 0.0010\n",
      "Epoch 2/100\n",
      "2/2 [==============================] - 0s 4ms/step - loss: 0.6458 - mse: 0.6458 - lr: 0.0010\n",
      "Epoch 3/100\n",
      "2/2 [==============================] - 0s 3ms/step - loss: 0.6372 - mse: 0.6372 - lr: 0.0010\n",
      "Epoch 4/100\n",
      "1/2 [==============>...............] - ETA: 0s - loss: 0.6235 - mse: 0.6235\n",
      "Epoch 00004: ReduceLROnPlateau reducing learning rate to 0.0005000000237487257.\n",
      "2/2 [==============================] - 0s 3ms/step - loss: 0.6285 - mse: 0.6285 - lr: 0.0010\n",
      "Epoch 5/100\n",
      "2/2 [==============================] - 0s 2ms/step - loss: 0.6203 - mse: 0.6203 - lr: 5.0000e-04\n",
      "Epoch 6/100\n",
      "2/2 [==============================] - 0s 4ms/step - loss: 0.6160 - mse: 0.6160 - lr: 5.0000e-04\n",
      "Epoch 7/100\n",
      "1/2 [==============>...............] - ETA: 0s - loss: 0.6136 - mse: 0.6136\n",
      "Epoch 00007: ReduceLROnPlateau reducing learning rate to 0.0002500000118743628.\n",
      "2/2 [==============================] - 0s 4ms/step - loss: 0.6116 - mse: 0.6116 - lr: 5.0000e-04\n",
      "Epoch 8/100\n",
      "2/2 [==============================] - 0s 3ms/step - loss: 0.6071 - mse: 0.6071 - lr: 2.5000e-04\n",
      "Epoch 9/100\n",
      "2/2 [==============================] - 0s 4ms/step - loss: 0.6047 - mse: 0.6047 - lr: 2.5000e-04\n",
      "Epoch 10/100\n",
      "1/2 [==============>...............] - ETA: 0s - loss: 0.6148 - mse: 0.6148\n",
      "Epoch 00010: ReduceLROnPlateau reducing learning rate to 0.0001250000059371814.\n",
      "2/2 [==============================] - 0s 4ms/step - loss: 0.6022 - mse: 0.6022 - lr: 2.5000e-04\n",
      "Epoch 11/100\n",
      "2/2 [==============================] - 0s 3ms/step - loss: 0.5997 - mse: 0.5997 - lr: 1.2500e-04\n",
      "Epoch 12/100\n",
      "2/2 [==============================] - 0s 4ms/step - loss: 0.5985 - mse: 0.5985 - lr: 1.2500e-04\n",
      "Epoch 13/100\n",
      "1/2 [==============>...............] - ETA: 0s - loss: 0.6094 - mse: 0.6094\n",
      "Epoch 00013: ReduceLROnPlateau reducing learning rate to 6.25000029685907e-05.\n",
      "2/2 [==============================] - 0s 3ms/step - loss: 0.5971 - mse: 0.5971 - lr: 1.2500e-04\n",
      "Epoch 14/100\n",
      "2/2 [==============================] - 0s 2ms/step - loss: 0.5958 - mse: 0.5958 - lr: 6.2500e-05\n",
      "Epoch 15/100\n",
      "2/2 [==============================] - 0s 4ms/step - loss: 0.5952 - mse: 0.5952 - lr: 6.2500e-05\n",
      "Epoch 16/100\n",
      "1/2 [==============>...............] - ETA: 0s - loss: 0.6034 - mse: 0.6034\n",
      "Epoch 00016: ReduceLROnPlateau reducing learning rate to 3.125000148429535e-05.\n",
      "2/2 [==============================] - 0s 5ms/step - loss: 0.5945 - mse: 0.5945 - lr: 6.2500e-05\n",
      "Epoch 17/100\n",
      "2/2 [==============================] - 0s 4ms/step - loss: 0.5938 - mse: 0.5938 - lr: 3.1250e-05\n",
      "Epoch 18/100\n",
      "2/2 [==============================] - 0s 3ms/step - loss: 0.5935 - mse: 0.5935 - lr: 3.1250e-05\n",
      "Epoch 19/100\n",
      "1/2 [==============>...............] - ETA: 0s - loss: 0.5882 - mse: 0.5882\n",
      "Epoch 00019: ReduceLROnPlateau reducing learning rate to 1.5625000742147677e-05.\n",
      "2/2 [==============================] - 0s 3ms/step - loss: 0.5931 - mse: 0.5931 - lr: 3.1250e-05\n",
      "Epoch 20/100\n",
      "2/2 [==============================] - 0s 4ms/step - loss: 0.5928 - mse: 0.5928 - lr: 1.5625e-05\n",
      "Epoch 21/100\n",
      "2/2 [==============================] - 0s 4ms/step - loss: 0.5926 - mse: 0.5926 - lr: 1.5625e-05\n",
      "Epoch 22/100\n",
      "1/2 [==============>...............] - ETA: 0s - loss: 0.5942 - mse: 0.5942\n",
      "Epoch 00022: ReduceLROnPlateau reducing learning rate to 7.812500371073838e-06.\n",
      "2/2 [==============================] - 0s 4ms/step - loss: 0.5925 - mse: 0.5925 - lr: 1.5625e-05\n",
      "Epoch 23/100\n",
      "2/2 [==============================] - 0s 4ms/step - loss: 0.5923 - mse: 0.5923 - lr: 7.8125e-06\n",
      "Epoch 24/100\n",
      "2/2 [==============================] - 0s 3ms/step - loss: 0.5922 - mse: 0.5922 - lr: 7.8125e-06\n",
      "Epoch 25/100\n",
      "1/2 [==============>...............] - ETA: 0s - loss: 0.6011 - mse: 0.6011\n",
      "Epoch 00025: ReduceLROnPlateau reducing learning rate to 3.906250185536919e-06.\n",
      "2/2 [==============================] - 0s 3ms/step - loss: 0.5921 - mse: 0.5921 - lr: 7.8125e-06\n",
      "Epoch 26/100\n",
      "2/2 [==============================] - 0s 3ms/step - loss: 0.5920 - mse: 0.5920 - lr: 3.9063e-06\n",
      "Epoch 27/100\n",
      "2/2 [==============================] - 0s 3ms/step - loss: 0.5920 - mse: 0.5920 - lr: 3.9063e-06\n",
      "Epoch 28/100\n",
      "1/2 [==============>...............] - ETA: 0s - loss: 0.5795 - mse: 0.5795\n",
      "Epoch 00028: ReduceLROnPlateau reducing learning rate to 1.9531250927684596e-06.\n",
      "2/2 [==============================] - 0s 5ms/step - loss: 0.5920 - mse: 0.5920 - lr: 3.9063e-06\n",
      "Epoch 29/100\n",
      "2/2 [==============================] - 0s 3ms/step - loss: 0.5919 - mse: 0.5919 - lr: 1.9531e-06\n",
      "Epoch 30/100\n",
      "2/2 [==============================] - 0s 7ms/step - loss: 0.5919 - mse: 0.5919 - lr: 1.9531e-06\n",
      "Epoch 31/100\n",
      "1/2 [==============>...............] - ETA: 0s - loss: 0.5866 - mse: 0.5866\n",
      "Epoch 00031: ReduceLROnPlateau reducing learning rate to 1e-06.\n",
      "2/2 [==============================] - 0s 4ms/step - loss: 0.5919 - mse: 0.5919 - lr: 1.9531e-06\n",
      "Epoch 32/100\n",
      "2/2 [==============================] - 0s 3ms/step - loss: 0.5919 - mse: 0.5919 - lr: 1.0000e-06\n",
      "Epoch 33/100\n",
      "2/2 [==============================] - 0s 3ms/step - loss: 0.5918 - mse: 0.5918 - lr: 1.0000e-06\n",
      "Epoch 34/100\n",
      "2/2 [==============================] - 0s 3ms/step - loss: 0.5918 - mse: 0.5918 - lr: 1.0000e-06\n",
      "Epoch 35/100\n",
      "2/2 [==============================] - 0s 3ms/step - loss: 0.5918 - mse: 0.5918 - lr: 1.0000e-06\n",
      "Epoch 36/100\n",
      "2/2 [==============================] - 0s 2ms/step - loss: 0.5918 - mse: 0.5918 - lr: 1.0000e-06\n",
      "Epoch 37/100\n",
      "2/2 [==============================] - 0s 3ms/step - loss: 0.5918 - mse: 0.5918 - lr: 1.0000e-06\n",
      "Epoch 38/100\n",
      "2/2 [==============================] - 0s 2ms/step - loss: 0.5918 - mse: 0.5918 - lr: 1.0000e-06\n",
      "Epoch 39/100\n",
      "2/2 [==============================] - 0s 2ms/step - loss: 0.5918 - mse: 0.5918 - lr: 1.0000e-06\n",
      "Epoch 40/100\n",
      "2/2 [==============================] - 0s 3ms/step - loss: 0.5918 - mse: 0.5918 - lr: 1.0000e-06\n",
      "Epoch 41/100\n",
      "2/2 [==============================] - 0s 3ms/step - loss: 0.5918 - mse: 0.5918 - lr: 1.0000e-06\n",
      "Epoch 42/100\n",
      "2/2 [==============================] - 0s 5ms/step - loss: 0.5917 - mse: 0.5917 - lr: 1.0000e-06\n",
      "Epoch 43/100\n",
      "2/2 [==============================] - 0s 3ms/step - loss: 0.5917 - mse: 0.5917 - lr: 1.0000e-06\n",
      "Epoch 44/100\n",
      "2/2 [==============================] - 0s 5ms/step - loss: 0.5917 - mse: 0.5917 - lr: 1.0000e-06\n",
      "Epoch 45/100\n",
      "2/2 [==============================] - 0s 3ms/step - loss: 0.5917 - mse: 0.5917 - lr: 1.0000e-06\n",
      "Epoch 46/100\n",
      "2/2 [==============================] - 0s 3ms/step - loss: 0.5917 - mse: 0.5917 - lr: 1.0000e-06\n",
      "Epoch 47/100\n",
      "2/2 [==============================] - 0s 5ms/step - loss: 0.5917 - mse: 0.5917 - lr: 1.0000e-06\n",
      "Epoch 48/100\n",
      "2/2 [==============================] - 0s 3ms/step - loss: 0.5917 - mse: 0.5917 - lr: 1.0000e-06\n",
      "Epoch 49/100\n",
      "2/2 [==============================] - 0s 4ms/step - loss: 0.5917 - mse: 0.5917 - lr: 1.0000e-06\n",
      "Epoch 50/100\n",
      "2/2 [==============================] - 0s 3ms/step - loss: 0.5917 - mse: 0.5917 - lr: 1.0000e-06\n",
      "Epoch 51/100\n",
      "2/2 [==============================] - 0s 6ms/step - loss: 0.5916 - mse: 0.5916 - lr: 1.0000e-06\n",
      "Epoch 52/100\n",
      "2/2 [==============================] - 0s 3ms/step - loss: 0.5916 - mse: 0.5916 - lr: 1.0000e-06\n",
      "Epoch 53/100\n",
      "2/2 [==============================] - 0s 3ms/step - loss: 0.5916 - mse: 0.5916 - lr: 1.0000e-06\n",
      "Epoch 54/100\n",
      "2/2 [==============================] - 0s 3ms/step - loss: 0.5916 - mse: 0.5916 - lr: 1.0000e-06\n",
      "Epoch 55/100\n",
      "2/2 [==============================] - 0s 3ms/step - loss: 0.5916 - mse: 0.5916 - lr: 1.0000e-06\n",
      "Epoch 56/100\n",
      "2/2 [==============================] - 0s 3ms/step - loss: 0.5916 - mse: 0.5916 - lr: 1.0000e-06\n",
      "Epoch 57/100\n",
      "2/2 [==============================] - 0s 3ms/step - loss: 0.5916 - mse: 0.5916 - lr: 1.0000e-06\n",
      "Epoch 58/100\n",
      "2/2 [==============================] - 0s 4ms/step - loss: 0.5916 - mse: 0.5916 - lr: 1.0000e-06\n",
      "Epoch 59/100\n",
      "2/2 [==============================] - 0s 3ms/step - loss: 0.5916 - mse: 0.5916 - lr: 1.0000e-06\n",
      "Epoch 60/100\n",
      "2/2 [==============================] - 0s 3ms/step - loss: 0.5916 - mse: 0.5916 - lr: 1.0000e-06\n",
      "Epoch 61/100\n",
      "2/2 [==============================] - 0s 3ms/step - loss: 0.5915 - mse: 0.5915 - lr: 1.0000e-06\n",
      "Epoch 62/100\n",
      "2/2 [==============================] - 0s 3ms/step - loss: 0.5915 - mse: 0.5915 - lr: 1.0000e-06\n",
      "Epoch 63/100\n",
      "2/2 [==============================] - 0s 3ms/step - loss: 0.5915 - mse: 0.5915 - lr: 1.0000e-06\n",
      "Epoch 64/100\n",
      "2/2 [==============================] - 0s 3ms/step - loss: 0.5915 - mse: 0.5915 - lr: 1.0000e-06\n",
      "Epoch 65/100\n",
      "2/2 [==============================] - 0s 3ms/step - loss: 0.5915 - mse: 0.5915 - lr: 1.0000e-06\n",
      "Epoch 66/100\n",
      "2/2 [==============================] - 0s 3ms/step - loss: 0.5915 - mse: 0.5915 - lr: 1.0000e-06\n",
      "Epoch 67/100\n",
      "2/2 [==============================] - 0s 4ms/step - loss: 0.5915 - mse: 0.5915 - lr: 1.0000e-06\n",
      "Epoch 68/100\n",
      "2/2 [==============================] - 0s 3ms/step - loss: 0.5915 - mse: 0.5915 - lr: 1.0000e-06\n",
      "Epoch 69/100\n",
      "2/2 [==============================] - 0s 4ms/step - loss: 0.5915 - mse: 0.5915 - lr: 1.0000e-06\n",
      "Epoch 70/100\n",
      "2/2 [==============================] - 0s 3ms/step - loss: 0.5914 - mse: 0.5914 - lr: 1.0000e-06\n",
      "Epoch 71/100\n",
      "2/2 [==============================] - 0s 3ms/step - loss: 0.5914 - mse: 0.5914 - lr: 1.0000e-06\n",
      "Epoch 72/100\n",
      "2/2 [==============================] - 0s 2ms/step - loss: 0.5914 - mse: 0.5914 - lr: 1.0000e-06\n",
      "Epoch 73/100\n",
      "2/2 [==============================] - 0s 3ms/step - loss: 0.5914 - mse: 0.5914 - lr: 1.0000e-06\n",
      "Epoch 74/100\n",
      "2/2 [==============================] - 0s 3ms/step - loss: 0.5914 - mse: 0.5914 - lr: 1.0000e-06\n",
      "Epoch 75/100\n",
      "2/2 [==============================] - 0s 6ms/step - loss: 0.5914 - mse: 0.5914 - lr: 1.0000e-06\n",
      "Epoch 76/100\n",
      "2/2 [==============================] - 0s 5ms/step - loss: 0.5914 - mse: 0.5914 - lr: 1.0000e-06\n",
      "Epoch 77/100\n",
      "2/2 [==============================] - 0s 4ms/step - loss: 0.5914 - mse: 0.5914 - lr: 1.0000e-06\n",
      "Epoch 78/100\n",
      "2/2 [==============================] - 0s 3ms/step - loss: 0.5914 - mse: 0.5914 - lr: 1.0000e-06\n",
      "Epoch 79/100\n",
      "2/2 [==============================] - 0s 10ms/step - loss: 0.5913 - mse: 0.5913 - lr: 1.0000e-06\n",
      "Epoch 80/100\n",
      "2/2 [==============================] - 0s 3ms/step - loss: 0.5913 - mse: 0.5913 - lr: 1.0000e-06\n",
      "Epoch 81/100\n",
      "2/2 [==============================] - 0s 3ms/step - loss: 0.5913 - mse: 0.5913 - lr: 1.0000e-06\n",
      "Epoch 82/100\n",
      "2/2 [==============================] - 0s 3ms/step - loss: 0.5913 - mse: 0.5913 - lr: 1.0000e-06\n",
      "Epoch 83/100\n",
      "2/2 [==============================] - 0s 3ms/step - loss: 0.5913 - mse: 0.5913 - lr: 1.0000e-06\n",
      "Epoch 84/100\n",
      "2/2 [==============================] - 0s 3ms/step - loss: 0.5913 - mse: 0.5913 - lr: 1.0000e-06\n",
      "Epoch 85/100\n",
      "2/2 [==============================] - 0s 3ms/step - loss: 0.5913 - mse: 0.5913 - lr: 1.0000e-06\n",
      "Epoch 86/100\n",
      "2/2 [==============================] - 0s 3ms/step - loss: 0.5913 - mse: 0.5913 - lr: 1.0000e-06\n",
      "Epoch 87/100\n",
      "2/2 [==============================] - 0s 3ms/step - loss: 0.5913 - mse: 0.5913 - lr: 1.0000e-06\n",
      "Epoch 88/100\n",
      "2/2 [==============================] - 0s 3ms/step - loss: 0.5913 - mse: 0.5913 - lr: 1.0000e-06\n",
      "Epoch 89/100\n",
      "2/2 [==============================] - 0s 4ms/step - loss: 0.5912 - mse: 0.5912 - lr: 1.0000e-06\n",
      "Epoch 90/100\n",
      "2/2 [==============================] - 0s 3ms/step - loss: 0.5912 - mse: 0.5912 - lr: 1.0000e-06\n",
      "Epoch 91/100\n",
      "2/2 [==============================] - 0s 4ms/step - loss: 0.5912 - mse: 0.5912 - lr: 1.0000e-06\n",
      "Epoch 92/100\n",
      "2/2 [==============================] - 0s 3ms/step - loss: 0.5912 - mse: 0.5912 - lr: 1.0000e-06\n",
      "Epoch 93/100\n",
      "2/2 [==============================] - 0s 4ms/step - loss: 0.5912 - mse: 0.5912 - lr: 1.0000e-06\n",
      "Epoch 94/100\n",
      "2/2 [==============================] - 0s 4ms/step - loss: 0.5912 - mse: 0.5912 - lr: 1.0000e-06\n",
      "Epoch 95/100\n",
      "2/2 [==============================] - 0s 3ms/step - loss: 0.5912 - mse: 0.5912 - lr: 1.0000e-06\n",
      "Epoch 96/100\n",
      "2/2 [==============================] - 0s 3ms/step - loss: 0.5912 - mse: 0.5912 - lr: 1.0000e-06\n",
      "Epoch 97/100\n",
      "2/2 [==============================] - 0s 4ms/step - loss: 0.5912 - mse: 0.5912 - lr: 1.0000e-06\n",
      "Epoch 98/100\n",
      "2/2 [==============================] - 0s 3ms/step - loss: 0.5911 - mse: 0.5911 - lr: 1.0000e-06\n",
      "Epoch 99/100\n",
      "2/2 [==============================] - 0s 3ms/step - loss: 0.5911 - mse: 0.5911 - lr: 1.0000e-06\n",
      "Epoch 100/100\n",
      "2/2 [==============================] - 0s 3ms/step - loss: 0.5911 - mse: 0.5911 - lr: 1.0000e-06\n"
     ]
    },
    {
     "data": {
      "text/plain": [
       "<tensorflow.python.keras.callbacks.History at 0x7f4fae669ba8>"
      ]
     },
     "execution_count": 19,
     "metadata": {
      "tags": []
     },
     "output_type": "execute_result"
    }
   ],
   "source": [
    "model.compile(loss = \"mse\", optimizer = \"adam\", metrics=[\"mse\"])\n",
    "model.fit(X_train, y_train, epochs = 100, batch_size = 256, callbacks=[rlr])"
   ]
  },
  {
   "cell_type": "markdown",
   "metadata": {},
   "source": [
    "Hier lasse ich mir nun die 2 dimensionalen Embeddings anzeigen:"
   ]
  },
  {
   "cell_type": "code",
   "execution_count": 20,
   "metadata": {
    "colab": {
     "base_uri": "https://localhost:8080/",
     "height": 1000
    },
    "colab_type": "code",
    "id": "HkTuqgJtOTyP",
    "outputId": "12180586-7e7c-400b-fdad-4e0288eb7f4d"
   },
   "outputs": [
    {
     "name": "stdout",
     "output_type": "stream",
     "text": [
      "[[ 1.01056844e-02 -9.07897577e-03]\n",
      " [-8.02470744e-03  3.20438645e-03]\n",
      " [-4.91258688e-02  1.52684217e-02]\n",
      " [ 2.51664445e-02  3.22822407e-02]\n",
      " [-3.43073495e-02 -2.06822138e-02]\n",
      " [-2.29047555e-02  1.84141807e-02]\n",
      " [-2.74149030e-02  1.19980406e-02]\n",
      " [ 2.38940469e-03  4.02955599e-02]\n",
      " [-4.00205590e-02  8.97234865e-03]\n",
      " [ 1.01123489e-02 -3.20488103e-02]\n",
      " [ 2.08947938e-02  6.00879872e-03]\n",
      " [-4.19120416e-02  1.37008792e-02]\n",
      " [ 2.10849028e-02 -8.14164057e-03]\n",
      " [ 7.56922597e-03 -3.06215063e-02]\n",
      " [ 3.24234404e-02 -1.10271536e-02]\n",
      " [ 3.90105322e-02 -3.09144631e-02]\n",
      " [ 3.46128419e-02  8.88528489e-03]\n",
      " [-2.02657981e-03 -3.65962572e-02]\n",
      " [ 2.90029999e-02  3.83580178e-02]\n",
      " [-1.02682542e-02  1.89076979e-02]\n",
      " [-3.06754000e-02  2.38042064e-02]\n",
      " [ 5.47744147e-02 -3.39064077e-02]\n",
      " [ 3.00835744e-02  1.78662445e-02]\n",
      " [ 8.52268748e-03 -3.21485028e-02]\n",
      " [ 2.66541354e-02 -1.49262128e-02]\n",
      " [ 5.22828382e-03 -4.38472489e-03]\n",
      " [ 4.79239486e-02  2.67795753e-02]\n",
      " [-1.17148068e-02  2.91758310e-02]\n",
      " [-6.76712894e-04 -2.76255477e-02]\n",
      " [ 3.09386402e-02 -1.21226246e-02]\n",
      " [-1.25110019e-02 -2.70584803e-02]\n",
      " [ 1.31539106e-02  1.86302643e-02]\n",
      " [ 4.62071854e-04 -2.82907039e-02]\n",
      " [-3.11575886e-02  2.13965755e-02]\n",
      " [ 4.12135683e-02  1.50943045e-02]\n",
      " [-2.44349409e-02 -9.60832834e-03]\n",
      " [-7.54299061e-03 -2.74899118e-02]\n",
      " [ 9.09230858e-03  1.39293810e-02]\n",
      " [ 3.92893963e-02 -2.25422215e-02]\n",
      " [ 1.67799927e-02  4.16715182e-02]\n",
      " [-3.28551792e-02 -2.62830034e-02]\n",
      " [ 5.01278713e-02 -2.93401740e-02]\n",
      " [-9.96442698e-03 -3.18541601e-02]\n",
      " [-3.90856192e-02  5.01010716e-02]\n",
      " [ 1.49388928e-02  6.80412352e-03]\n",
      " [-2.13784352e-02  2.26259455e-02]\n",
      " [-8.14703107e-03 -5.51156998e-02]\n",
      " [-2.57864185e-02  3.77647802e-02]\n",
      " [ 5.22806346e-02 -3.06430217e-02]\n",
      " [-3.34226042e-02  2.01450363e-02]\n",
      " [-4.54413705e-03  8.33518710e-03]\n",
      " [ 1.68033876e-02  2.42851954e-02]\n",
      " [-2.43642312e-02 -3.72067280e-02]\n",
      " [ 7.58917024e-03 -5.17734438e-02]\n",
      " [ 4.27645892e-02  3.93164232e-02]\n",
      " [ 1.35713974e-02 -3.44910193e-03]\n",
      " [-2.68222149e-02 -2.65151057e-02]\n",
      " [ 4.15280871e-02  2.52025239e-02]\n",
      " [ 1.20629082e-02  1.54065397e-02]\n",
      " [-1.96640454e-02 -9.14804731e-03]\n",
      " [-2.84052603e-02 -4.71201055e-02]\n",
      " [-2.37703007e-02  2.17378438e-02]\n",
      " [ 2.33444534e-02 -1.97170898e-02]\n",
      " [ 9.46444180e-03  9.70047025e-04]\n",
      " [ 4.82556000e-02 -2.91744582e-02]\n",
      " [-2.79275049e-02 -3.27973254e-02]\n",
      " [-6.19745441e-03  2.38033980e-02]\n",
      " [-5.27821621e-03  2.34042440e-04]\n",
      " [ 7.30740232e-03 -3.34754586e-02]\n",
      " [ 3.69178988e-02  3.72627340e-02]\n",
      " [ 2.44466290e-02  2.35350733e-03]\n",
      " [-3.58604304e-02 -3.97523083e-02]\n",
      " [ 1.34109287e-02  8.36481433e-03]\n",
      " [-2.21715085e-02  3.24031450e-02]\n",
      " [ 3.89853567e-02  4.17994373e-02]\n",
      " [ 2.68061608e-02 -5.16511314e-02]\n",
      " [ 4.12588008e-02  3.14072408e-02]\n",
      " [-1.03474269e-02 -4.51536067e-02]\n",
      " [ 3.03276461e-02  2.37497948e-02]\n",
      " [-3.33631337e-02  3.85259725e-02]\n",
      " [-1.08445948e-02 -5.00358529e-02]\n",
      " [ 3.13974172e-03  1.18609145e-02]\n",
      " [ 1.13034286e-02  3.66723686e-02]\n",
      " [-2.18361337e-02  3.16284336e-02]\n",
      " [-2.17336547e-02  3.56478505e-02]\n",
      " [-4.50582728e-02  2.10523680e-02]\n",
      " [-1.32664293e-02 -4.37652804e-02]\n",
      " [ 9.85506456e-03  1.18341828e-02]\n",
      " [ 4.38201660e-03 -5.01666255e-02]\n",
      " [-4.43691052e-02 -7.04118190e-03]\n",
      " [ 6.70021260e-03 -4.52081785e-02]\n",
      " [-9.43104457e-03 -2.00664923e-02]\n",
      " [ 3.09045501e-02 -1.10733947e-02]\n",
      " [-1.67779922e-02 -5.67489602e-02]\n",
      " [ 9.32448450e-03 -8.35941080e-03]\n",
      " [ 2.51313820e-02 -2.40497924e-02]\n",
      " [-5.04565947e-02 -2.76102480e-02]\n",
      " [-3.62283327e-02  1.17352151e-03]\n",
      " [-3.45168859e-02  2.42563579e-02]\n",
      " [ 1.88672803e-02 -2.87721935e-03]\n",
      " [ 3.25593166e-02  4.25253436e-02]\n",
      " [ 2.58751120e-02  9.35864076e-03]\n",
      " [ 2.16362737e-02  3.36209871e-02]\n",
      " [-1.65878721e-02 -1.50121199e-02]\n",
      " [ 3.86315398e-02 -4.67434786e-02]\n",
      " [ 4.31473218e-02 -2.05655172e-02]\n",
      " [-9.50014126e-03  3.51555720e-02]\n",
      " [-3.19475308e-02  3.35458033e-02]\n",
      " [-4.85477410e-02 -2.79466081e-02]\n",
      " [ 3.09602115e-02  3.85950729e-02]\n",
      " [ 3.99034517e-03 -1.49909621e-02]\n",
      " [-5.03503717e-03 -2.45208126e-02]\n",
      " [ 5.55389076e-02 -3.64192873e-02]\n",
      " [ 1.92498025e-02 -5.39360829e-02]\n",
      " [-3.80643904e-02 -2.25609019e-02]\n",
      " [ 1.56090157e-02  2.44672447e-02]\n",
      " [ 3.09542250e-02  6.90556830e-03]\n",
      " [-1.55971525e-02  3.02394778e-02]\n",
      " [-4.18418162e-02  2.47139689e-02]\n",
      " [ 8.45207740e-03 -7.59767572e-05]\n",
      " [ 1.40590901e-02  1.04841143e-02]\n",
      " [-3.21073867e-02  3.00733745e-02]\n",
      " [ 4.59502731e-03 -2.98632886e-02]\n",
      " [ 4.64178948e-03  2.44648792e-02]\n",
      " [ 4.66844887e-02 -2.94197910e-02]\n",
      " [ 1.75901188e-03 -1.82509515e-02]\n",
      " [-3.00777517e-02 -2.27111927e-03]\n",
      " [ 3.40852067e-02  2.32345462e-02]\n",
      " [ 2.33977120e-02  2.22726800e-02]\n",
      " [ 1.60413608e-02 -5.94700163e-04]\n",
      " [-7.43004773e-03 -2.59649362e-02]\n",
      " [ 2.45959335e-03 -4.88149226e-02]\n",
      " [ 4.53780107e-02 -2.24082768e-02]\n",
      " [ 8.27690680e-03  3.16846208e-03]\n",
      " [ 9.86050698e-04  1.68229472e-02]\n",
      " [ 2.86378805e-02 -2.63809543e-02]\n",
      " [ 2.13050880e-02 -1.19875697e-02]\n",
      " [ 8.87066592e-03 -4.12963554e-02]\n",
      " [-1.30626354e-02  2.03943029e-02]\n",
      " [-2.19655856e-02 -2.58460138e-02]\n",
      " [-2.56466474e-02  4.86925710e-03]\n",
      " [ 3.82718220e-02  3.10924705e-02]\n",
      " [ 4.26405370e-02  1.46363312e-02]\n",
      " [ 3.73033285e-02 -1.44724762e-02]\n",
      " [ 5.00171743e-02 -9.77236219e-03]\n",
      " [ 2.23770980e-02  1.23583106e-02]\n",
      " [ 4.32437882e-02  4.76693269e-03]\n",
      " [ 6.72898861e-03  2.06913650e-02]\n",
      " [ 1.21398000e-02 -2.19689216e-02]\n",
      " [ 2.20959596e-02 -5.05468920e-02]\n",
      " [ 4.77459282e-04 -2.65057664e-02]\n",
      " [-3.10530458e-02  2.19313391e-02]\n",
      " [-3.84774096e-02 -1.87992230e-02]\n",
      " [ 6.82596699e-04 -3.76198329e-02]\n",
      " [-3.88777219e-02  2.19921954e-02]\n",
      " [-1.89564396e-02  3.90082747e-02]\n",
      " [-3.57055217e-02  1.80569571e-02]\n",
      " [ 4.98313420e-02  4.22411412e-02]\n",
      " [ 3.51960808e-02 -5.17565757e-02]\n",
      " [-1.17084188e-02 -1.02403136e-02]\n",
      " [-1.04998574e-02  1.51989898e-02]\n",
      " [-2.13372745e-02 -3.46605740e-02]\n",
      " [ 3.53554636e-02  2.20350586e-02]\n",
      " [ 4.76255938e-02 -9.13974270e-03]\n",
      " [-1.52955903e-02  3.29187023e-03]\n",
      " [-2.59756092e-02  3.36295948e-03]\n",
      " [ 3.33990231e-02  4.69047530e-03]\n",
      " [-2.45095305e-02 -1.22283790e-02]\n",
      " [ 3.71164009e-02 -1.74226973e-03]\n",
      " [-2.30348557e-02  4.10359018e-02]\n",
      " [ 2.24193744e-02  3.31905074e-02]\n",
      " [ 6.22498291e-03 -2.18805275e-03]\n",
      " [ 1.29138008e-02 -2.77184620e-02]\n",
      " [-8.69172532e-03 -5.95205016e-02]\n",
      " [ 2.45118290e-02 -2.51859110e-02]\n",
      " [-4.70012166e-02  1.25671690e-02]\n",
      " [ 1.51960133e-02  4.17137668e-02]\n",
      " [-1.32991495e-02 -5.23548275e-02]\n",
      " [ 1.24899801e-02 -3.56322154e-02]\n",
      " [-4.77781296e-02  2.83206142e-02]\n",
      " [-5.14456350e-03 -3.87732200e-02]\n",
      " [-5.99556463e-03  3.42808925e-02]\n",
      " [-3.38575430e-03 -2.89567299e-02]\n",
      " [-1.23173501e-02 -5.80291525e-02]\n",
      " [-2.54100449e-02 -4.79447357e-02]\n",
      " [-5.09848222e-02  8.64421856e-03]]\n"
     ]
    }
   ],
   "source": [
    "embs = model.get_layer(\"cabin\").get_weights()[0]\n",
    "print(embs)"
   ]
  },
  {
   "cell_type": "markdown",
   "metadata": {},
   "source": [
    "In dem Plot kann man nun sehr gut die Lage der unterschiedlichen Werte von Cabin erkennen."
   ]
  },
  {
   "cell_type": "code",
   "execution_count": 22,
   "metadata": {
    "colab": {
     "base_uri": "https://localhost:8080/",
     "height": 273
    },
    "colab_type": "code",
    "id": "zndj5GrmPzQw",
    "outputId": "4753a488-003b-40b6-94c4-1266d2f03067"
   },
   "outputs": [
    {
     "data": {
      "image/png": "[encoded data removed]",
      "text/plain": [
       "<Figure size 432x288 with 1 Axes>"
      ]
     },
     "metadata": {
      "needs_background": "light",
      "tags": []
     },
     "output_type": "display_data"
    }
   ],
   "source": [
    "labels = df[[\"cabin\", \"cabin_enc\"]].drop_duplicates().sort_values(\"cabin_enc\").reset_index(drop=True)\n",
    "\n",
    "for i,e in enumerate(embs):\n",
    "    plt.scatter(e[0], e[1])\n",
    "    plt.annotate(labels.loc[i, \"cabin\"], (e[0], e[1]), textcoords=\"offset points\", xytext=(0,10), ha='center') "
   ]
  },
  {
   "cell_type": "markdown",
   "metadata": {
    "colab_type": "text",
    "id": "Xc7UnbI5VRsO"
   },
   "source": [
    "Nun embedden wir noch die Spalte Fare. Diese hat 112 unterschiedliche Werte vorzuweisen. Das Modell lasse ich gleich wie oben bei der Spalte Cabin."
   ]
  },
  {
   "cell_type": "code",
   "execution_count": 0,
   "metadata": {
    "colab": {},
    "colab_type": "code",
    "id": "nlv0J3S7WMba"
   },
   "outputs": [],
   "source": [
    "df[\"fare_enc\"] = lbl_enc.fit_transform(df[\"fare\"].fillna(\"-1\").astype(str).values)"
   ]
  },
  {
   "cell_type": "code",
   "execution_count": 33,
   "metadata": {
    "colab": {
     "base_uri": "https://localhost:8080/",
     "height": 34
    },
    "colab_type": "code",
    "id": "FU8zz8GIU7jr",
    "outputId": "667a168d-1b61-47c6-8c8a-2038d6d78a99"
   },
   "outputs": [
    {
     "name": "stdout",
     "output_type": "stream",
     "text": [
      "112\n"
     ]
    }
   ],
   "source": [
    "NUM_UNIQUE_VALUES = int(df.fare_enc.nunique())\n",
    "print(NUM_UNIQUE_VALUES)"
   ]
  },
  {
   "cell_type": "code",
   "execution_count": 0,
   "metadata": {
    "colab": {},
    "colab_type": "code",
    "id": "NAQE-mCHVcO8"
   },
   "outputs": [],
   "source": [
    "inp = layers.Input(shape=(1,))\n",
    "out = layers.Embedding(NUM_UNIQUE_VALUES, EMBED_DIM, name=\"fare\")(inp)\n",
    "out = layers.Flatten()(out)\n",
    "out = layers.Dense(20, activation=\"relu\")(out)\n",
    "out = layers.Dense(10, activation=\"relu\")(out)\n",
    "out = layers.Dense(1)(out)"
   ]
  },
  {
   "cell_type": "code",
   "execution_count": 0,
   "metadata": {
    "colab": {},
    "colab_type": "code",
    "id": "mIy8W1omVpxd"
   },
   "outputs": [],
   "source": [
    "model = Model(inp, out)"
   ]
  },
  {
   "cell_type": "code",
   "execution_count": 0,
   "metadata": {
    "colab": {},
    "colab_type": "code",
    "id": "JPp9KebyVwdH"
   },
   "outputs": [],
   "source": [
    "X_train = df['fare_enc'].to_numpy()\n",
    "y_train = df['survived'].to_numpy()"
   ]
  },
  {
   "cell_type": "code",
   "execution_count": 0,
   "metadata": {
    "colab": {},
    "colab_type": "code",
    "id": "1D2SBSXtV4cW"
   },
   "outputs": [],
   "source": [
    "rlr2 = callbacks.ReduceLROnPlateau(monitor='mse', factor=0.5, patience=3, min_lr=1e-6, mode='max', verbose=1) "
   ]
  },
  {
   "cell_type": "code",
   "execution_count": 38,
   "metadata": {
    "colab": {
     "base_uri": "https://localhost:8080/",
     "height": 1000
    },
    "colab_type": "code",
    "id": "DX5KPrz2WAmX",
    "outputId": "03bbbae7-e7ba-4627-978b-98ffea94888d"
   },
   "outputs": [
    {
     "name": "stdout",
     "output_type": "stream",
     "text": [
      "Epoch 1/100\n",
      "2/2 [==============================] - 0s 2ms/step - loss: 0.6597 - mse: 0.6597 - lr: 0.0010\n",
      "Epoch 2/100\n",
      "2/2 [==============================] - 0s 2ms/step - loss: 0.6405 - mse: 0.6405 - lr: 0.0010\n",
      "Epoch 3/100\n",
      "2/2 [==============================] - 0s 2ms/step - loss: 0.6258 - mse: 0.6258 - lr: 0.0010\n",
      "Epoch 4/100\n",
      "1/2 [==============>...............] - ETA: 0s - loss: 0.6077 - mse: 0.6077\n",
      "Epoch 00004: ReduceLROnPlateau reducing learning rate to 0.0005000000237487257.\n",
      "2/2 [==============================] - 0s 3ms/step - loss: 0.6119 - mse: 0.6119 - lr: 0.0010\n",
      "Epoch 5/100\n",
      "2/2 [==============================] - 0s 2ms/step - loss: 0.5983 - mse: 0.5983 - lr: 5.0000e-04\n",
      "Epoch 6/100\n",
      "2/2 [==============================] - 0s 2ms/step - loss: 0.5911 - mse: 0.5911 - lr: 5.0000e-04\n",
      "Epoch 7/100\n",
      "1/2 [==============>...............] - ETA: 0s - loss: 0.5858 - mse: 0.5858\n",
      "Epoch 00007: ReduceLROnPlateau reducing learning rate to 0.0002500000118743628.\n",
      "2/2 [==============================] - 0s 3ms/step - loss: 0.5839 - mse: 0.5839 - lr: 5.0000e-04\n",
      "Epoch 8/100\n",
      "2/2 [==============================] - 0s 2ms/step - loss: 0.5768 - mse: 0.5768 - lr: 2.5000e-04\n",
      "Epoch 9/100\n",
      "2/2 [==============================] - 0s 3ms/step - loss: 0.5731 - mse: 0.5731 - lr: 2.5000e-04\n",
      "Epoch 10/100\n",
      "1/2 [==============>...............] - ETA: 0s - loss: 0.5816 - mse: 0.5816\n",
      "Epoch 00010: ReduceLROnPlateau reducing learning rate to 0.0001250000059371814.\n",
      "2/2 [==============================] - 0s 6ms/step - loss: 0.5694 - mse: 0.5694 - lr: 2.5000e-04\n",
      "Epoch 11/100\n",
      "2/2 [==============================] - 0s 2ms/step - loss: 0.5658 - mse: 0.5658 - lr: 1.2500e-04\n",
      "Epoch 12/100\n",
      "2/2 [==============================] - 0s 2ms/step - loss: 0.5639 - mse: 0.5639 - lr: 1.2500e-04\n",
      "Epoch 13/100\n",
      "1/2 [==============>...............] - ETA: 0s - loss: 0.5739 - mse: 0.5739\n",
      "Epoch 00013: ReduceLROnPlateau reducing learning rate to 6.25000029685907e-05.\n",
      "2/2 [==============================] - 0s 3ms/step - loss: 0.5620 - mse: 0.5620 - lr: 1.2500e-04\n",
      "Epoch 14/100\n",
      "2/2 [==============================] - 0s 3ms/step - loss: 0.5601 - mse: 0.5601 - lr: 6.2500e-05\n",
      "Epoch 15/100\n",
      "2/2 [==============================] - 0s 2ms/step - loss: 0.5592 - mse: 0.5592 - lr: 6.2500e-05\n",
      "Epoch 16/100\n",
      "1/2 [==============>...............] - ETA: 0s - loss: 0.5668 - mse: 0.5668\n",
      "Epoch 00016: ReduceLROnPlateau reducing learning rate to 3.125000148429535e-05.\n",
      "2/2 [==============================] - 0s 2ms/step - loss: 0.5582 - mse: 0.5582 - lr: 6.2500e-05\n",
      "Epoch 17/100\n",
      "2/2 [==============================] - 0s 2ms/step - loss: 0.5573 - mse: 0.5573 - lr: 3.1250e-05\n",
      "Epoch 18/100\n",
      "2/2 [==============================] - 0s 2ms/step - loss: 0.5568 - mse: 0.5568 - lr: 3.1250e-05\n",
      "Epoch 19/100\n",
      "1/2 [==============>...............] - ETA: 0s - loss: 0.5516 - mse: 0.5516\n",
      "Epoch 00019: ReduceLROnPlateau reducing learning rate to 1.5625000742147677e-05.\n",
      "2/2 [==============================] - 0s 3ms/step - loss: 0.5563 - mse: 0.5563 - lr: 3.1250e-05\n",
      "Epoch 20/100\n",
      "2/2 [==============================] - 0s 2ms/step - loss: 0.5558 - mse: 0.5558 - lr: 1.5625e-05\n",
      "Epoch 21/100\n",
      "2/2 [==============================] - 0s 2ms/step - loss: 0.5556 - mse: 0.5556 - lr: 1.5625e-05\n",
      "Epoch 22/100\n",
      "1/2 [==============>...............] - ETA: 0s - loss: 0.5577 - mse: 0.5577\n",
      "Epoch 00022: ReduceLROnPlateau reducing learning rate to 7.812500371073838e-06.\n",
      "2/2 [==============================] - 0s 3ms/step - loss: 0.5553 - mse: 0.5553 - lr: 1.5625e-05\n",
      "Epoch 23/100\n",
      "2/2 [==============================] - 0s 2ms/step - loss: 0.5551 - mse: 0.5551 - lr: 7.8125e-06\n",
      "Epoch 24/100\n",
      "2/2 [==============================] - 0s 3ms/step - loss: 0.5550 - mse: 0.5550 - lr: 7.8125e-06\n",
      "Epoch 25/100\n",
      "1/2 [==============>...............] - ETA: 0s - loss: 0.5625 - mse: 0.5625\n",
      "Epoch 00025: ReduceLROnPlateau reducing learning rate to 3.906250185536919e-06.\n",
      "2/2 [==============================] - 0s 6ms/step - loss: 0.5549 - mse: 0.5549 - lr: 7.8125e-06\n",
      "Epoch 26/100\n",
      "2/2 [==============================] - 0s 2ms/step - loss: 0.5547 - mse: 0.5547 - lr: 3.9063e-06\n",
      "Epoch 27/100\n",
      "2/2 [==============================] - 0s 2ms/step - loss: 0.5547 - mse: 0.5547 - lr: 3.9063e-06\n",
      "Epoch 28/100\n",
      "1/2 [==============>...............] - ETA: 0s - loss: 0.5426 - mse: 0.5426\n",
      "Epoch 00028: ReduceLROnPlateau reducing learning rate to 1.9531250927684596e-06.\n",
      "2/2 [==============================] - 0s 4ms/step - loss: 0.5546 - mse: 0.5546 - lr: 3.9063e-06\n",
      "Epoch 29/100\n",
      "2/2 [==============================] - 0s 3ms/step - loss: 0.5546 - mse: 0.5546 - lr: 1.9531e-06\n",
      "Epoch 30/100\n",
      "2/2 [==============================] - 0s 3ms/step - loss: 0.5545 - mse: 0.5545 - lr: 1.9531e-06\n",
      "Epoch 31/100\n",
      "1/2 [==============>...............] - ETA: 0s - loss: 0.5505 - mse: 0.5505\n",
      "Epoch 00031: ReduceLROnPlateau reducing learning rate to 1e-06.\n",
      "2/2 [==============================] - 0s 2ms/step - loss: 0.5545 - mse: 0.5545 - lr: 1.9531e-06\n",
      "Epoch 32/100\n",
      "2/2 [==============================] - 0s 2ms/step - loss: 0.5545 - mse: 0.5545 - lr: 1.0000e-06\n",
      "Epoch 33/100\n",
      "2/2 [==============================] - 0s 3ms/step - loss: 0.5544 - mse: 0.5544 - lr: 1.0000e-06\n",
      "Epoch 34/100\n",
      "2/2 [==============================] - 0s 2ms/step - loss: 0.5544 - mse: 0.5544 - lr: 1.0000e-06\n",
      "Epoch 35/100\n",
      "2/2 [==============================] - 0s 2ms/step - loss: 0.5544 - mse: 0.5544 - lr: 1.0000e-06\n",
      "Epoch 36/100\n",
      "2/2 [==============================] - 0s 3ms/step - loss: 0.5544 - mse: 0.5544 - lr: 1.0000e-06\n",
      "Epoch 37/100\n",
      "2/2 [==============================] - 0s 3ms/step - loss: 0.5544 - mse: 0.5544 - lr: 1.0000e-06\n",
      "Epoch 38/100\n",
      "2/2 [==============================] - 0s 3ms/step - loss: 0.5544 - mse: 0.5544 - lr: 1.0000e-06\n",
      "Epoch 39/100\n",
      "2/2 [==============================] - 0s 3ms/step - loss: 0.5544 - mse: 0.5544 - lr: 1.0000e-06\n",
      "Epoch 40/100\n",
      "2/2 [==============================] - 0s 2ms/step - loss: 0.5543 - mse: 0.5543 - lr: 1.0000e-06\n",
      "Epoch 41/100\n",
      "2/2 [==============================] - 0s 3ms/step - loss: 0.5543 - mse: 0.5543 - lr: 1.0000e-06\n",
      "Epoch 42/100\n",
      "2/2 [==============================] - 0s 2ms/step - loss: 0.5543 - mse: 0.5543 - lr: 1.0000e-06\n",
      "Epoch 43/100\n",
      "2/2 [==============================] - 0s 2ms/step - loss: 0.5543 - mse: 0.5543 - lr: 1.0000e-06\n",
      "Epoch 44/100\n",
      "2/2 [==============================] - 0s 3ms/step - loss: 0.5543 - mse: 0.5543 - lr: 1.0000e-06\n",
      "Epoch 45/100\n",
      "2/2 [==============================] - 0s 11ms/step - loss: 0.5543 - mse: 0.5543 - lr: 1.0000e-06\n",
      "Epoch 46/100\n",
      "2/2 [==============================] - 0s 2ms/step - loss: 0.5542 - mse: 0.5542 - lr: 1.0000e-06\n",
      "Epoch 47/100\n",
      "2/2 [==============================] - 0s 3ms/step - loss: 0.5542 - mse: 0.5542 - lr: 1.0000e-06\n",
      "Epoch 48/100\n",
      "2/2 [==============================] - 0s 2ms/step - loss: 0.5542 - mse: 0.5542 - lr: 1.0000e-06\n",
      "Epoch 49/100\n",
      "2/2 [==============================] - 0s 2ms/step - loss: 0.5542 - mse: 0.5542 - lr: 1.0000e-06\n",
      "Epoch 50/100\n",
      "2/2 [==============================] - 0s 3ms/step - loss: 0.5542 - mse: 0.5542 - lr: 1.0000e-06\n",
      "Epoch 51/100\n",
      "2/2 [==============================] - 0s 3ms/step - loss: 0.5542 - mse: 0.5542 - lr: 1.0000e-06\n",
      "Epoch 52/100\n",
      "2/2 [==============================] - 0s 2ms/step - loss: 0.5542 - mse: 0.5542 - lr: 1.0000e-06\n",
      "Epoch 53/100\n",
      "2/2 [==============================] - 0s 2ms/step - loss: 0.5541 - mse: 0.5541 - lr: 1.0000e-06\n",
      "Epoch 54/100\n",
      "2/2 [==============================] - 0s 2ms/step - loss: 0.5541 - mse: 0.5541 - lr: 1.0000e-06\n",
      "Epoch 55/100\n",
      "2/2 [==============================] - 0s 2ms/step - loss: 0.5541 - mse: 0.5541 - lr: 1.0000e-06\n",
      "Epoch 56/100\n",
      "2/2 [==============================] - 0s 3ms/step - loss: 0.5541 - mse: 0.5541 - lr: 1.0000e-06\n",
      "Epoch 57/100\n",
      "2/2 [==============================] - 0s 2ms/step - loss: 0.5541 - mse: 0.5541 - lr: 1.0000e-06\n",
      "Epoch 58/100\n",
      "2/2 [==============================] - 0s 2ms/step - loss: 0.5541 - mse: 0.5541 - lr: 1.0000e-06\n",
      "Epoch 59/100\n",
      "2/2 [==============================] - 0s 2ms/step - loss: 0.5540 - mse: 0.5540 - lr: 1.0000e-06\n",
      "Epoch 60/100\n",
      "2/2 [==============================] - 0s 2ms/step - loss: 0.5540 - mse: 0.5540 - lr: 1.0000e-06\n",
      "Epoch 61/100\n",
      "2/2 [==============================] - 0s 2ms/step - loss: 0.5540 - mse: 0.5540 - lr: 1.0000e-06\n",
      "Epoch 62/100\n",
      "2/2 [==============================] - 0s 2ms/step - loss: 0.5540 - mse: 0.5540 - lr: 1.0000e-06\n",
      "Epoch 63/100\n",
      "2/2 [==============================] - 0s 2ms/step - loss: 0.5540 - mse: 0.5540 - lr: 1.0000e-06\n",
      "Epoch 64/100\n",
      "2/2 [==============================] - 0s 2ms/step - loss: 0.5540 - mse: 0.5540 - lr: 1.0000e-06\n",
      "Epoch 65/100\n",
      "2/2 [==============================] - 0s 3ms/step - loss: 0.5540 - mse: 0.5540 - lr: 1.0000e-06\n",
      "Epoch 66/100\n",
      "2/2 [==============================] - 0s 2ms/step - loss: 0.5539 - mse: 0.5539 - lr: 1.0000e-06\n",
      "Epoch 67/100\n",
      "2/2 [==============================] - 0s 2ms/step - loss: 0.5539 - mse: 0.5539 - lr: 1.0000e-06\n",
      "Epoch 68/100\n",
      "2/2 [==============================] - 0s 3ms/step - loss: 0.5539 - mse: 0.5539 - lr: 1.0000e-06\n",
      "Epoch 69/100\n",
      "2/2 [==============================] - 0s 2ms/step - loss: 0.5539 - mse: 0.5539 - lr: 1.0000e-06\n",
      "Epoch 70/100\n",
      "2/2 [==============================] - 0s 3ms/step - loss: 0.5539 - mse: 0.5539 - lr: 1.0000e-06\n",
      "Epoch 71/100\n",
      "2/2 [==============================] - 0s 2ms/step - loss: 0.5539 - mse: 0.5539 - lr: 1.0000e-06\n",
      "Epoch 72/100\n",
      "2/2 [==============================] - 0s 2ms/step - loss: 0.5538 - mse: 0.5538 - lr: 1.0000e-06\n",
      "Epoch 73/100\n",
      "2/2 [==============================] - 0s 2ms/step - loss: 0.5538 - mse: 0.5538 - lr: 1.0000e-06\n",
      "Epoch 74/100\n",
      "2/2 [==============================] - 0s 2ms/step - loss: 0.5538 - mse: 0.5538 - lr: 1.0000e-06\n",
      "Epoch 75/100\n",
      "2/2 [==============================] - 0s 3ms/step - loss: 0.5538 - mse: 0.5538 - lr: 1.0000e-06\n",
      "Epoch 76/100\n",
      "2/2 [==============================] - 0s 3ms/step - loss: 0.5538 - mse: 0.5538 - lr: 1.0000e-06\n",
      "Epoch 77/100\n",
      "2/2 [==============================] - 0s 2ms/step - loss: 0.5538 - mse: 0.5538 - lr: 1.0000e-06\n",
      "Epoch 78/100\n",
      "2/2 [==============================] - 0s 3ms/step - loss: 0.5538 - mse: 0.5538 - lr: 1.0000e-06\n",
      "Epoch 79/100\n",
      "2/2 [==============================] - 0s 2ms/step - loss: 0.5537 - mse: 0.5537 - lr: 1.0000e-06\n",
      "Epoch 80/100\n",
      "2/2 [==============================] - 0s 2ms/step - loss: 0.5537 - mse: 0.5537 - lr: 1.0000e-06\n",
      "Epoch 81/100\n",
      "2/2 [==============================] - 0s 3ms/step - loss: 0.5537 - mse: 0.5537 - lr: 1.0000e-06\n",
      "Epoch 82/100\n",
      "2/2 [==============================] - 0s 3ms/step - loss: 0.5537 - mse: 0.5537 - lr: 1.0000e-06\n",
      "Epoch 83/100\n",
      "2/2 [==============================] - 0s 3ms/step - loss: 0.5537 - mse: 0.5537 - lr: 1.0000e-06\n",
      "Epoch 84/100\n",
      "2/2 [==============================] - 0s 2ms/step - loss: 0.5537 - mse: 0.5537 - lr: 1.0000e-06\n",
      "Epoch 85/100\n",
      "2/2 [==============================] - 0s 2ms/step - loss: 0.5536 - mse: 0.5536 - lr: 1.0000e-06\n",
      "Epoch 86/100\n",
      "2/2 [==============================] - 0s 2ms/step - loss: 0.5536 - mse: 0.5536 - lr: 1.0000e-06\n",
      "Epoch 87/100\n",
      "2/2 [==============================] - 0s 3ms/step - loss: 0.5536 - mse: 0.5536 - lr: 1.0000e-06\n",
      "Epoch 88/100\n",
      "2/2 [==============================] - 0s 3ms/step - loss: 0.5536 - mse: 0.5536 - lr: 1.0000e-06\n",
      "Epoch 89/100\n",
      "2/2 [==============================] - 0s 3ms/step - loss: 0.5536 - mse: 0.5536 - lr: 1.0000e-06\n",
      "Epoch 90/100\n",
      "2/2 [==============================] - 0s 2ms/step - loss: 0.5536 - mse: 0.5536 - lr: 1.0000e-06\n",
      "Epoch 91/100\n",
      "2/2 [==============================] - 0s 2ms/step - loss: 0.5536 - mse: 0.5536 - lr: 1.0000e-06\n",
      "Epoch 92/100\n",
      "2/2 [==============================] - 0s 2ms/step - loss: 0.5535 - mse: 0.5535 - lr: 1.0000e-06\n",
      "Epoch 93/100\n",
      "2/2 [==============================] - 0s 2ms/step - loss: 0.5535 - mse: 0.5535 - lr: 1.0000e-06\n",
      "Epoch 94/100\n",
      "2/2 [==============================] - 0s 2ms/step - loss: 0.5535 - mse: 0.5535 - lr: 1.0000e-06\n",
      "Epoch 95/100\n",
      "2/2 [==============================] - 0s 3ms/step - loss: 0.5535 - mse: 0.5535 - lr: 1.0000e-06\n",
      "Epoch 96/100\n",
      "2/2 [==============================] - 0s 2ms/step - loss: 0.5535 - mse: 0.5535 - lr: 1.0000e-06\n",
      "Epoch 97/100\n",
      "2/2 [==============================] - 0s 2ms/step - loss: 0.5535 - mse: 0.5535 - lr: 1.0000e-06\n",
      "Epoch 98/100\n",
      "2/2 [==============================] - 0s 3ms/step - loss: 0.5534 - mse: 0.5534 - lr: 1.0000e-06\n",
      "Epoch 99/100\n",
      "2/2 [==============================] - 0s 3ms/step - loss: 0.5534 - mse: 0.5534 - lr: 1.0000e-06\n",
      "Epoch 100/100\n",
      "2/2 [==============================] - 0s 2ms/step - loss: 0.5534 - mse: 0.5534 - lr: 1.0000e-06\n"
     ]
    },
    {
     "data": {
      "text/plain": [
       "<tensorflow.python.keras.callbacks.History at 0x7f4fa75c3cf8>"
      ]
     },
     "execution_count": 38,
     "metadata": {
      "tags": []
     },
     "output_type": "execute_result"
    }
   ],
   "source": [
    "model.compile(loss = \"mse\", optimizer = \"adam\", metrics=[\"mse\"])\n",
    "model.fit(X_train, y_train, epochs = 100, batch_size = 256, callbacks=[rlr2])"
   ]
  },
  {
   "cell_type": "code",
   "execution_count": 39,
   "metadata": {
    "colab": {
     "base_uri": "https://localhost:8080/",
     "height": 1000
    },
    "colab_type": "code",
    "id": "Mt-LUwrrWdYl",
    "outputId": "2e1c6660-8c7b-45e8-fcfc-38ba4ee06433"
   },
   "outputs": [
    {
     "name": "stdout",
     "output_type": "stream",
     "text": [
      "[[-0.02243841  0.02830705]\n",
      " [ 0.02166913 -0.00098514]\n",
      " [ 0.03208362  0.04203747]\n",
      " [-0.00842522 -0.01358726]\n",
      " [-0.01515484 -0.02948173]\n",
      " [ 0.00955185 -0.03698603]\n",
      " [-0.02791655  0.03501472]\n",
      " [-0.02873525 -0.03194487]\n",
      " [ 0.02934762  0.0287675 ]\n",
      " [-0.01079593 -0.02182103]\n",
      " [ 0.00636415  0.01637666]\n",
      " [ 0.03705027  0.04191799]\n",
      " [ 0.01291451  0.02181693]\n",
      " [-0.03947322 -0.03109782]\n",
      " [-0.02562679  0.03315868]\n",
      " [ 0.05514194  0.0389438 ]\n",
      " [ 0.02280971  0.02313427]\n",
      " [ 0.04769029  0.04475231]\n",
      " [-0.01111137  0.0339169 ]\n",
      " [-0.04125158 -0.02057509]\n",
      " [ 0.05258602  0.04103045]\n",
      " [ 0.01209492 -0.04008327]\n",
      " [ 0.04446404  0.04081645]\n",
      " [ 0.02594912  0.02880995]\n",
      " [ 0.00673935 -0.00271311]\n",
      " [-0.01034968  0.01650477]\n",
      " [-0.00115643 -0.01054119]\n",
      " [-0.03812754  0.00155041]\n",
      " [ 0.01733509  0.01197911]\n",
      " [-0.01095105  0.01200057]\n",
      " [-0.0169543  -0.02360277]\n",
      " [-0.02545916 -0.00236752]\n",
      " [ 0.00377528  0.00357884]\n",
      " [ 0.05526913  0.01883292]\n",
      " [ 0.03129097 -0.02949278]\n",
      " [ 0.03275504 -0.02166162]\n",
      " [-0.01311346  0.03289327]\n",
      " [ 0.06030506 -0.00705756]\n",
      " [ 0.05208378  0.02487191]\n",
      " [ 0.00553634 -0.03656388]\n",
      " [-0.03758356  0.01764968]\n",
      " [ 0.03239837 -0.01059914]\n",
      " [-0.01718049 -0.01908925]\n",
      " [ 0.01658002 -0.03778475]\n",
      " [ 0.05242082  0.01972152]\n",
      " [ 0.05660136  0.01826238]\n",
      " [-0.02000897 -0.00541054]\n",
      " [ 0.03648673  0.05115544]\n",
      " [ 0.05524796  0.03888107]\n",
      " [-0.01267865  0.01365447]\n",
      " [-0.02950918 -0.03726901]\n",
      " [ 0.0044746  -0.01268276]\n",
      " [ 0.01428305  0.0408246 ]\n",
      " [ 0.02989557  0.03051459]\n",
      " [-0.00678606 -0.03411131]\n",
      " [-0.00486409 -0.0437212 ]\n",
      " [-0.02497845 -0.02647108]\n",
      " [-0.01938456  0.01789508]\n",
      " [-0.02879405 -0.04545594]\n",
      " [-0.01241914 -0.03926009]\n",
      " [-0.00653477 -0.04305312]\n",
      " [ 0.00586592 -0.02067752]\n",
      " [ 0.04434673 -0.05269927]\n",
      " [-0.00583529 -0.04762588]\n",
      " [-0.04674369 -0.01235732]\n",
      " [-0.03934902  0.03076863]\n",
      " [ 0.00815678 -0.03545421]\n",
      " [ 0.05145201  0.03066093]\n",
      " [ 0.04470672 -0.02185468]\n",
      " [-0.03588924 -0.03715698]\n",
      " [-0.01911932 -0.03486874]\n",
      " [ 0.00572662 -0.0527687 ]\n",
      " [ 0.03705696  0.02054564]\n",
      " [-0.035448    0.00542596]\n",
      " [ 0.0365897  -0.04466327]\n",
      " [ 0.00847173 -0.04378057]\n",
      " [ 0.0468648  -0.04796407]\n",
      " [-0.01259772  0.02112009]\n",
      " [ 0.00276831 -0.04944651]\n",
      " [-0.0078635  -0.01257808]\n",
      " [-0.02000894 -0.00484708]\n",
      " [ 0.04084735 -0.04219199]\n",
      " [-0.01734151 -0.0229914 ]\n",
      " [-0.02996193 -0.04484183]\n",
      " [ 0.01480606  0.01870486]\n",
      " [-0.0179131   0.02851583]\n",
      " [ 0.00954603 -0.02550108]\n",
      " [-0.02275932  0.03984714]\n",
      " [ 0.00148911 -0.00046536]\n",
      " [-0.03172464  0.03558925]\n",
      " [ 0.0245149   0.0257838 ]\n",
      " [ 0.02336971  0.04404388]\n",
      " [-0.03131484 -0.02656778]\n",
      " [ 0.05226448  0.03595864]\n",
      " [-0.01681965 -0.00171303]\n",
      " [ 0.02103265 -0.00208713]\n",
      " [ 0.00845278 -0.04596811]\n",
      " [ 0.03762958  0.03511508]\n",
      " [-0.02963527  0.0137763 ]\n",
      " [-0.00189383 -0.01074793]\n",
      " [ 0.05218749  0.03463352]\n",
      " [ 0.00032601 -0.00896198]\n",
      " [-0.03246762 -0.02927496]\n",
      " [ 0.05085477  0.03942585]\n",
      " [-0.02312787 -0.02174903]\n",
      " [ 0.03042727  0.01968751]\n",
      " [-0.03071403 -0.00899182]\n",
      " [ 0.02390181  0.02084127]\n",
      " [-0.02342588  0.03553101]\n",
      " [-0.02536831 -0.01362103]\n",
      " [ 0.00562278 -0.04261012]\n",
      " [-0.03186117 -0.02229954]]\n"
     ]
    }
   ],
   "source": [
    "embs = model.get_layer(\"fare\").get_weights()[0]\n",
    "print(embs)"
   ]
  },
  {
   "cell_type": "code",
   "execution_count": 40,
   "metadata": {
    "colab": {
     "base_uri": "https://localhost:8080/",
     "height": 273
    },
    "colab_type": "code",
    "id": "_sdiaRT1WlGH",
    "outputId": "9eaa7b8e-735e-4564-8d3d-95b19d7f9716"
   },
   "outputs": [
    {
     "data": {
      "image/png": "[encoded data removed]",
      "text/plain": [
       "<Figure size 432x288 with 1 Axes>"
      ]
     },
     "metadata": {
      "needs_background": "light",
      "tags": []
     },
     "output_type": "display_data"
    }
   ],
   "source": [
    "labels = df[[\"fare\", \"fare_enc\"]].drop_duplicates().sort_values(\"fare_enc\").reset_index(drop=True)\n",
    "\n",
    "for i,e in enumerate(embs):\n",
    "    plt.scatter(e[0], e[1])\n",
    "    plt.annotate(labels.loc[i, \"fare\"], (e[0], e[1]), textcoords=\"offset points\", xytext=(0,10), ha='center') "
   ]
  }
 ],
 "metadata": {
  "accelerator": "TPU",
  "colab": {
   "collapsed_sections": [],
   "name": "Übung1a.ipynb",
   "provenance": []
  },
  "kernelspec": {
   "display_name": "Python 3",
   "language": "python",
   "name": "python3"
  },
  "language_info": {
   "codemirror_mode": {
    "name": "ipython",
    "version": 3
   },
   "file_extension": ".py",
   "mimetype": "text/x-python",
   "name": "python",
   "nbconvert_exporter": "python",
   "pygments_lexer": "ipython3",
   "version": "3.7.4"
  }
 },
 "nbformat": 4,
 "nbformat_minor": 1
}
