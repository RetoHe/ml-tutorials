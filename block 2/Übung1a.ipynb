{
 "cells": [
  {
   "cell_type": "markdown",
   "metadata": {},
   "source": [
    "# Übung 1a\n",
    "### Anwendungsmöglichkeiten und Ideen für Machine Learning\n",
    "Beim Druchblättern durch das Buch Andrew Trusk bin ich auf ein paar Ideen gekommen, wie man Machine Learning in der Praxis andwenden kann."
   ]
  },
  {
   "cell_type": "markdown",
   "metadata": {},
   "source": [
    "**Bilderkennung von Berggipfeln**\n",
    "\n",
    "Es wäre hilfreich, wenn man beim Wandern einen umliegenden Berg bzw. den Gipfel davon abfotografiert und dann gesagt bekommt, wie der Berg heißt und wie hoch er ist.\n",
    "Schwierig könnte es sein bei Bergen die zu weit in der Ferne sind, da von Weitem die Berge sehr ähnlich aussehen. Zudem ist die Auflösung bei den unterschiedlichen Handys sehr unterschiedlich. Aber es wäre interessant, dies mal für zumindest ein Ski- oder Wandergebiet auszuprobieren."
   ]
  },
  {
   "cell_type": "markdown",
   "metadata": {},
   "source": [
    "**Bilderkennung von giftigen Beeren**\n",
    "\n",
    "Wenn man beim Wandern oder beim Spazieren im Wald Beeren findet, aber man sich nicht sicher ist, ob man diese essen kann oder nicht, würde es helfen, wenn man ein Foto davon macht und mir eine App sagt, um welche Beere es sich handelt und ob diese giftig ist oder nicht.\n",
    "Bei einem solchen Modell wäre es sehr wichtig, dass es keine False Positives gibt, da dies ansonsten starke gesundheitliche Schäden hätte."
   ]
  },
  {
   "cell_type": "markdown",
   "metadata": {},
   "source": [
    "**Machine Learning zum Berechnen von Wettquoten verwenden**\n",
    "\n",
    "Auf Basis von Fußballdaten und mit Hilfe eines Machine Learning Modells könnten Wettquoten/Wahrscheinlichkeiten vorhergesagt werden. Wenn es gelingt, bessere Vorhersagen zu machen als der Buchmacher, kann dadurch ein profitables Modell entstehen. \n",
    "Hier besteht große Gefahr des Overfittings, vor allem wenn man dazu CNNs verwendet, da sich diese manchmal zu sicher sind. Da es beim Fußball aber oftmals auf Glück/Zufall (Schiedsrichterentscheidungen, Verletzungen) ankommt, kann dies zu einem Problem führen."
   ]
  },
  {
   "cell_type": "markdown",
   "metadata": {},
   "source": [
    "**Bilderkennung um den Reifenzustand von Formel 1 Autos zu prüfen**\n",
    "\n",
    "Man könnte Bilderkennung nutzen, um den Reifenzustand von Formel 1 Autos zu kontrollieren. Damit könnte man dann vorhersagen, wann es zum nächsten Boxenstop kommen soll und auf welche Reifenmischung als nächstes gewechselt werden soll."
   ]
  },
  {
   "cell_type": "markdown",
   "metadata": {},
   "source": [
    "**Spracherkennung um Telefone von Essenslieferdiensten anzunehmen**\n",
    "\n",
    "Bei Restaurants oder Lieferdiensten könnte eine Spracherkennungssoftware die Bestellungen und die Adresse des Kunden entgegennehmen. Zum Trainieren müsste maan dem Modell die Speisekarte mit verschiedenen Akzenten gesprochen, zur Verfügung stellen und das gleiche mit den Straßennamen im Umkreis von ca. 20 km. Die Software könnte die Bestellungen dann direkt ins System übernehmen."
   ]
  },
  {
   "cell_type": "code",
   "execution_count": null,
   "metadata": {},
   "outputs": [],
   "source": []
  }
 ],
 "metadata": {
  "kernelspec": {
   "display_name": "Python 3",
   "language": "python",
   "name": "python3"
  },
  "language_info": {
   "codemirror_mode": {
    "name": "ipython",
    "version": 3
   },
   "file_extension": ".py",
   "mimetype": "text/x-python",
   "name": "python",
   "nbconvert_exporter": "python",
   "pygments_lexer": "ipython3",
   "version": "3.7.4"
  }
 },
 "nbformat": 4,
 "nbformat_minor": 2
}
