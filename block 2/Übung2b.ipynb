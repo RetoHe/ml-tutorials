{
 "cells": [
  {
   "cell_type": "markdown",
   "metadata": {},
   "source": [
    "### Übung 2b\n",
    "FFNN zur Vorhersage des Median House Income"
   ]
  },
  {
   "cell_type": "code",
   "execution_count": 3,
   "metadata": {},
   "outputs": [],
   "source": [
    "import pandas as pd\n",
    "\n",
    "data = pd.read_csv(\"../../data/housing.csv\")"
   ]
  },
  {
   "cell_type": "markdown",
   "metadata": {},
   "source": [
    "#### Train Test Split"
   ]
  },
  {
   "cell_type": "code",
   "execution_count": 4,
   "metadata": {},
   "outputs": [],
   "source": [
    "from sklearn.model_selection import train_test_split"
   ]
  },
  {
   "cell_type": "code",
   "execution_count": 5,
   "metadata": {},
   "outputs": [],
   "source": [
    "# trennen in input und output Features\n",
    "input_feature_names = [\n",
    "    'longitude',\n",
    "    'latitude',\n",
    "    'housing_median_age',\n",
    "    'total_rooms',\n",
    "    'total_bedrooms',\n",
    "    'population',\n",
    "    'households',\n",
    "    'median_income',\n",
    "    'ocean_proximity'\n",
    "]\n",
    "\n",
    "output_feature_names = [\"median_house_value\"]\n",
    "\n",
    "# Datenset horizontal in input/output features splitten\n",
    "X = data[input_feature_names]\n",
    "y = data[output_feature_names]"
   ]
  },
  {
   "cell_type": "code",
   "execution_count": 6,
   "metadata": {},
   "outputs": [],
   "source": [
    "# trennen in nummerische und nicht-numerische Features\n",
    "numeric_feature_names = list(X.select_dtypes(include=['number']).columns)\n",
    "nonnumeric_feature_names = list(X.select_dtypes(exclude=['number']).columns)\n",
    "\n",
    "# train/test Daten aufteilen\n",
    "X_train, X_test, y_train, y_test = train_test_split(\n",
    "    X,\n",
    "    y,\n",
    "    test_size=0.3,\n",
    "    random_state=1239\n",
    ")"
   ]
  },
  {
   "cell_type": "code",
   "execution_count": 8,
   "metadata": {},
   "outputs": [],
   "source": [
    "from sklearn.impute import SimpleImputer\n",
    "from sklearn.preprocessing import OneHotEncoder, MinMaxScaler\n",
    "from sklearn.pipeline import Pipeline, FeatureUnion"
   ]
  },
  {
   "cell_type": "code",
   "execution_count": 7,
   "metadata": {},
   "outputs": [],
   "source": [
    "class FeatureSelector:\n",
    "    \n",
    "    \"\"\"This transformer lets you pick columns from a pandas dataset based on name\n",
    "    \n",
    "    :param features: List of feature names to select\n",
    "    :type features: List of strings\n",
    "    :param debug: Switch to send output to debug console\n",
    "    :type debug: Boolean\n",
    "    :raises: ValueError if features is not of type list\n",
    "    \"\"\"\n",
    "    \n",
    "    def __init__(self, features=[]):\n",
    "        \n",
    "        if type(features) != list:\n",
    "            raise ValueError(\"Input features must be of type List.\")\n",
    "        \n",
    "        self.c = features\n",
    "\n",
    "    def fit(self, X, y=None):\n",
    "        \"\"\"This method passes-on the object as no fitting is required\n",
    "        \n",
    "        :param X: Input matrix\n",
    "        :type X: Numpy matrix\n",
    "        :param y: Output vector\n",
    "        :type y: Numpy array\n",
    "        :returns: self\n",
    "        \"\"\"\n",
    "        return self\n",
    "\n",
    "    def transform(self, X):\n",
    "        \"\"\"This method transforms the input data by selecting the features\n",
    "        \n",
    "        :param X: Input matrix\n",
    "        :type X: Numpy matrix\n",
    "        :param y: Output vector\n",
    "        :type y: Numpy array\n",
    "        :returns: Selected colums as Numpy matrix\n",
    "        \"\"\"\n",
    "        return X[self.c]"
   ]
  },
  {
   "cell_type": "markdown",
   "metadata": {},
   "source": [
    "#### Pipelines"
   ]
  },
  {
   "cell_type": "code",
   "execution_count": 9,
   "metadata": {},
   "outputs": [],
   "source": [
    "X_pipeline = Pipeline([\n",
    "    (\"union\", FeatureUnion([\n",
    "        (\"numeric\", Pipeline([\n",
    "            (\"select_numeric_features\", FeatureSelector(features=numeric_feature_names)),\n",
    "            (\"replacing_missing_values\", SimpleImputer(strategy=\"mean\")),\n",
    "            (\"scale_values\", MinMaxScaler())\n",
    "        ])),\n",
    "        (\"non-numeric\", Pipeline([\n",
    "            (\"select_non-numeric_features\", FeatureSelector(features=nonnumeric_feature_names)),\n",
    "            (\"replacing_missing_values\", SimpleImputer(strategy=\"constant\", fill_value=\"missing\")),\n",
    "            (\"encode_values\", OneHotEncoder())\n",
    "        ]))\n",
    "    ]))\n",
    "])"
   ]
  },
  {
   "cell_type": "code",
   "execution_count": 10,
   "metadata": {},
   "outputs": [],
   "source": [
    "y_pipeline = Pipeline([\n",
    "    (\"scale\", MinMaxScaler())\n",
    "])"
   ]
  },
  {
   "cell_type": "code",
   "execution_count": 11,
   "metadata": {},
   "outputs": [],
   "source": [
    "X_pipeline.fit(X_train)\n",
    "X_train_processed = X_pipeline.transform(X_train)\n",
    "X_test_processed = X_pipeline.transform(X_test)"
   ]
  },
  {
   "cell_type": "code",
   "execution_count": 12,
   "metadata": {},
   "outputs": [],
   "source": [
    "y_pipeline.fit(y_train)\n",
    "y_train_processed = y_pipeline.transform(y_train)\n",
    "y_test_processed = y_pipeline.transform(y_test)"
   ]
  },
  {
   "cell_type": "markdown",
   "metadata": {},
   "source": [
    "#### Shape prüfen"
   ]
  },
  {
   "cell_type": "code",
   "execution_count": 14,
   "metadata": {},
   "outputs": [
    {
     "name": "stdout",
     "output_type": "stream",
     "text": [
      "Shape of train set: (14448, 13)\n",
      "Shape of test set: (6192, 13)\n"
     ]
    }
   ],
   "source": [
    "print(\"Shape of train set:\", X_train_processed.shape)\n",
    "print(\"Shape of test set:\", X_test_processed.shape)"
   ]
  },
  {
   "cell_type": "markdown",
   "metadata": {},
   "source": [
    "### FFNN erstellen"
   ]
  },
  {
   "cell_type": "code",
   "execution_count": 17,
   "metadata": {},
   "outputs": [],
   "source": [
    "import tensorflow as tf\n",
    "from tensorflow import keras\n",
    "\n",
    "tf.random.set_seed(42)"
   ]
  },
  {
   "cell_type": "markdown",
   "metadata": {},
   "source": [
    "Das FFNN besteht aus 3 Dense Layern. Als Loss Funktion habe ich für das Regressionsproblem den MSE ausgewählt und als Optimizer den Stochastic Gradient Descent."
   ]
  },
  {
   "cell_type": "code",
   "execution_count": 48,
   "metadata": {},
   "outputs": [],
   "source": [
    "network = keras.models.Sequential()"
   ]
  },
  {
   "cell_type": "code",
   "execution_count": 49,
   "metadata": {},
   "outputs": [],
   "source": [
    "input_shape = X_train_processed.shape"
   ]
  },
  {
   "cell_type": "code",
   "execution_count": 51,
   "metadata": {},
   "outputs": [],
   "source": [
    "# Add fully connected layer with a ReLU activation function\n",
    "network.add(keras.layers.Dense(units=32, activation='relu', input_shape=(X_train_processed.shape[1],)))\n",
    "\n",
    "# Add fully connected layer with a ReLU activation function\n",
    "network.add(keras.layers.Dense(units=32, activation='relu'))\n",
    "\n",
    "# Add fully connected layer with no activation function\n",
    "network.add(keras.layers.Dense(units=1))"
   ]
  },
  {
   "cell_type": "code",
   "execution_count": 52,
   "metadata": {},
   "outputs": [],
   "source": [
    "loss_fct = keras.losses.mean_squared_error\n",
    "optim    = keras.optimizers.SGD()\n",
    "metrics  = [keras.metrics.MeanSquaredError]"
   ]
  },
  {
   "cell_type": "code",
   "execution_count": 56,
   "metadata": {},
   "outputs": [],
   "source": [
    "network.compile(loss='mse', # Mean squared error\n",
    "                optimizer='RMSprop', # Optimization algorithm\n",
    "                metrics=['mse']) # Mean squared error"
   ]
  },
  {
   "cell_type": "code",
   "execution_count": 74,
   "metadata": {},
   "outputs": [],
   "source": [
    "#X_train_processed = X_train_processed.toarray()\n",
    "#y_train_processed = y_train_processed.toarray()\n",
    "X_test_processed = X_test_processed.toarray()\n",
    "#y_test_processed = y_test_processed.toarray()"
   ]
  },
  {
   "cell_type": "code",
   "execution_count": 69,
   "metadata": {},
   "outputs": [
    {
     "name": "stdout",
     "output_type": "stream",
     "text": [
      "Train on 14448 samples\n",
      "Epoch 1/100\n",
      "14448/14448 [==============================] - 1s 59us/sample - loss: 0.0392 - mse: 0.0392\n",
      "Epoch 2/100\n",
      "14448/14448 [==============================] - 0s 29us/sample - loss: 0.0219 - mse: 0.0219\n",
      "Epoch 3/100\n",
      "14448/14448 [==============================] - 0s 25us/sample - loss: 0.0205 - mse: 0.0205\n",
      "Epoch 4/100\n",
      "14448/14448 [==============================] - 0s 25us/sample - loss: 0.0197 - mse: 0.0197\n",
      "Epoch 5/100\n",
      "14448/14448 [==============================] - 0s 27us/sample - loss: 0.0191 - mse: 0.0191\n",
      "Epoch 6/100\n",
      "14448/14448 [==============================] - 0s 24us/sample - loss: 0.0186 - mse: 0.0186\n",
      "Epoch 7/100\n",
      "14448/14448 [==============================] - 0s 25us/sample - loss: 0.0182 - mse: 0.0182\n",
      "Epoch 8/100\n",
      "14448/14448 [==============================] - 0s 26us/sample - loss: 0.0180 - mse: 0.0180\n",
      "Epoch 9/100\n",
      "14448/14448 [==============================] - 0s 25us/sample - loss: 0.0176 - mse: 0.0176\n",
      "Epoch 10/100\n",
      "14448/14448 [==============================] - 0s 27us/sample - loss: 0.0174 - mse: 0.0174\n",
      "Epoch 11/100\n",
      "14448/14448 [==============================] - 0s 28us/sample - loss: 0.0171 - mse: 0.0171\n",
      "Epoch 12/100\n",
      "14448/14448 [==============================] - 0s 34us/sample - loss: 0.0169 - mse: 0.0169\n",
      "Epoch 13/100\n",
      "14448/14448 [==============================] - 0s 30us/sample - loss: 0.0167 - mse: 0.0167\n",
      "Epoch 14/100\n",
      "14448/14448 [==============================] - 0s 30us/sample - loss: 0.0166 - mse: 0.0166\n",
      "Epoch 15/100\n",
      "14448/14448 [==============================] - 0s 29us/sample - loss: 0.0164 - mse: 0.0164\n",
      "Epoch 16/100\n",
      "14448/14448 [==============================] - 0s 31us/sample - loss: 0.0162 - mse: 0.0162\n",
      "Epoch 17/100\n",
      "14448/14448 [==============================] - 0s 29us/sample - loss: 0.0162 - mse: 0.0162\n",
      "Epoch 18/100\n",
      "14448/14448 [==============================] - 0s 31us/sample - loss: 0.0160 - mse: 0.0160\n",
      "Epoch 19/100\n",
      "14448/14448 [==============================] - 0s 27us/sample - loss: 0.0160 - mse: 0.0160\n",
      "Epoch 20/100\n",
      "14448/14448 [==============================] - 0s 30us/sample - loss: 0.0157 - mse: 0.0157\n",
      "Epoch 21/100\n",
      "14448/14448 [==============================] - 0s 31us/sample - loss: 0.0158 - mse: 0.0158\n",
      "Epoch 22/100\n",
      "14448/14448 [==============================] - 0s 27us/sample - loss: 0.0158 - mse: 0.0158\n",
      "Epoch 23/100\n",
      "14448/14448 [==============================] - 0s 25us/sample - loss: 0.0157 - mse: 0.0157\n",
      "Epoch 24/100\n",
      "14448/14448 [==============================] - 0s 28us/sample - loss: 0.0156 - mse: 0.0156\n",
      "Epoch 25/100\n",
      "14448/14448 [==============================] - 0s 28us/sample - loss: 0.0155 - mse: 0.0155\n",
      "Epoch 26/100\n",
      "14448/14448 [==============================] - 0s 31us/sample - loss: 0.0154 - mse: 0.0154\n",
      "Epoch 27/100\n",
      "14448/14448 [==============================] - 0s 31us/sample - loss: 0.0154 - mse: 0.0154\n",
      "Epoch 28/100\n",
      "14448/14448 [==============================] - 0s 29us/sample - loss: 0.0152 - mse: 0.0152\n",
      "Epoch 29/100\n",
      "14448/14448 [==============================] - 0s 31us/sample - loss: 0.0152 - mse: 0.0152\n",
      "Epoch 30/100\n",
      "14448/14448 [==============================] - 1s 35us/sample - loss: 0.0151 - mse: 0.0151\n",
      "Epoch 31/100\n",
      "14448/14448 [==============================] - 0s 34us/sample - loss: 0.0150 - mse: 0.0150\n",
      "Epoch 32/100\n",
      "14448/14448 [==============================] - 1s 35us/sample - loss: 0.0150 - mse: 0.0150\n",
      "Epoch 33/100\n",
      "14448/14448 [==============================] - 0s 34us/sample - loss: 0.0150 - mse: 0.0150\n",
      "Epoch 34/100\n",
      "14448/14448 [==============================] - 0s 30us/sample - loss: 0.0148 - mse: 0.0148\n",
      "Epoch 35/100\n",
      "14448/14448 [==============================] - 0s 27us/sample - loss: 0.0149 - mse: 0.0149\n",
      "Epoch 36/100\n",
      "14448/14448 [==============================] - 0s 27us/sample - loss: 0.0148 - mse: 0.0148\n",
      "Epoch 37/100\n",
      "14448/14448 [==============================] - 0s 26us/sample - loss: 0.0147 - mse: 0.0147\n",
      "Epoch 38/100\n",
      "14448/14448 [==============================] - 0s 26us/sample - loss: 0.0147 - mse: 0.0147\n",
      "Epoch 39/100\n",
      "14448/14448 [==============================] - 0s 26us/sample - loss: 0.0146 - mse: 0.0146\n",
      "Epoch 40/100\n",
      "14448/14448 [==============================] - 0s 26us/sample - loss: 0.0146 - mse: 0.0146\n",
      "Epoch 41/100\n",
      "14448/14448 [==============================] - 0s 26us/sample - loss: 0.0145 - mse: 0.0145\n",
      "Epoch 42/100\n",
      "14448/14448 [==============================] - 0s 26us/sample - loss: 0.0144 - mse: 0.0144\n",
      "Epoch 43/100\n",
      "14448/14448 [==============================] - 0s 27us/sample - loss: 0.0144 - mse: 0.0144\n",
      "Epoch 44/100\n",
      "14448/14448 [==============================] - 0s 28us/sample - loss: 0.0143 - mse: 0.0143\n",
      "Epoch 45/100\n",
      "14448/14448 [==============================] - 0s 26us/sample - loss: 0.0144 - mse: 0.0144\n",
      "Epoch 46/100\n",
      "14448/14448 [==============================] - 0s 26us/sample - loss: 0.0142 - mse: 0.0142\n",
      "Epoch 47/100\n",
      "14448/14448 [==============================] - 0s 26us/sample - loss: 0.0142 - mse: 0.0142\n",
      "Epoch 48/100\n",
      "14448/14448 [==============================] - 0s 28us/sample - loss: 0.0142 - mse: 0.0142\n",
      "Epoch 49/100\n",
      "14448/14448 [==============================] - 0s 27us/sample - loss: 0.0141 - mse: 0.0141\n",
      "Epoch 50/100\n",
      "14448/14448 [==============================] - 0s 27us/sample - loss: 0.0141 - mse: 0.0141\n",
      "Epoch 51/100\n",
      "14448/14448 [==============================] - 0s 27us/sample - loss: 0.0140 - mse: 0.0140\n",
      "Epoch 52/100\n",
      "14448/14448 [==============================] - 0s 26us/sample - loss: 0.0141 - mse: 0.0141\n",
      "Epoch 53/100\n",
      "14448/14448 [==============================] - 0s 26us/sample - loss: 0.0140 - mse: 0.0140\n",
      "Epoch 54/100\n",
      "14448/14448 [==============================] - 0s 30us/sample - loss: 0.0139 - mse: 0.0139\n",
      "Epoch 55/100\n",
      "14448/14448 [==============================] - 0s 27us/sample - loss: 0.0140 - mse: 0.0140\n",
      "Epoch 56/100\n",
      "14448/14448 [==============================] - 0s 26us/sample - loss: 0.0138 - mse: 0.0138\n",
      "Epoch 57/100\n",
      "14448/14448 [==============================] - 0s 26us/sample - loss: 0.0138 - mse: 0.0138\n",
      "Epoch 58/100\n",
      "14448/14448 [==============================] - 0s 25us/sample - loss: 0.0139 - mse: 0.0139\n",
      "Epoch 59/100\n",
      "14448/14448 [==============================] - 0s 26us/sample - loss: 0.0137 - mse: 0.0137\n",
      "Epoch 60/100\n",
      "14448/14448 [==============================] - 0s 26us/sample - loss: 0.0138 - mse: 0.0138\n",
      "Epoch 61/100\n",
      "14448/14448 [==============================] - 0s 27us/sample - loss: 0.0137 - mse: 0.0137\n",
      "Epoch 62/100\n",
      "14448/14448 [==============================] - 0s 26us/sample - loss: 0.0136 - mse: 0.0136\n",
      "Epoch 63/100\n",
      "14448/14448 [==============================] - 0s 25us/sample - loss: 0.0137 - mse: 0.0137\n",
      "Epoch 64/100\n",
      "14448/14448 [==============================] - 0s 26us/sample - loss: 0.0136 - mse: 0.0136\n",
      "Epoch 65/100\n",
      "14448/14448 [==============================] - 0s 26us/sample - loss: 0.0137 - mse: 0.0137\n",
      "Epoch 66/100\n",
      "14448/14448 [==============================] - 0s 25us/sample - loss: 0.0137 - mse: 0.0137\n",
      "Epoch 67/100\n",
      "14448/14448 [==============================] - 0s 26us/sample - loss: 0.0135 - mse: 0.0135\n",
      "Epoch 68/100\n",
      "14448/14448 [==============================] - 0s 25us/sample - loss: 0.0135 - mse: 0.0135\n",
      "Epoch 69/100\n",
      "14448/14448 [==============================] - 0s 25us/sample - loss: 0.0135 - mse: 0.0135\n",
      "Epoch 70/100\n",
      "14448/14448 [==============================] - 0s 25us/sample - loss: 0.0134 - mse: 0.0134\n",
      "Epoch 71/100\n",
      "14448/14448 [==============================] - 0s 26us/sample - loss: 0.0134 - mse: 0.0134\n",
      "Epoch 72/100\n",
      "14448/14448 [==============================] - 0s 25us/sample - loss: 0.0134 - mse: 0.0134\n",
      "Epoch 73/100\n",
      "14448/14448 [==============================] - 0s 26us/sample - loss: 0.0133 - mse: 0.0133\n",
      "Epoch 74/100\n",
      "14448/14448 [==============================] - 0s 26us/sample - loss: 0.0133 - mse: 0.0133\n",
      "Epoch 75/100\n",
      "14448/14448 [==============================] - 0s 26us/sample - loss: 0.0133 - mse: 0.0133\n",
      "Epoch 76/100\n",
      "14448/14448 [==============================] - 0s 26us/sample - loss: 0.0133 - mse: 0.0133\n",
      "Epoch 77/100\n",
      "14448/14448 [==============================] - 0s 27us/sample - loss: 0.0133 - mse: 0.0133\n",
      "Epoch 78/100\n",
      "14448/14448 [==============================] - 0s 25us/sample - loss: 0.0133 - mse: 0.0133\n",
      "Epoch 79/100\n",
      "14448/14448 [==============================] - 0s 25us/sample - loss: 0.0133 - mse: 0.0133\n",
      "Epoch 80/100\n",
      "14448/14448 [==============================] - 0s 25us/sample - loss: 0.0132 - mse: 0.0132\n",
      "Epoch 81/100\n",
      "14448/14448 [==============================] - 0s 25us/sample - loss: 0.0132 - mse: 0.0132\n",
      "Epoch 82/100\n",
      "14448/14448 [==============================] - 0s 26us/sample - loss: 0.0132 - mse: 0.0132\n",
      "Epoch 83/100\n",
      "14448/14448 [==============================] - 0s 30us/sample - loss: 0.0131 - mse: 0.0131\n",
      "Epoch 84/100\n",
      "14448/14448 [==============================] - 1s 43us/sample - loss: 0.0131 - mse: 0.0131\n",
      "Epoch 85/100\n",
      "14448/14448 [==============================] - 0s 33us/sample - loss: 0.0131 - mse: 0.0131\n",
      "Epoch 86/100\n",
      "14448/14448 [==============================] - 1s 39us/sample - loss: 0.0131 - mse: 0.0131\n",
      "Epoch 87/100\n",
      "14448/14448 [==============================] - 1s 40us/sample - loss: 0.0130 - mse: 0.0130\n",
      "Epoch 88/100\n",
      "14448/14448 [==============================] - 0s 27us/sample - loss: 0.0130 - mse: 0.0130\n",
      "Epoch 89/100\n",
      "14448/14448 [==============================] - 0s 27us/sample - loss: 0.0130 - mse: 0.0130\n",
      "Epoch 90/100\n",
      "14448/14448 [==============================] - 0s 27us/sample - loss: 0.0129 - mse: 0.0129\n",
      "Epoch 91/100\n",
      "14448/14448 [==============================] - 0s 27us/sample - loss: 0.0130 - mse: 0.0130\n",
      "Epoch 92/100\n",
      "14448/14448 [==============================] - 0s 26us/sample - loss: 0.0129 - mse: 0.0129\n",
      "Epoch 93/100\n",
      "14448/14448 [==============================] - 0s 27us/sample - loss: 0.0130 - mse: 0.0130\n",
      "Epoch 94/100\n",
      "14448/14448 [==============================] - 0s 27us/sample - loss: 0.0129 - mse: 0.0129\n",
      "Epoch 95/100\n",
      "14448/14448 [==============================] - 0s 27us/sample - loss: 0.0129 - mse: 0.0129\n",
      "Epoch 96/100\n",
      "14448/14448 [==============================] - 0s 26us/sample - loss: 0.0129 - mse: 0.0129\n",
      "Epoch 97/100\n",
      "14448/14448 [==============================] - 0s 30us/sample - loss: 0.0128 - mse: 0.0128\n",
      "Epoch 98/100\n",
      "14448/14448 [==============================] - 0s 28us/sample - loss: 0.0129 - mse: 0.0129\n",
      "Epoch 99/100\n",
      "14448/14448 [==============================] - 0s 34us/sample - loss: 0.0128 - mse: 0.0128\n",
      "Epoch 100/100\n",
      "14448/14448 [==============================] - 0s 33us/sample - loss: 0.0129 - mse: 0.0129\n"
     ]
    }
   ],
   "source": [
    "history = network.fit(X_train_processed , y_train_processed, epochs=100, batch_size=64)"
   ]
  },
  {
   "cell_type": "code",
   "execution_count": 75,
   "metadata": {},
   "outputs": [
    {
     "name": "stdout",
     "output_type": "stream",
     "text": [
      "6192/6192 [==============================] - 0s 43us/sample - loss: 0.0137 - mse: 0.0137\n"
     ]
    }
   ],
   "source": [
    "test_hist_1 = network.evaluate(X_test_processed, y_test_processed)"
   ]
  },
  {
   "cell_type": "code",
   "execution_count": 82,
   "metadata": {},
   "outputs": [],
   "source": [
    "def plot_training_curves(train_hists, test_hists, metric=\"sparse_categorical_accuracy\"):\n",
    "    \"\"\"\n",
    "    Helper function for plotting training curves from tf-keras history objects\n",
    "    \"\"\" \n",
    "    fig, ax = plt.subplots(1, 2, figsize=(15, 5))\n",
    "\n",
    "    train_hist_loss     = sum([x.history['loss']     for x in train_hists], [])\n",
    "    #train_hist_val_loss = sum([x.history['val_loss'] for x in train_hists], [])\n",
    "    ax[0].plot(train_hist_loss)\n",
    "    #ax[0].plot(train_hist_val_loss)\n",
    "    for x in test_hists:\n",
    "        ax[0].axhline(y=x[0], color=\"green\", ls=\"--\")\n",
    "    ax[0].set_title('Loss history')\n",
    "    ax[0].set_ylabel('Loss')\n",
    "    ax[0].set_xlabel('Epoch')\n",
    "    ax[0].legend(['Train',  'Test'], loc='upper right')\n",
    "    \n",
    "    train_hist_acc     = sum([x.history[metric]          for x in train_hists], [])\n",
    "    #train_hist_val_acc = sum([x.history['val_' + metric] for x in train_hists], [])\n",
    "    ax[1].plot(train_hist_acc)\n",
    "    #ax[1].plot(train_hist_val_acc)\n",
    "    for x in test_hists:\n",
    "        ax[1].axhline(y=x[1], color=\"green\", ls=\"--\")\n",
    "    ax[1].set_title('MSE history')\n",
    "    ax[1].set_ylabel('MSE')\n",
    "    ax[1].set_xlabel('Epoch')\n",
    "    ax[1].legend(['Train', 'Test'], loc='lower right')"
   ]
  },
  {
   "cell_type": "code",
   "execution_count": 83,
   "metadata": {},
   "outputs": [],
   "source": [
    "from matplotlib import pyplot as plt"
   ]
  },
  {
   "cell_type": "code",
   "execution_count": 84,
   "metadata": {},
   "outputs": [
    {
     "data": {
      "image/png": "[encoded data removed]",
      "text/plain": [
       "<Figure size 1080x360 with 2 Axes>"
      ]
     },
     "metadata": {
      "needs_background": "light"
     },
     "output_type": "display_data"
    }
   ],
   "source": [
    "plot_training_curves([history], [test_hist_1], metric=\"mse\")"
   ]
  },
  {
   "cell_type": "markdown",
   "metadata": {},
   "source": [
    "Im Plot der Kurve sieht man sehr gut, wie zu Beginn der Loss sehr stark abnimmt in den ersten 10 Epochen. Danach verbessert sich das Modell nur noch leicht."
   ]
  },
  {
   "cell_type": "code",
   "execution_count": 85,
   "metadata": {},
   "outputs": [
    {
     "name": "stdout",
     "output_type": "stream",
     "text": [
      "Test loss:\t 0.013660780944709862\n",
      "Test MSE:\t 0.0136607895\n"
     ]
    }
   ],
   "source": [
    "print(\"Test loss:\\t\", test_hist_1[0])\n",
    "print(\"Test MSE:\\t\", test_hist_1[1])"
   ]
  },
  {
   "cell_type": "code",
   "execution_count": 86,
   "metadata": {},
   "outputs": [
    {
     "name": "stdout",
     "output_type": "stream",
     "text": [
      "Train on 14448 samples\n",
      "Epoch 1/100\n",
      "14448/14448 [==============================] - 0s 28us/sample - loss: 0.0128 - mse: 0.0128\n",
      "Epoch 2/100\n",
      "14448/14448 [==============================] - 0s 27us/sample - loss: 0.0128 - mse: 0.0128\n",
      "Epoch 3/100\n",
      "14448/14448 [==============================] - 0s 26us/sample - loss: 0.0127 - mse: 0.0127\n",
      "Epoch 4/100\n",
      "14448/14448 [==============================] - 0s 26us/sample - loss: 0.0127 - mse: 0.0127\n",
      "Epoch 5/100\n",
      "14448/14448 [==============================] - 0s 26us/sample - loss: 0.0127 - mse: 0.0127\n",
      "Epoch 6/100\n",
      "14448/14448 [==============================] - 0s 26us/sample - loss: 0.0126 - mse: 0.0126\n",
      "Epoch 7/100\n",
      "14448/14448 [==============================] - 0s 26us/sample - loss: 0.0126 - mse: 0.0126\n",
      "Epoch 8/100\n",
      "14448/14448 [==============================] - 0s 26us/sample - loss: 0.0127 - mse: 0.0127\n",
      "Epoch 9/100\n",
      "14448/14448 [==============================] - 0s 26us/sample - loss: 0.0126 - mse: 0.0126\n",
      "Epoch 10/100\n",
      "14448/14448 [==============================] - 0s 26us/sample - loss: 0.0127 - mse: 0.0127\n",
      "Epoch 11/100\n",
      "14448/14448 [==============================] - 0s 25us/sample - loss: 0.0126 - mse: 0.0126\n",
      "Epoch 12/100\n",
      "14448/14448 [==============================] - 0s 26us/sample - loss: 0.0125 - mse: 0.0125\n",
      "Epoch 13/100\n",
      "14448/14448 [==============================] - 0s 26us/sample - loss: 0.0126 - mse: 0.0126\n",
      "Epoch 14/100\n",
      "14448/14448 [==============================] - 0s 26us/sample - loss: 0.0125 - mse: 0.0125\n",
      "Epoch 15/100\n",
      "14448/14448 [==============================] - 0s 35us/sample - loss: 0.0124 - mse: 0.0124\n",
      "Epoch 16/100\n",
      "14448/14448 [==============================] - 0s 32us/sample - loss: 0.0125 - mse: 0.01250s - loss: 0.0129 - mse: 0.\n",
      "Epoch 17/100\n",
      "14448/14448 [==============================] - 0s 27us/sample - loss: 0.0125 - mse: 0.0125\n",
      "Epoch 18/100\n",
      "14448/14448 [==============================] - 0s 27us/sample - loss: 0.0124 - mse: 0.0124\n",
      "Epoch 19/100\n",
      "14448/14448 [==============================] - 0s 27us/sample - loss: 0.0125 - mse: 0.0125\n",
      "Epoch 20/100\n",
      "14448/14448 [==============================] - 0s 26us/sample - loss: 0.0124 - mse: 0.0124\n",
      "Epoch 21/100\n",
      "14448/14448 [==============================] - 0s 28us/sample - loss: 0.0124 - mse: 0.0124\n",
      "Epoch 22/100\n",
      "14448/14448 [==============================] - 0s 27us/sample - loss: 0.0125 - mse: 0.0125\n",
      "Epoch 23/100\n",
      "14448/14448 [==============================] - 0s 26us/sample - loss: 0.0124 - mse: 0.0124\n",
      "Epoch 24/100\n",
      "14448/14448 [==============================] - 0s 26us/sample - loss: 0.0123 - mse: 0.0123\n",
      "Epoch 25/100\n",
      "14448/14448 [==============================] - 0s 26us/sample - loss: 0.0123 - mse: 0.0123\n",
      "Epoch 26/100\n",
      "14448/14448 [==============================] - 0s 28us/sample - loss: 0.0124 - mse: 0.0124\n",
      "Epoch 27/100\n",
      "14448/14448 [==============================] - 0s 26us/sample - loss: 0.0122 - mse: 0.0122\n",
      "Epoch 28/100\n",
      "14448/14448 [==============================] - 0s 26us/sample - loss: 0.0123 - mse: 0.0123\n",
      "Epoch 29/100\n",
      "14448/14448 [==============================] - 0s 26us/sample - loss: 0.0123 - mse: 0.0123\n",
      "Epoch 30/100\n",
      "14448/14448 [==============================] - 0s 26us/sample - loss: 0.0122 - mse: 0.0122\n",
      "Epoch 31/100\n",
      "14448/14448 [==============================] - 0s 26us/sample - loss: 0.0122 - mse: 0.0122\n",
      "Epoch 32/100\n",
      "14448/14448 [==============================] - 0s 27us/sample - loss: 0.0122 - mse: 0.0122\n",
      "Epoch 33/100\n",
      "14448/14448 [==============================] - 0s 26us/sample - loss: 0.0123 - mse: 0.0123\n",
      "Epoch 34/100\n",
      "14448/14448 [==============================] - 0s 27us/sample - loss: 0.0121 - mse: 0.0121\n",
      "Epoch 35/100\n",
      "14448/14448 [==============================] - 0s 27us/sample - loss: 0.0122 - mse: 0.0122\n",
      "Epoch 36/100\n",
      "14448/14448 [==============================] - 0s 27us/sample - loss: 0.0122 - mse: 0.0122\n",
      "Epoch 37/100\n",
      "14448/14448 [==============================] - 0s 27us/sample - loss: 0.0121 - mse: 0.0121\n",
      "Epoch 38/100\n",
      "14448/14448 [==============================] - 0s 26us/sample - loss: 0.0122 - mse: 0.0122\n",
      "Epoch 39/100\n",
      "14448/14448 [==============================] - 0s 27us/sample - loss: 0.0121 - mse: 0.0121\n",
      "Epoch 40/100\n",
      "14448/14448 [==============================] - 0s 27us/sample - loss: 0.0121 - mse: 0.0121\n",
      "Epoch 41/100\n",
      "14448/14448 [==============================] - 0s 26us/sample - loss: 0.0121 - mse: 0.0121\n",
      "Epoch 42/100\n",
      "14448/14448 [==============================] - 0s 27us/sample - loss: 0.0121 - mse: 0.0121\n",
      "Epoch 43/100\n",
      "14448/14448 [==============================] - 0s 26us/sample - loss: 0.0121 - mse: 0.0121\n",
      "Epoch 44/100\n",
      "14448/14448 [==============================] - 0s 27us/sample - loss: 0.0120 - mse: 0.0120\n",
      "Epoch 45/100\n",
      "14448/14448 [==============================] - 0s 26us/sample - loss: 0.0121 - mse: 0.0121\n",
      "Epoch 46/100\n",
      "14448/14448 [==============================] - 0s 26us/sample - loss: 0.0121 - mse: 0.0121\n",
      "Epoch 47/100\n",
      "14448/14448 [==============================] - 0s 27us/sample - loss: 0.0120 - mse: 0.0120\n",
      "Epoch 48/100\n",
      "14448/14448 [==============================] - 0s 26us/sample - loss: 0.0121 - mse: 0.0121\n",
      "Epoch 49/100\n",
      "14448/14448 [==============================] - 0s 27us/sample - loss: 0.0119 - mse: 0.0119\n",
      "Epoch 50/100\n",
      "14448/14448 [==============================] - 0s 28us/sample - loss: 0.0120 - mse: 0.0120\n",
      "Epoch 51/100\n",
      "14448/14448 [==============================] - 0s 27us/sample - loss: 0.0119 - mse: 0.0119\n",
      "Epoch 52/100\n",
      "14448/14448 [==============================] - 0s 26us/sample - loss: 0.0120 - mse: 0.0120\n",
      "Epoch 53/100\n",
      "14448/14448 [==============================] - 0s 28us/sample - loss: 0.0120 - mse: 0.0120\n",
      "Epoch 54/100\n",
      "14448/14448 [==============================] - 0s 26us/sample - loss: 0.0119 - mse: 0.0119\n",
      "Epoch 55/100\n",
      "14448/14448 [==============================] - 0s 26us/sample - loss: 0.0120 - mse: 0.0120\n",
      "Epoch 56/100\n",
      "14448/14448 [==============================] - 0s 26us/sample - loss: 0.0118 - mse: 0.0118\n",
      "Epoch 57/100\n",
      "14448/14448 [==============================] - 0s 28us/sample - loss: 0.0119 - mse: 0.0119\n",
      "Epoch 58/100\n",
      "14448/14448 [==============================] - 0s 26us/sample - loss: 0.0120 - mse: 0.0120\n",
      "Epoch 59/100\n",
      "14448/14448 [==============================] - 0s 27us/sample - loss: 0.0118 - mse: 0.0118\n",
      "Epoch 60/100\n",
      "14448/14448 [==============================] - 0s 26us/sample - loss: 0.0118 - mse: 0.0118\n",
      "Epoch 61/100\n",
      "14448/14448 [==============================] - 0s 26us/sample - loss: 0.0118 - mse: 0.0118\n",
      "Epoch 62/100\n",
      "14448/14448 [==============================] - 0s 26us/sample - loss: 0.0118 - mse: 0.0118\n",
      "Epoch 63/100\n",
      "14448/14448 [==============================] - 0s 26us/sample - loss: 0.0118 - mse: 0.0118\n",
      "Epoch 64/100\n",
      "14448/14448 [==============================] - 0s 26us/sample - loss: 0.0118 - mse: 0.0118\n",
      "Epoch 65/100\n",
      "14448/14448 [==============================] - 0s 26us/sample - loss: 0.0118 - mse: 0.0118\n",
      "Epoch 66/100\n",
      "14448/14448 [==============================] - 0s 26us/sample - loss: 0.0119 - mse: 0.0119\n",
      "Epoch 67/100\n",
      "14448/14448 [==============================] - 0s 28us/sample - loss: 0.0117 - mse: 0.0117\n",
      "Epoch 68/100\n",
      "14448/14448 [==============================] - 0s 27us/sample - loss: 0.0118 - mse: 0.0118\n",
      "Epoch 69/100\n",
      "14448/14448 [==============================] - 0s 26us/sample - loss: 0.0117 - mse: 0.0117\n",
      "Epoch 70/100\n",
      "14448/14448 [==============================] - 0s 26us/sample - loss: 0.0117 - mse: 0.0117\n",
      "Epoch 71/100\n",
      "14448/14448 [==============================] - 0s 27us/sample - loss: 0.0117 - mse: 0.0117\n",
      "Epoch 72/100\n",
      "14448/14448 [==============================] - 0s 26us/sample - loss: 0.0117 - mse: 0.0117\n",
      "Epoch 73/100\n",
      "14448/14448 [==============================] - 0s 25us/sample - loss: 0.0117 - mse: 0.0117\n",
      "Epoch 74/100\n",
      "14448/14448 [==============================] - 0s 26us/sample - loss: 0.0117 - mse: 0.0117\n",
      "Epoch 75/100\n",
      "14448/14448 [==============================] - 0s 26us/sample - loss: 0.0117 - mse: 0.0117\n",
      "Epoch 76/100\n",
      "14448/14448 [==============================] - 0s 27us/sample - loss: 0.0117 - mse: 0.0117\n",
      "Epoch 77/100\n",
      "14448/14448 [==============================] - 0s 27us/sample - loss: 0.0117 - mse: 0.0117\n",
      "Epoch 78/100\n",
      "14448/14448 [==============================] - 0s 26us/sample - loss: 0.0117 - mse: 0.0117\n",
      "Epoch 79/100\n",
      "14448/14448 [==============================] - 0s 26us/sample - loss: 0.0117 - mse: 0.0117\n",
      "Epoch 80/100\n",
      "14448/14448 [==============================] - 0s 25us/sample - loss: 0.0117 - mse: 0.0117\n",
      "Epoch 81/100\n",
      "14448/14448 [==============================] - 0s 27us/sample - loss: 0.0117 - mse: 0.0117\n",
      "Epoch 82/100\n",
      "14448/14448 [==============================] - 0s 26us/sample - loss: 0.0117 - mse: 0.0117\n",
      "Epoch 83/100\n",
      "14448/14448 [==============================] - 0s 25us/sample - loss: 0.0117 - mse: 0.0117\n",
      "Epoch 84/100\n",
      "14448/14448 [==============================] - 0s 24us/sample - loss: 0.0116 - mse: 0.0116\n",
      "Epoch 85/100\n",
      "14448/14448 [==============================] - 0s 25us/sample - loss: 0.0116 - mse: 0.0116\n",
      "Epoch 86/100\n",
      "14448/14448 [==============================] - 0s 25us/sample - loss: 0.0116 - mse: 0.0116\n",
      "Epoch 87/100\n",
      "14448/14448 [==============================] - 0s 26us/sample - loss: 0.0116 - mse: 0.0116\n",
      "Epoch 88/100\n",
      "14448/14448 [==============================] - 0s 25us/sample - loss: 0.0116 - mse: 0.0116\n",
      "Epoch 89/100\n",
      "14448/14448 [==============================] - 0s 25us/sample - loss: 0.0116 - mse: 0.0116\n",
      "Epoch 90/100\n",
      "14448/14448 [==============================] - 0s 26us/sample - loss: 0.0115 - mse: 0.0115\n",
      "Epoch 91/100\n",
      "14448/14448 [==============================] - 0s 27us/sample - loss: 0.0116 - mse: 0.0116\n",
      "Epoch 92/100\n",
      "14448/14448 [==============================] - 0s 25us/sample - loss: 0.0116 - mse: 0.0116\n",
      "Epoch 93/100\n",
      "14448/14448 [==============================] - 0s 25us/sample - loss: 0.0116 - mse: 0.0116\n",
      "Epoch 94/100\n",
      "14448/14448 [==============================] - 0s 25us/sample - loss: 0.0115 - mse: 0.0115\n",
      "Epoch 95/100\n",
      "14448/14448 [==============================] - 0s 25us/sample - loss: 0.0116 - mse: 0.0116\n",
      "Epoch 96/100\n",
      "14448/14448 [==============================] - 0s 24us/sample - loss: 0.0115 - mse: 0.0115\n",
      "Epoch 97/100\n",
      "14448/14448 [==============================] - 0s 25us/sample - loss: 0.0115 - mse: 0.0115\n",
      "Epoch 98/100\n",
      "14448/14448 [==============================] - 0s 25us/sample - loss: 0.0116 - mse: 0.0116\n",
      "Epoch 99/100\n",
      "14448/14448 [==============================] - 0s 24us/sample - loss: 0.0115 - mse: 0.0115\n",
      "Epoch 100/100\n",
      "14448/14448 [==============================] - 0s 26us/sample - loss: 0.0116 - mse: 0.0116\n",
      "6192/6192 [==============================] - 0s 30us/sample - loss: 0.0126 - mse: 0.0126\n"
     ]
    }
   ],
   "source": [
    "train_hist_2 = network.fit(X_train_processed , y_train_processed, epochs=100, batch_size=64)\n",
    "test_hist_2  = network.evaluate(X_test_processed, y_test_processed)"
   ]
  },
  {
   "cell_type": "code",
   "execution_count": 87,
   "metadata": {},
   "outputs": [
    {
     "name": "stdout",
     "output_type": "stream",
     "text": [
      "Test loss:\t 0.012620074173931312\n",
      "Test MSE:\t 0.012620073\n"
     ]
    }
   ],
   "source": [
    "print(\"Test loss:\\t\", test_hist_2[0])\n",
    "print(\"Test MSE:\\t\", test_hist_2[1])"
   ]
  },
  {
   "cell_type": "code",
   "execution_count": 88,
   "metadata": {},
   "outputs": [
    {
     "data": {
      "image/png": "[encoded data removed]",
      "text/plain": [
       "<Figure size 1080x360 with 2 Axes>"
      ]
     },
     "metadata": {
      "needs_background": "light"
     },
     "output_type": "display_data"
    }
   ],
   "source": [
    "plot_training_curves([train_hist_2], [test_hist_2], metric=\"mse\")"
   ]
  },
  {
   "cell_type": "markdown",
   "metadata": {},
   "source": [
    "Beim 2 Trainingsdurchlauf hat sich das FFNN kontiniuerlich leicht gesteigert und durch den 2. Trainingsdurchlauf konnte der Test MSE auch noch leicht verringert werden."
   ]
  },
  {
   "cell_type": "code",
   "execution_count": null,
   "metadata": {},
   "outputs": [],
   "source": []
  }
 ],
 "metadata": {
  "kernelspec": {
   "display_name": "Python 3",
   "language": "python",
   "name": "python3"
  },
  "language_info": {
   "codemirror_mode": {
    "name": "ipython",
    "version": 3
   },
   "file_extension": ".py",
   "mimetype": "text/x-python",
   "name": "python",
   "nbconvert_exporter": "python",
   "pygments_lexer": "ipython3",
   "version": "3.7.4"
  }
 },
 "nbformat": 4,
 "nbformat_minor": 2
}
