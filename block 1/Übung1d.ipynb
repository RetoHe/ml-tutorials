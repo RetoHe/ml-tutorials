{
 "cells": [
  {
   "cell_type": "markdown",
   "metadata": {},
   "source": [
    "# Übung 1c)"
   ]
  },
  {
   "cell_type": "markdown",
   "metadata": {},
   "source": [
    "## Laden der Bibliotheken\n"
   ]
  },
  {
   "cell_type": "code",
   "execution_count": 1,
   "metadata": {},
   "outputs": [],
   "source": [
    "import pandas as pd\n",
    "import numpy as np\n",
    "from sklearn.model_selection import train_test_split\n",
    "from sklearn.preprocessing import MinMaxScaler, RobustScaler, LabelEncoder, OneHotEncoder\n",
    "from sklearn.impute import SimpleImputer\n",
    "from sklearn.pipeline import FeatureUnion"
   ]
  },
  {
   "cell_type": "markdown",
   "metadata": {},
   "source": [
    "## Laden des Datensatzes"
   ]
  },
  {
   "cell_type": "code",
   "execution_count": 2,
   "metadata": {},
   "outputs": [],
   "source": [
    "data = pd.read_csv(\"../../data/socr.csv\")"
   ]
  },
  {
   "cell_type": "code",
   "execution_count": 3,
   "metadata": {},
   "outputs": [
    {
     "data": {
      "text/html": [
       "<div>\n",
       "<style scoped>\n",
       "    .dataframe tbody tr th:only-of-type {\n",
       "        vertical-align: middle;\n",
       "    }\n",
       "\n",
       "    .dataframe tbody tr th {\n",
       "        vertical-align: top;\n",
       "    }\n",
       "\n",
       "    .dataframe thead th {\n",
       "        text-align: right;\n",
       "    }\n",
       "</style>\n",
       "<table border=\"1\" class=\"dataframe\">\n",
       "  <thead>\n",
       "    <tr style=\"text-align: right;\">\n",
       "      <th></th>\n",
       "      <th>Team = BAL</th>\n",
       "      <th>Team = CWS</th>\n",
       "      <th>Team = ANA</th>\n",
       "      <th>Team = BOS</th>\n",
       "      <th>Team = CLE</th>\n",
       "      <th>Team = OAK</th>\n",
       "      <th>Team = NYY</th>\n",
       "      <th>Team = DET</th>\n",
       "      <th>Team = SEA</th>\n",
       "      <th>Team = TB</th>\n",
       "      <th>...</th>\n",
       "      <th>Position = Second_Baseman</th>\n",
       "      <th>Position = Shortstop</th>\n",
       "      <th>Position = Third_Baseman</th>\n",
       "      <th>Position = Outfielder</th>\n",
       "      <th>Position = Designated_Hitter</th>\n",
       "      <th>Position = Starting_Pitcher</th>\n",
       "      <th>Position = Relief_Pitcher</th>\n",
       "      <th>Height(inches)</th>\n",
       "      <th>Weight(pounds)</th>\n",
       "      <th>Age</th>\n",
       "    </tr>\n",
       "  </thead>\n",
       "  <tbody>\n",
       "    <tr>\n",
       "      <td>0</td>\n",
       "      <td>1</td>\n",
       "      <td>0</td>\n",
       "      <td>0</td>\n",
       "      <td>0</td>\n",
       "      <td>0</td>\n",
       "      <td>0</td>\n",
       "      <td>0</td>\n",
       "      <td>0</td>\n",
       "      <td>0</td>\n",
       "      <td>0</td>\n",
       "      <td>...</td>\n",
       "      <td>0</td>\n",
       "      <td>0</td>\n",
       "      <td>0</td>\n",
       "      <td>0</td>\n",
       "      <td>0</td>\n",
       "      <td>0</td>\n",
       "      <td>0</td>\n",
       "      <td>74</td>\n",
       "      <td>180.0</td>\n",
       "      <td>22.99</td>\n",
       "    </tr>\n",
       "    <tr>\n",
       "      <td>1</td>\n",
       "      <td>1</td>\n",
       "      <td>0</td>\n",
       "      <td>0</td>\n",
       "      <td>0</td>\n",
       "      <td>0</td>\n",
       "      <td>0</td>\n",
       "      <td>0</td>\n",
       "      <td>0</td>\n",
       "      <td>0</td>\n",
       "      <td>0</td>\n",
       "      <td>...</td>\n",
       "      <td>0</td>\n",
       "      <td>0</td>\n",
       "      <td>0</td>\n",
       "      <td>0</td>\n",
       "      <td>0</td>\n",
       "      <td>0</td>\n",
       "      <td>0</td>\n",
       "      <td>74</td>\n",
       "      <td>215.0</td>\n",
       "      <td>34.69</td>\n",
       "    </tr>\n",
       "    <tr>\n",
       "      <td>2</td>\n",
       "      <td>1</td>\n",
       "      <td>0</td>\n",
       "      <td>0</td>\n",
       "      <td>0</td>\n",
       "      <td>0</td>\n",
       "      <td>0</td>\n",
       "      <td>0</td>\n",
       "      <td>0</td>\n",
       "      <td>0</td>\n",
       "      <td>0</td>\n",
       "      <td>...</td>\n",
       "      <td>0</td>\n",
       "      <td>0</td>\n",
       "      <td>0</td>\n",
       "      <td>0</td>\n",
       "      <td>0</td>\n",
       "      <td>0</td>\n",
       "      <td>0</td>\n",
       "      <td>72</td>\n",
       "      <td>210.0</td>\n",
       "      <td>30.78</td>\n",
       "    </tr>\n",
       "    <tr>\n",
       "      <td>3</td>\n",
       "      <td>1</td>\n",
       "      <td>0</td>\n",
       "      <td>0</td>\n",
       "      <td>0</td>\n",
       "      <td>0</td>\n",
       "      <td>0</td>\n",
       "      <td>0</td>\n",
       "      <td>0</td>\n",
       "      <td>0</td>\n",
       "      <td>0</td>\n",
       "      <td>...</td>\n",
       "      <td>0</td>\n",
       "      <td>0</td>\n",
       "      <td>0</td>\n",
       "      <td>0</td>\n",
       "      <td>0</td>\n",
       "      <td>0</td>\n",
       "      <td>0</td>\n",
       "      <td>72</td>\n",
       "      <td>210.0</td>\n",
       "      <td>35.43</td>\n",
       "    </tr>\n",
       "    <tr>\n",
       "      <td>4</td>\n",
       "      <td>1</td>\n",
       "      <td>0</td>\n",
       "      <td>0</td>\n",
       "      <td>0</td>\n",
       "      <td>0</td>\n",
       "      <td>0</td>\n",
       "      <td>0</td>\n",
       "      <td>0</td>\n",
       "      <td>0</td>\n",
       "      <td>0</td>\n",
       "      <td>...</td>\n",
       "      <td>0</td>\n",
       "      <td>0</td>\n",
       "      <td>0</td>\n",
       "      <td>0</td>\n",
       "      <td>0</td>\n",
       "      <td>0</td>\n",
       "      <td>0</td>\n",
       "      <td>73</td>\n",
       "      <td>188.0</td>\n",
       "      <td>35.71</td>\n",
       "    </tr>\n",
       "  </tbody>\n",
       "</table>\n",
       "<p>5 rows × 42 columns</p>\n",
       "</div>"
      ],
      "text/plain": [
       "   Team = BAL  Team = CWS  Team = ANA  Team = BOS  Team = CLE  Team = OAK  \\\n",
       "0           1           0           0           0           0           0   \n",
       "1           1           0           0           0           0           0   \n",
       "2           1           0           0           0           0           0   \n",
       "3           1           0           0           0           0           0   \n",
       "4           1           0           0           0           0           0   \n",
       "\n",
       "   Team = NYY  Team = DET  Team = SEA  Team = TB  ...  \\\n",
       "0           0           0           0          0  ...   \n",
       "1           0           0           0          0  ...   \n",
       "2           0           0           0          0  ...   \n",
       "3           0           0           0          0  ...   \n",
       "4           0           0           0          0  ...   \n",
       "\n",
       "   Position = Second_Baseman  Position = Shortstop  Position = Third_Baseman  \\\n",
       "0                          0                     0                         0   \n",
       "1                          0                     0                         0   \n",
       "2                          0                     0                         0   \n",
       "3                          0                     0                         0   \n",
       "4                          0                     0                         0   \n",
       "\n",
       "   Position = Outfielder  Position = Designated_Hitter  \\\n",
       "0                      0                             0   \n",
       "1                      0                             0   \n",
       "2                      0                             0   \n",
       "3                      0                             0   \n",
       "4                      0                             0   \n",
       "\n",
       "   Position = Starting_Pitcher  Position = Relief_Pitcher  Height(inches)  \\\n",
       "0                            0                          0              74   \n",
       "1                            0                          0              74   \n",
       "2                            0                          0              72   \n",
       "3                            0                          0              72   \n",
       "4                            0                          0              73   \n",
       "\n",
       "   Weight(pounds)   Age   \n",
       "0           180.0  22.99  \n",
       "1           215.0  34.69  \n",
       "2           210.0  30.78  \n",
       "3           210.0  35.43  \n",
       "4           188.0  35.71  \n",
       "\n",
       "[5 rows x 42 columns]"
      ]
     },
     "execution_count": 3,
     "metadata": {},
     "output_type": "execute_result"
    }
   ],
   "source": [
    "data.head()"
   ]
  },
  {
   "cell_type": "code",
   "execution_count": 4,
   "metadata": {},
   "outputs": [
    {
     "data": {
      "text/html": [
       "<div>\n",
       "<style scoped>\n",
       "    .dataframe tbody tr th:only-of-type {\n",
       "        vertical-align: middle;\n",
       "    }\n",
       "\n",
       "    .dataframe tbody tr th {\n",
       "        vertical-align: top;\n",
       "    }\n",
       "\n",
       "    .dataframe thead th {\n",
       "        text-align: right;\n",
       "    }\n",
       "</style>\n",
       "<table border=\"1\" class=\"dataframe\">\n",
       "  <thead>\n",
       "    <tr style=\"text-align: right;\">\n",
       "      <th></th>\n",
       "      <th>Team = BAL</th>\n",
       "      <th>Team = CWS</th>\n",
       "      <th>Team = ANA</th>\n",
       "      <th>Team = BOS</th>\n",
       "      <th>Team = CLE</th>\n",
       "      <th>Team = OAK</th>\n",
       "      <th>Team = NYY</th>\n",
       "      <th>Team = DET</th>\n",
       "      <th>Team = SEA</th>\n",
       "      <th>Team = TB</th>\n",
       "      <th>...</th>\n",
       "      <th>Position = Second_Baseman</th>\n",
       "      <th>Position = Shortstop</th>\n",
       "      <th>Position = Third_Baseman</th>\n",
       "      <th>Position = Outfielder</th>\n",
       "      <th>Position = Designated_Hitter</th>\n",
       "      <th>Position = Starting_Pitcher</th>\n",
       "      <th>Position = Relief_Pitcher</th>\n",
       "      <th>Height(inches)</th>\n",
       "      <th>Weight(pounds)</th>\n",
       "      <th>Age</th>\n",
       "    </tr>\n",
       "  </thead>\n",
       "  <tbody>\n",
       "    <tr>\n",
       "      <td>count</td>\n",
       "      <td>1034.000000</td>\n",
       "      <td>1034.000000</td>\n",
       "      <td>1034.000000</td>\n",
       "      <td>1034.000000</td>\n",
       "      <td>1034.000000</td>\n",
       "      <td>1034.000000</td>\n",
       "      <td>1034.000000</td>\n",
       "      <td>1034.000000</td>\n",
       "      <td>1034.000000</td>\n",
       "      <td>1034.000000</td>\n",
       "      <td>...</td>\n",
       "      <td>1034.000000</td>\n",
       "      <td>1034.000000</td>\n",
       "      <td>1034.000000</td>\n",
       "      <td>1034.000000</td>\n",
       "      <td>1034.000000</td>\n",
       "      <td>1034.000000</td>\n",
       "      <td>1034.000000</td>\n",
       "      <td>1034.000000</td>\n",
       "      <td>1033.000000</td>\n",
       "      <td>1034.000000</td>\n",
       "    </tr>\n",
       "    <tr>\n",
       "      <td>mean</td>\n",
       "      <td>0.033849</td>\n",
       "      <td>0.031915</td>\n",
       "      <td>0.033849</td>\n",
       "      <td>0.034816</td>\n",
       "      <td>0.033849</td>\n",
       "      <td>0.035783</td>\n",
       "      <td>0.030948</td>\n",
       "      <td>0.035783</td>\n",
       "      <td>0.032882</td>\n",
       "      <td>0.031915</td>\n",
       "      <td>...</td>\n",
       "      <td>0.056093</td>\n",
       "      <td>0.050290</td>\n",
       "      <td>0.043520</td>\n",
       "      <td>0.187621</td>\n",
       "      <td>0.017408</td>\n",
       "      <td>0.213733</td>\n",
       "      <td>0.304642</td>\n",
       "      <td>73.697292</td>\n",
       "      <td>201.689255</td>\n",
       "      <td>28.736712</td>\n",
       "    </tr>\n",
       "    <tr>\n",
       "      <td>std</td>\n",
       "      <td>0.180928</td>\n",
       "      <td>0.175859</td>\n",
       "      <td>0.180928</td>\n",
       "      <td>0.183403</td>\n",
       "      <td>0.180928</td>\n",
       "      <td>0.185839</td>\n",
       "      <td>0.173260</td>\n",
       "      <td>0.185839</td>\n",
       "      <td>0.178414</td>\n",
       "      <td>0.175859</td>\n",
       "      <td>...</td>\n",
       "      <td>0.230212</td>\n",
       "      <td>0.218649</td>\n",
       "      <td>0.204124</td>\n",
       "      <td>0.390598</td>\n",
       "      <td>0.130850</td>\n",
       "      <td>0.410139</td>\n",
       "      <td>0.460478</td>\n",
       "      <td>2.305818</td>\n",
       "      <td>20.991491</td>\n",
       "      <td>4.320310</td>\n",
       "    </tr>\n",
       "    <tr>\n",
       "      <td>min</td>\n",
       "      <td>0.000000</td>\n",
       "      <td>0.000000</td>\n",
       "      <td>0.000000</td>\n",
       "      <td>0.000000</td>\n",
       "      <td>0.000000</td>\n",
       "      <td>0.000000</td>\n",
       "      <td>0.000000</td>\n",
       "      <td>0.000000</td>\n",
       "      <td>0.000000</td>\n",
       "      <td>0.000000</td>\n",
       "      <td>...</td>\n",
       "      <td>0.000000</td>\n",
       "      <td>0.000000</td>\n",
       "      <td>0.000000</td>\n",
       "      <td>0.000000</td>\n",
       "      <td>0.000000</td>\n",
       "      <td>0.000000</td>\n",
       "      <td>0.000000</td>\n",
       "      <td>67.000000</td>\n",
       "      <td>150.000000</td>\n",
       "      <td>20.900000</td>\n",
       "    </tr>\n",
       "    <tr>\n",
       "      <td>25%</td>\n",
       "      <td>0.000000</td>\n",
       "      <td>0.000000</td>\n",
       "      <td>0.000000</td>\n",
       "      <td>0.000000</td>\n",
       "      <td>0.000000</td>\n",
       "      <td>0.000000</td>\n",
       "      <td>0.000000</td>\n",
       "      <td>0.000000</td>\n",
       "      <td>0.000000</td>\n",
       "      <td>0.000000</td>\n",
       "      <td>...</td>\n",
       "      <td>0.000000</td>\n",
       "      <td>0.000000</td>\n",
       "      <td>0.000000</td>\n",
       "      <td>0.000000</td>\n",
       "      <td>0.000000</td>\n",
       "      <td>0.000000</td>\n",
       "      <td>0.000000</td>\n",
       "      <td>72.000000</td>\n",
       "      <td>187.000000</td>\n",
       "      <td>25.440000</td>\n",
       "    </tr>\n",
       "    <tr>\n",
       "      <td>50%</td>\n",
       "      <td>0.000000</td>\n",
       "      <td>0.000000</td>\n",
       "      <td>0.000000</td>\n",
       "      <td>0.000000</td>\n",
       "      <td>0.000000</td>\n",
       "      <td>0.000000</td>\n",
       "      <td>0.000000</td>\n",
       "      <td>0.000000</td>\n",
       "      <td>0.000000</td>\n",
       "      <td>0.000000</td>\n",
       "      <td>...</td>\n",
       "      <td>0.000000</td>\n",
       "      <td>0.000000</td>\n",
       "      <td>0.000000</td>\n",
       "      <td>0.000000</td>\n",
       "      <td>0.000000</td>\n",
       "      <td>0.000000</td>\n",
       "      <td>0.000000</td>\n",
       "      <td>74.000000</td>\n",
       "      <td>200.000000</td>\n",
       "      <td>27.925000</td>\n",
       "    </tr>\n",
       "    <tr>\n",
       "      <td>75%</td>\n",
       "      <td>0.000000</td>\n",
       "      <td>0.000000</td>\n",
       "      <td>0.000000</td>\n",
       "      <td>0.000000</td>\n",
       "      <td>0.000000</td>\n",
       "      <td>0.000000</td>\n",
       "      <td>0.000000</td>\n",
       "      <td>0.000000</td>\n",
       "      <td>0.000000</td>\n",
       "      <td>0.000000</td>\n",
       "      <td>...</td>\n",
       "      <td>0.000000</td>\n",
       "      <td>0.000000</td>\n",
       "      <td>0.000000</td>\n",
       "      <td>0.000000</td>\n",
       "      <td>0.000000</td>\n",
       "      <td>0.000000</td>\n",
       "      <td>1.000000</td>\n",
       "      <td>75.000000</td>\n",
       "      <td>215.000000</td>\n",
       "      <td>31.232500</td>\n",
       "    </tr>\n",
       "    <tr>\n",
       "      <td>max</td>\n",
       "      <td>1.000000</td>\n",
       "      <td>1.000000</td>\n",
       "      <td>1.000000</td>\n",
       "      <td>1.000000</td>\n",
       "      <td>1.000000</td>\n",
       "      <td>1.000000</td>\n",
       "      <td>1.000000</td>\n",
       "      <td>1.000000</td>\n",
       "      <td>1.000000</td>\n",
       "      <td>1.000000</td>\n",
       "      <td>...</td>\n",
       "      <td>1.000000</td>\n",
       "      <td>1.000000</td>\n",
       "      <td>1.000000</td>\n",
       "      <td>1.000000</td>\n",
       "      <td>1.000000</td>\n",
       "      <td>1.000000</td>\n",
       "      <td>1.000000</td>\n",
       "      <td>83.000000</td>\n",
       "      <td>290.000000</td>\n",
       "      <td>48.520000</td>\n",
       "    </tr>\n",
       "  </tbody>\n",
       "</table>\n",
       "<p>8 rows × 42 columns</p>\n",
       "</div>"
      ],
      "text/plain": [
       "        Team = BAL   Team = CWS   Team = ANA   Team = BOS   Team = CLE  \\\n",
       "count  1034.000000  1034.000000  1034.000000  1034.000000  1034.000000   \n",
       "mean      0.033849     0.031915     0.033849     0.034816     0.033849   \n",
       "std       0.180928     0.175859     0.180928     0.183403     0.180928   \n",
       "min       0.000000     0.000000     0.000000     0.000000     0.000000   \n",
       "25%       0.000000     0.000000     0.000000     0.000000     0.000000   \n",
       "50%       0.000000     0.000000     0.000000     0.000000     0.000000   \n",
       "75%       0.000000     0.000000     0.000000     0.000000     0.000000   \n",
       "max       1.000000     1.000000     1.000000     1.000000     1.000000   \n",
       "\n",
       "        Team = OAK   Team = NYY   Team = DET   Team = SEA    Team = TB  ...  \\\n",
       "count  1034.000000  1034.000000  1034.000000  1034.000000  1034.000000  ...   \n",
       "mean      0.035783     0.030948     0.035783     0.032882     0.031915  ...   \n",
       "std       0.185839     0.173260     0.185839     0.178414     0.175859  ...   \n",
       "min       0.000000     0.000000     0.000000     0.000000     0.000000  ...   \n",
       "25%       0.000000     0.000000     0.000000     0.000000     0.000000  ...   \n",
       "50%       0.000000     0.000000     0.000000     0.000000     0.000000  ...   \n",
       "75%       0.000000     0.000000     0.000000     0.000000     0.000000  ...   \n",
       "max       1.000000     1.000000     1.000000     1.000000     1.000000  ...   \n",
       "\n",
       "       Position = Second_Baseman  Position = Shortstop  \\\n",
       "count                1034.000000           1034.000000   \n",
       "mean                    0.056093              0.050290   \n",
       "std                     0.230212              0.218649   \n",
       "min                     0.000000              0.000000   \n",
       "25%                     0.000000              0.000000   \n",
       "50%                     0.000000              0.000000   \n",
       "75%                     0.000000              0.000000   \n",
       "max                     1.000000              1.000000   \n",
       "\n",
       "       Position = Third_Baseman  Position = Outfielder  \\\n",
       "count               1034.000000            1034.000000   \n",
       "mean                   0.043520               0.187621   \n",
       "std                    0.204124               0.390598   \n",
       "min                    0.000000               0.000000   \n",
       "25%                    0.000000               0.000000   \n",
       "50%                    0.000000               0.000000   \n",
       "75%                    0.000000               0.000000   \n",
       "max                    1.000000               1.000000   \n",
       "\n",
       "       Position = Designated_Hitter  Position = Starting_Pitcher  \\\n",
       "count                   1034.000000                  1034.000000   \n",
       "mean                       0.017408                     0.213733   \n",
       "std                        0.130850                     0.410139   \n",
       "min                        0.000000                     0.000000   \n",
       "25%                        0.000000                     0.000000   \n",
       "50%                        0.000000                     0.000000   \n",
       "75%                        0.000000                     0.000000   \n",
       "max                        1.000000                     1.000000   \n",
       "\n",
       "       Position = Relief_Pitcher  Height(inches)  Weight(pounds)         Age   \n",
       "count                1034.000000     1034.000000     1033.000000  1034.000000  \n",
       "mean                    0.304642       73.697292      201.689255    28.736712  \n",
       "std                     0.460478        2.305818       20.991491     4.320310  \n",
       "min                     0.000000       67.000000      150.000000    20.900000  \n",
       "25%                     0.000000       72.000000      187.000000    25.440000  \n",
       "50%                     0.000000       74.000000      200.000000    27.925000  \n",
       "75%                     1.000000       75.000000      215.000000    31.232500  \n",
       "max                     1.000000       83.000000      290.000000    48.520000  \n",
       "\n",
       "[8 rows x 42 columns]"
      ]
     },
     "execution_count": 4,
     "metadata": {},
     "output_type": "execute_result"
    }
   ],
   "source": [
    "data.describe()"
   ]
  },
  {
   "cell_type": "code",
   "execution_count": 5,
   "metadata": {},
   "outputs": [
    {
     "data": {
      "text/plain": [
       "Index(['Team = BAL', 'Team = CWS', 'Team = ANA', 'Team = BOS', 'Team = CLE',\n",
       "       'Team = OAK', 'Team = NYY', 'Team = DET', 'Team = SEA', 'Team = TB',\n",
       "       'Team = KC', 'Team = TEX', 'Team = TOR', 'Team = MIN', 'Team = ATL',\n",
       "       'Team = CHC', 'Team = ARZ', 'Team = FLA', 'Team = CIN', 'Team = COL',\n",
       "       'Team = NYM', 'Team = HOU', 'Team = LA', 'Team = PHI', 'Team = MLW',\n",
       "       'Team = SD', 'Team = WAS', 'Team = PIT', 'Team = SF', 'Team = STL',\n",
       "       'Position = Catcher', 'Position = First_Baseman',\n",
       "       'Position = Second_Baseman', 'Position = Shortstop',\n",
       "       'Position = Third_Baseman', 'Position = Outfielder',\n",
       "       'Position = Designated_Hitter', 'Position = Starting_Pitcher',\n",
       "       'Position = Relief_Pitcher', 'Height(inches)', 'Weight(pounds)',\n",
       "       'Age '],\n",
       "      dtype='object')"
      ]
     },
     "execution_count": 5,
     "metadata": {},
     "output_type": "execute_result"
    }
   ],
   "source": [
    "data.columns"
   ]
  },
  {
   "cell_type": "markdown",
   "metadata": {},
   "source": [
    "## Prüfen auf fehlende Werte"
   ]
  },
  {
   "cell_type": "code",
   "execution_count": 6,
   "metadata": {},
   "outputs": [
    {
     "data": {
      "text/plain": [
       "Team = BAL                      False\n",
       "Team = CWS                      False\n",
       "Team = ANA                      False\n",
       "Team = BOS                      False\n",
       "Team = CLE                      False\n",
       "Team = OAK                      False\n",
       "Team = NYY                      False\n",
       "Team = DET                      False\n",
       "Team = SEA                      False\n",
       "Team = TB                       False\n",
       "Team = KC                       False\n",
       "Team = TEX                      False\n",
       "Team = TOR                      False\n",
       "Team = MIN                      False\n",
       "Team = ATL                      False\n",
       "Team = CHC                      False\n",
       "Team = ARZ                      False\n",
       "Team = FLA                      False\n",
       "Team = CIN                      False\n",
       "Team = COL                      False\n",
       "Team = NYM                      False\n",
       "Team = HOU                      False\n",
       "Team = LA                       False\n",
       "Team = PHI                      False\n",
       "Team = MLW                      False\n",
       "Team = SD                       False\n",
       "Team = WAS                      False\n",
       "Team = PIT                      False\n",
       "Team = SF                       False\n",
       "Team = STL                      False\n",
       "Position = Catcher              False\n",
       "Position = First_Baseman        False\n",
       "Position = Second_Baseman       False\n",
       "Position = Shortstop            False\n",
       "Position = Third_Baseman        False\n",
       "Position = Outfielder           False\n",
       "Position = Designated_Hitter    False\n",
       "Position = Starting_Pitcher     False\n",
       "Position = Relief_Pitcher       False\n",
       "Height(inches)                  False\n",
       "Weight(pounds)                   True\n",
       "Age                             False\n",
       "dtype: bool"
      ]
     },
     "execution_count": 6,
     "metadata": {},
     "output_type": "execute_result"
    }
   ],
   "source": [
    "#data.isna().any()"
   ]
  },
  {
   "cell_type": "code",
   "execution_count": 7,
   "metadata": {},
   "outputs": [],
   "source": [
    "data = data.dropna()"
   ]
  },
  {
   "cell_type": "code",
   "execution_count": 8,
   "metadata": {},
   "outputs": [
    {
     "data": {
      "text/plain": [
       "Team = BAL                      False\n",
       "Team = CWS                      False\n",
       "Team = ANA                      False\n",
       "Team = BOS                      False\n",
       "Team = CLE                      False\n",
       "Team = OAK                      False\n",
       "Team = NYY                      False\n",
       "Team = DET                      False\n",
       "Team = SEA                      False\n",
       "Team = TB                       False\n",
       "Team = KC                       False\n",
       "Team = TEX                      False\n",
       "Team = TOR                      False\n",
       "Team = MIN                      False\n",
       "Team = ATL                      False\n",
       "Team = CHC                      False\n",
       "Team = ARZ                      False\n",
       "Team = FLA                      False\n",
       "Team = CIN                      False\n",
       "Team = COL                      False\n",
       "Team = NYM                      False\n",
       "Team = HOU                      False\n",
       "Team = LA                       False\n",
       "Team = PHI                      False\n",
       "Team = MLW                      False\n",
       "Team = SD                       False\n",
       "Team = WAS                      False\n",
       "Team = PIT                      False\n",
       "Team = SF                       False\n",
       "Team = STL                      False\n",
       "Position = Catcher              False\n",
       "Position = First_Baseman        False\n",
       "Position = Second_Baseman       False\n",
       "Position = Shortstop            False\n",
       "Position = Third_Baseman        False\n",
       "Position = Outfielder           False\n",
       "Position = Designated_Hitter    False\n",
       "Position = Starting_Pitcher     False\n",
       "Position = Relief_Pitcher       False\n",
       "Height(inches)                  False\n",
       "Weight(pounds)                  False\n",
       "Age                             False\n",
       "dtype: bool"
      ]
     },
     "execution_count": 8,
     "metadata": {},
     "output_type": "execute_result"
    }
   ],
   "source": [
    "#data.isna().any()"
   ]
  },
  {
   "cell_type": "markdown",
   "metadata": {},
   "source": [
    "## Train Test Split"
   ]
  },
  {
   "cell_type": "code",
   "execution_count": 23,
   "metadata": {},
   "outputs": [],
   "source": [
    "input_features = [\n",
    "       'Height(inches)', 'Weight(pounds)' \n",
    "]\n",
    "\n",
    "output_features = [\n",
    "    'Age '\n",
    "]\n",
    "\n",
    "X_train, X_test, y_train, y_test = train_test_split(\n",
    "    data[input_features],\n",
    "    data[output_features]\n",
    ")"
   ]
  },
  {
   "cell_type": "markdown",
   "metadata": {},
   "source": [
    "## Linear Regression"
   ]
  },
  {
   "cell_type": "code",
   "execution_count": 24,
   "metadata": {},
   "outputs": [],
   "source": [
    "from sklearn.linear_model import LinearRegression"
   ]
  },
  {
   "cell_type": "code",
   "execution_count": 25,
   "metadata": {},
   "outputs": [],
   "source": [
    "linear_model = LinearRegression()\n",
    "linear_model.fit(X_train, y_train)\n",
    "linear_prediction = linear_model.predict(X_test)"
   ]
  },
  {
   "cell_type": "code",
   "execution_count": 27,
   "metadata": {},
   "outputs": [
    {
     "data": {
      "text/plain": [
       "0.026584003483561717"
      ]
     },
     "execution_count": 27,
     "metadata": {},
     "output_type": "execute_result"
    }
   ],
   "source": [
    "linear_model.score(X_test, y_test)"
   ]
  },
  {
   "cell_type": "code",
   "execution_count": 28,
   "metadata": {},
   "outputs": [
    {
     "data": {
      "text/plain": [
       "array([48.83350025])"
      ]
     },
     "execution_count": 28,
     "metadata": {},
     "output_type": "execute_result"
    }
   ],
   "source": [
    "linear_model.intercept_"
   ]
  },
  {
   "cell_type": "code",
   "execution_count": 29,
   "metadata": {},
   "outputs": [
    {
     "data": {
      "text/plain": [
       "array([[-0.43385577,  0.05851932]])"
      ]
     },
     "execution_count": 29,
     "metadata": {},
     "output_type": "execute_result"
    }
   ],
   "source": [
    "linear_model.coef_"
   ]
  },
  {
   "cell_type": "markdown",
   "metadata": {},
   "source": [
    "## Decision Tree"
   ]
  },
  {
   "cell_type": "code",
   "execution_count": 59,
   "metadata": {},
   "outputs": [],
   "source": [
    "from sklearn.tree import DecisionTreeRegressor"
   ]
  },
  {
   "cell_type": "code",
   "execution_count": 60,
   "metadata": {},
   "outputs": [],
   "source": [
    "input_features_tree = [\n",
    "       'Position = Catcher', 'Position = First_Baseman',\n",
    "       'Position = Second_Baseman', 'Position = Shortstop',\n",
    "       'Position = Third_Baseman', 'Position = Outfielder',\n",
    "       'Position = Designated_Hitter', 'Position = Starting_Pitcher',\n",
    "       'Position = Relief_Pitcher', 'Height(inches)', 'Weight(pounds)'\n",
    "]\n",
    "\n",
    "output_features_tree = [\n",
    "    'Age '\n",
    "]\n",
    "\n",
    "X_train_tree, X_test_tree, y_train_tree, y_test_tree = train_test_split(\n",
    "    data[input_features_tree],\n",
    "    data[output_features_tree]\n",
    ")"
   ]
  },
  {
   "cell_type": "code",
   "execution_count": 61,
   "metadata": {},
   "outputs": [],
   "source": [
    "regressor = DecisionTreeRegressor(random_state=191, max_depth=2)\n",
    "regressor.fit(X_train_tree, y_train_tree)\n",
    "regressor_prediction = regressor.predict(X_test_tree)"
   ]
  },
  {
   "cell_type": "code",
   "execution_count": 62,
   "metadata": {},
   "outputs": [
    {
     "data": {
      "text/plain": [
       "0.046977005186331744"
      ]
     },
     "execution_count": 62,
     "metadata": {},
     "output_type": "execute_result"
    }
   ],
   "source": [
    "regressor.score(X_test_tree, y_test_tree)"
   ]
  },
  {
   "cell_type": "markdown",
   "metadata": {},
   "source": [
    "## Random Forest Regressor"
   ]
  },
  {
   "cell_type": "code",
   "execution_count": 63,
   "metadata": {},
   "outputs": [],
   "source": [
    "from sklearn.ensemble import RandomForestRegressor"
   ]
  },
  {
   "cell_type": "code",
   "execution_count": 70,
   "metadata": {},
   "outputs": [],
   "source": [
    "rf_model = RandomForestRegressor(max_depth = 2, random_state=191, n_estimators=10)\n",
    "rf_model.fit(X_train_tree, y_train_tree.values.ravel())\n",
    "rf_prediction = rf_model.predict(X_test_tree)"
   ]
  },
  {
   "cell_type": "code",
   "execution_count": 71,
   "metadata": {},
   "outputs": [
    {
     "data": {
      "text/plain": [
       "0.07484170764944731"
      ]
     },
     "execution_count": 71,
     "metadata": {},
     "output_type": "execute_result"
    }
   ],
   "source": [
    "rf_model.score(X_test_tree, y_test_tree)"
   ]
  },
  {
   "cell_type": "markdown",
   "metadata": {},
   "source": [
    "## Multiclass Classification"
   ]
  },
  {
   "cell_type": "code",
   "execution_count": 109,
   "metadata": {},
   "outputs": [
    {
     "data": {
      "text/plain": [
       "(1033, 9)"
      ]
     },
     "execution_count": 109,
     "metadata": {},
     "output_type": "execute_result"
    }
   ],
   "source": [
    "one_hot_decoder = OneHotEncoder(categories=\"auto\")\n",
    "decode_data = data[['Position = Catcher', 'Position = First_Baseman',\n",
    "       'Position = Second_Baseman', 'Position = Shortstop',\n",
    "       'Position = Third_Baseman', 'Position = Outfielder',\n",
    "       'Position = Designated_Hitter', 'Position = Starting_Pitcher',\n",
    "       'Position = Relief_Pitcher']]\n",
    "one_hot_decoder.fit(decode_data)\n",
    "decode_data = one_hot_decoder.transform(decode_data)\n",
    "#decode_data.shape\n",
    "one_hot_decoder.inverse_transform(decode_data)."
   ]
  },
  {
   "cell_type": "code",
   "execution_count": 75,
   "metadata": {},
   "outputs": [],
   "source": [
    "input_features_multi = [\n",
    "       'Team = BAL', 'Team = CWS', 'Team = ANA', 'Team = BOS', 'Team = CLE',\n",
    "       'Team = OAK', 'Team = NYY', 'Team = DET', 'Team = SEA', 'Team = TB',\n",
    "       'Team = KC', 'Team = TEX', 'Team = TOR', 'Team = MIN', 'Team = ATL',\n",
    "       'Team = CHC', 'Team = ARZ', 'Team = FLA', 'Team = CIN', 'Team = COL',\n",
    "       'Team = NYM', 'Team = HOU', 'Team = LA', 'Team = PHI', 'Team = MLW',\n",
    "       'Team = SD', 'Team = WAS', 'Team = PIT', 'Team = SF', 'Team = STL',\n",
    "       'Age ', 'Height(inches)', 'Weight(pounds)'\n",
    "]\n",
    "\n",
    "output_features_multi = [\n",
    "    'Position = Catcher', 'Position = First_Baseman',\n",
    "       'Position = Second_Baseman', 'Position = Shortstop',\n",
    "       'Position = Third_Baseman', 'Position = Outfielder',\n",
    "       'Position = Designated_Hitter', 'Position = Starting_Pitcher',\n",
    "       'Position = Relief_Pitcher'\n",
    "]\n",
    "\n",
    "X_train_multi, X_test_multi, y_train_multi, y_test_multi = train_test_split(\n",
    "    data[input_features_multi],\n",
    "    data[output_features_multi]\n",
    ")"
   ]
  },
  {
   "cell_type": "code",
   "execution_count": 77,
   "metadata": {},
   "outputs": [
    {
     "ename": "ValueError",
     "evalue": "bad input shape (774, 9)",
     "output_type": "error",
     "traceback": [
      "\u001b[0;31m---------------------------------------------------------------------------\u001b[0m",
      "\u001b[0;31mValueError\u001b[0m                                Traceback (most recent call last)",
      "\u001b[0;32m<ipython-input-77-ce6531dcec0b>\u001b[0m in \u001b[0;36m<module>\u001b[0;34m\u001b[0m\n\u001b[1;32m      1\u001b[0m \u001b[0mmulti_log\u001b[0m \u001b[0;34m=\u001b[0m \u001b[0mLogisticRegression\u001b[0m\u001b[0;34m(\u001b[0m\u001b[0mmulti_class\u001b[0m\u001b[0;34m=\u001b[0m\u001b[0;34m\"multinomial\"\u001b[0m\u001b[0;34m,\u001b[0m \u001b[0msolver\u001b[0m \u001b[0;34m=\u001b[0m \u001b[0;34m\"newton-cg\"\u001b[0m\u001b[0;34m)\u001b[0m\u001b[0;34m\u001b[0m\u001b[0;34m\u001b[0m\u001b[0m\n\u001b[0;32m----> 2\u001b[0;31m \u001b[0mmulti_log\u001b[0m\u001b[0;34m.\u001b[0m\u001b[0mfit\u001b[0m\u001b[0;34m(\u001b[0m\u001b[0mX_test_multi\u001b[0m\u001b[0;34m,\u001b[0m \u001b[0my_train_multi\u001b[0m\u001b[0;34m)\u001b[0m\u001b[0;34m\u001b[0m\u001b[0;34m\u001b[0m\u001b[0m\n\u001b[0m",
      "\u001b[0;32m~/opt/anaconda3/lib/python3.7/site-packages/sklearn/linear_model/logistic.py\u001b[0m in \u001b[0;36mfit\u001b[0;34m(self, X, y, sample_weight)\u001b[0m\n\u001b[1;32m   1530\u001b[0m \u001b[0;34m\u001b[0m\u001b[0m\n\u001b[1;32m   1531\u001b[0m         X, y = check_X_y(X, y, accept_sparse='csr', dtype=_dtype, order=\"C\",\n\u001b[0;32m-> 1532\u001b[0;31m                          accept_large_sparse=solver != 'liblinear')\n\u001b[0m\u001b[1;32m   1533\u001b[0m         \u001b[0mcheck_classification_targets\u001b[0m\u001b[0;34m(\u001b[0m\u001b[0my\u001b[0m\u001b[0;34m)\u001b[0m\u001b[0;34m\u001b[0m\u001b[0;34m\u001b[0m\u001b[0m\n\u001b[1;32m   1534\u001b[0m         \u001b[0mself\u001b[0m\u001b[0;34m.\u001b[0m\u001b[0mclasses_\u001b[0m \u001b[0;34m=\u001b[0m \u001b[0mnp\u001b[0m\u001b[0;34m.\u001b[0m\u001b[0munique\u001b[0m\u001b[0;34m(\u001b[0m\u001b[0my\u001b[0m\u001b[0;34m)\u001b[0m\u001b[0;34m\u001b[0m\u001b[0;34m\u001b[0m\u001b[0m\n",
      "\u001b[0;32m~/opt/anaconda3/lib/python3.7/site-packages/sklearn/utils/validation.py\u001b[0m in \u001b[0;36mcheck_X_y\u001b[0;34m(X, y, accept_sparse, accept_large_sparse, dtype, order, copy, force_all_finite, ensure_2d, allow_nd, multi_output, ensure_min_samples, ensure_min_features, y_numeric, warn_on_dtype, estimator)\u001b[0m\n\u001b[1;32m    722\u001b[0m                         dtype=None)\n\u001b[1;32m    723\u001b[0m     \u001b[0;32melse\u001b[0m\u001b[0;34m:\u001b[0m\u001b[0;34m\u001b[0m\u001b[0;34m\u001b[0m\u001b[0m\n\u001b[0;32m--> 724\u001b[0;31m         \u001b[0my\u001b[0m \u001b[0;34m=\u001b[0m \u001b[0mcolumn_or_1d\u001b[0m\u001b[0;34m(\u001b[0m\u001b[0my\u001b[0m\u001b[0;34m,\u001b[0m \u001b[0mwarn\u001b[0m\u001b[0;34m=\u001b[0m\u001b[0;32mTrue\u001b[0m\u001b[0;34m)\u001b[0m\u001b[0;34m\u001b[0m\u001b[0;34m\u001b[0m\u001b[0m\n\u001b[0m\u001b[1;32m    725\u001b[0m         \u001b[0m_assert_all_finite\u001b[0m\u001b[0;34m(\u001b[0m\u001b[0my\u001b[0m\u001b[0;34m)\u001b[0m\u001b[0;34m\u001b[0m\u001b[0;34m\u001b[0m\u001b[0m\n\u001b[1;32m    726\u001b[0m     \u001b[0;32mif\u001b[0m \u001b[0my_numeric\u001b[0m \u001b[0;32mand\u001b[0m \u001b[0my\u001b[0m\u001b[0;34m.\u001b[0m\u001b[0mdtype\u001b[0m\u001b[0;34m.\u001b[0m\u001b[0mkind\u001b[0m \u001b[0;34m==\u001b[0m \u001b[0;34m'O'\u001b[0m\u001b[0;34m:\u001b[0m\u001b[0;34m\u001b[0m\u001b[0;34m\u001b[0m\u001b[0m\n",
      "\u001b[0;32m~/opt/anaconda3/lib/python3.7/site-packages/sklearn/utils/validation.py\u001b[0m in \u001b[0;36mcolumn_or_1d\u001b[0;34m(y, warn)\u001b[0m\n\u001b[1;32m    758\u001b[0m         \u001b[0;32mreturn\u001b[0m \u001b[0mnp\u001b[0m\u001b[0;34m.\u001b[0m\u001b[0mravel\u001b[0m\u001b[0;34m(\u001b[0m\u001b[0my\u001b[0m\u001b[0;34m)\u001b[0m\u001b[0;34m\u001b[0m\u001b[0;34m\u001b[0m\u001b[0m\n\u001b[1;32m    759\u001b[0m \u001b[0;34m\u001b[0m\u001b[0m\n\u001b[0;32m--> 760\u001b[0;31m     \u001b[0;32mraise\u001b[0m \u001b[0mValueError\u001b[0m\u001b[0;34m(\u001b[0m\u001b[0;34m\"bad input shape {0}\"\u001b[0m\u001b[0;34m.\u001b[0m\u001b[0mformat\u001b[0m\u001b[0;34m(\u001b[0m\u001b[0mshape\u001b[0m\u001b[0;34m)\u001b[0m\u001b[0;34m)\u001b[0m\u001b[0;34m\u001b[0m\u001b[0;34m\u001b[0m\u001b[0m\n\u001b[0m\u001b[1;32m    761\u001b[0m \u001b[0;34m\u001b[0m\u001b[0m\n\u001b[1;32m    762\u001b[0m \u001b[0;34m\u001b[0m\u001b[0m\n",
      "\u001b[0;31mValueError\u001b[0m: bad input shape (774, 9)"
     ]
    }
   ],
   "source": [
    "multi_log = LogisticRegression(multi_class=\"multinomial\", solver = \"newton-cg\")\n",
    "multi_log.fit(X_test_multi, y_train_multi)"
   ]
  },
  {
   "cell_type": "code",
   "execution_count": null,
   "metadata": {},
   "outputs": [],
   "source": []
  }
 ],
 "metadata": {
  "kernelspec": {
   "display_name": "Python 3",
   "language": "python",
   "name": "python3"
  },
  "language_info": {
   "codemirror_mode": {
    "name": "ipython",
    "version": 3
   },
   "file_extension": ".py",
   "mimetype": "text/x-python",
   "name": "python",
   "nbconvert_exporter": "python",
   "pygments_lexer": "ipython3",
   "version": "3.7.4"
  }
 },
 "nbformat": 4,
 "nbformat_minor": 2
}
