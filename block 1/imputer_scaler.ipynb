{
 "cells": [
  {
   "cell_type": "markdown",
   "metadata": {
    "ExecuteTime": {
     "end_time": "2020-03-19T08:52:48.471134Z",
     "start_time": "2020-03-19T08:52:48.467228Z"
    }
   },
   "source": [
    "# Übung 1c)"
   ]
  },
  {
   "cell_type": "markdown",
   "metadata": {},
   "source": [
    "Laden der Bibliotheken"
   ]
  },
  {
   "cell_type": "code",
   "execution_count": 75,
   "metadata": {
    "ExecuteTime": {
     "end_time": "2020-03-19T23:12:01.056395Z",
     "start_time": "2020-03-19T23:12:01.052404Z"
    }
   },
   "outputs": [],
   "source": [
    "import pandas as pd\n",
    "import numpy as np\n",
    "from sklearn.model_selection import train_test_split\n",
    "from sklearn.preprocessing import MinMaxScaler, RobustScaler, LabelEncoder, OneHotEncoder\n",
    "from sklearn.impute import SimpleImputer\n",
    "from sklearn.pipeline import FeatureUnion"
   ]
  },
  {
   "cell_type": "markdown",
   "metadata": {},
   "source": [
    "Laden des Datensatzes"
   ]
  },
  {
   "cell_type": "code",
   "execution_count": 76,
   "metadata": {
    "ExecuteTime": {
     "end_time": "2020-03-19T23:12:01.149144Z",
     "start_time": "2020-03-19T23:12:01.062376Z"
    }
   },
   "outputs": [],
   "source": [
    "data = pd.read_csv(\"../../data/bikesharing.csv\")\n"
   ]
  },
  {
   "cell_type": "code",
   "execution_count": 77,
   "metadata": {},
   "outputs": [
    {
     "data": {
      "text/html": [
       "<div>\n",
       "<style scoped>\n",
       "    .dataframe tbody tr th:only-of-type {\n",
       "        vertical-align: middle;\n",
       "    }\n",
       "\n",
       "    .dataframe tbody tr th {\n",
       "        vertical-align: top;\n",
       "    }\n",
       "\n",
       "    .dataframe thead th {\n",
       "        text-align: right;\n",
       "    }\n",
       "</style>\n",
       "<table border=\"1\" class=\"dataframe\">\n",
       "  <thead>\n",
       "    <tr style=\"text-align: right;\">\n",
       "      <th></th>\n",
       "      <th>Unnamed: 0</th>\n",
       "      <th>instant</th>\n",
       "      <th>dteday</th>\n",
       "      <th>season</th>\n",
       "      <th>yr</th>\n",
       "      <th>mnth</th>\n",
       "      <th>hr</th>\n",
       "      <th>holiday</th>\n",
       "      <th>weekday</th>\n",
       "      <th>workingday</th>\n",
       "      <th>weathersit</th>\n",
       "      <th>temp</th>\n",
       "      <th>atemp</th>\n",
       "      <th>hum</th>\n",
       "      <th>windspeed</th>\n",
       "      <th>casual</th>\n",
       "      <th>registered</th>\n",
       "      <th>cnt</th>\n",
       "    </tr>\n",
       "  </thead>\n",
       "  <tbody>\n",
       "    <tr>\n",
       "      <td>0</td>\n",
       "      <td>0</td>\n",
       "      <td>1</td>\n",
       "      <td>2011-01-01</td>\n",
       "      <td>spring</td>\n",
       "      <td>0</td>\n",
       "      <td>1</td>\n",
       "      <td>0</td>\n",
       "      <td>0</td>\n",
       "      <td>Saturday</td>\n",
       "      <td>No</td>\n",
       "      <td>Clear</td>\n",
       "      <td>NaN</td>\n",
       "      <td>0.2879</td>\n",
       "      <td>0.81</td>\n",
       "      <td>0.0</td>\n",
       "      <td>3.0</td>\n",
       "      <td>13.0</td>\n",
       "      <td>16.0</td>\n",
       "    </tr>\n",
       "    <tr>\n",
       "      <td>1</td>\n",
       "      <td>1</td>\n",
       "      <td>2</td>\n",
       "      <td>2011-01-01</td>\n",
       "      <td>spring</td>\n",
       "      <td>0</td>\n",
       "      <td>1</td>\n",
       "      <td>1</td>\n",
       "      <td>0</td>\n",
       "      <td>Saturday</td>\n",
       "      <td>No</td>\n",
       "      <td>Clear</td>\n",
       "      <td>0.22</td>\n",
       "      <td>0.2727</td>\n",
       "      <td>0.80</td>\n",
       "      <td>0.0</td>\n",
       "      <td>8.0</td>\n",
       "      <td>32.0</td>\n",
       "      <td>40.0</td>\n",
       "    </tr>\n",
       "    <tr>\n",
       "      <td>2</td>\n",
       "      <td>2</td>\n",
       "      <td>3</td>\n",
       "      <td>2011-01-01</td>\n",
       "      <td>spring</td>\n",
       "      <td>0</td>\n",
       "      <td>1</td>\n",
       "      <td>2</td>\n",
       "      <td>0</td>\n",
       "      <td>Saturday</td>\n",
       "      <td>No</td>\n",
       "      <td>Clear</td>\n",
       "      <td>0.22</td>\n",
       "      <td>0.2727</td>\n",
       "      <td>NaN</td>\n",
       "      <td>NaN</td>\n",
       "      <td>5.0</td>\n",
       "      <td>27.0</td>\n",
       "      <td>32.0</td>\n",
       "    </tr>\n",
       "    <tr>\n",
       "      <td>3</td>\n",
       "      <td>3</td>\n",
       "      <td>4</td>\n",
       "      <td>2011-01-01</td>\n",
       "      <td>spring</td>\n",
       "      <td>0</td>\n",
       "      <td>1</td>\n",
       "      <td>3</td>\n",
       "      <td>0</td>\n",
       "      <td>Saturday</td>\n",
       "      <td>No</td>\n",
       "      <td>Clear</td>\n",
       "      <td>0.24</td>\n",
       "      <td>NaN</td>\n",
       "      <td>0.75</td>\n",
       "      <td>0.0</td>\n",
       "      <td>3.0</td>\n",
       "      <td>10.0</td>\n",
       "      <td>13.0</td>\n",
       "    </tr>\n",
       "    <tr>\n",
       "      <td>4</td>\n",
       "      <td>4</td>\n",
       "      <td>5</td>\n",
       "      <td>2011-01-01</td>\n",
       "      <td>spring</td>\n",
       "      <td>0</td>\n",
       "      <td>1</td>\n",
       "      <td>4</td>\n",
       "      <td>0</td>\n",
       "      <td>Saturday</td>\n",
       "      <td>No</td>\n",
       "      <td>Clear</td>\n",
       "      <td>0.24</td>\n",
       "      <td>0.2879</td>\n",
       "      <td>NaN</td>\n",
       "      <td>0.0</td>\n",
       "      <td>0.0</td>\n",
       "      <td>1.0</td>\n",
       "      <td>NaN</td>\n",
       "    </tr>\n",
       "  </tbody>\n",
       "</table>\n",
       "</div>"
      ],
      "text/plain": [
       "   Unnamed: 0  instant      dteday  season  yr  mnth  hr  holiday   weekday  \\\n",
       "0           0        1  2011-01-01  spring   0     1   0        0  Saturday   \n",
       "1           1        2  2011-01-01  spring   0     1   1        0  Saturday   \n",
       "2           2        3  2011-01-01  spring   0     1   2        0  Saturday   \n",
       "3           3        4  2011-01-01  spring   0     1   3        0  Saturday   \n",
       "4           4        5  2011-01-01  spring   0     1   4        0  Saturday   \n",
       "\n",
       "  workingday weathersit  temp   atemp   hum  windspeed  casual  registered  \\\n",
       "0         No      Clear   NaN  0.2879  0.81        0.0     3.0        13.0   \n",
       "1         No      Clear  0.22  0.2727  0.80        0.0     8.0        32.0   \n",
       "2         No      Clear  0.22  0.2727   NaN        NaN     5.0        27.0   \n",
       "3         No      Clear  0.24     NaN  0.75        0.0     3.0        10.0   \n",
       "4         No      Clear  0.24  0.2879   NaN        0.0     0.0         1.0   \n",
       "\n",
       "    cnt  \n",
       "0  16.0  \n",
       "1  40.0  \n",
       "2  32.0  \n",
       "3  13.0  \n",
       "4   NaN  "
      ]
     },
     "execution_count": 77,
     "metadata": {},
     "output_type": "execute_result"
    }
   ],
   "source": [
    "data.head()"
   ]
  },
  {
   "cell_type": "code",
   "execution_count": 78,
   "metadata": {},
   "outputs": [],
   "source": [
    "#Drop unnötige Spalten\n",
    "data = data.drop(columns=['dteday', \"Unnamed: 0\"])"
   ]
  },
  {
   "cell_type": "code",
   "execution_count": 79,
   "metadata": {},
   "outputs": [
    {
     "data": {
      "text/plain": [
       "Index(['instant', 'season', 'yr', 'mnth', 'hr', 'holiday', 'weekday',\n",
       "       'workingday', 'weathersit', 'temp', 'atemp', 'hum', 'windspeed',\n",
       "       'casual', 'registered', 'cnt'],\n",
       "      dtype='object')"
      ]
     },
     "execution_count": 79,
     "metadata": {},
     "output_type": "execute_result"
    }
   ],
   "source": [
    "data.columns"
   ]
  },
  {
   "cell_type": "code",
   "execution_count": 80,
   "metadata": {},
   "outputs": [],
   "source": []
  },
  {
   "cell_type": "markdown",
   "metadata": {},
   "source": [
    "Prüfen der Daten auf NAN's"
   ]
  },
  {
   "cell_type": "code",
   "execution_count": 81,
   "metadata": {
    "ExecuteTime": {
     "end_time": "2020-03-19T23:12:01.158149Z",
     "start_time": "2020-03-19T23:12:01.151140Z"
    }
   },
   "outputs": [
    {
     "data": {
      "text/plain": [
       "instant       False\n",
       "season        False\n",
       "yr            False\n",
       "mnth          False\n",
       "hr            False\n",
       "holiday       False\n",
       "weekday       False\n",
       "workingday    False\n",
       "weathersit     True\n",
       "temp           True\n",
       "atemp          True\n",
       "hum            True\n",
       "windspeed      True\n",
       "casual         True\n",
       "registered     True\n",
       "cnt            True\n",
       "dtype: bool"
      ]
     },
     "execution_count": 81,
     "metadata": {},
     "output_type": "execute_result"
    }
   ],
   "source": [
    "data.isna().any()"
   ]
  },
  {
   "cell_type": "code",
   "execution_count": 82,
   "metadata": {},
   "outputs": [],
   "source": [
    "#Löschen der Zeilen mit NAN ins katgeorischen Spalten\n",
    "data = data.dropna(subset= [\"weathersit\"])"
   ]
  },
  {
   "cell_type": "markdown",
   "metadata": {},
   "source": [
    "Input und Output Variablen festlegen"
   ]
  },
  {
   "cell_type": "code",
   "execution_count": 94,
   "metadata": {},
   "outputs": [],
   "source": [
    "input_features = [\n",
    "    'instant',\n",
    "    'season',\n",
    "    'yr',\n",
    "    'mnth',\n",
    "    'hr',\n",
    "    'holiday',\n",
    "    'weekday',\n",
    "    'workingday',\n",
    "    'weathersit',\n",
    "    \"temp\",\n",
    "    \"atemp\",\n",
    "    \"hum\",\n",
    "    \"windspeed\",\n",
    "    \"casual\",\n",
    "    \"registered\"\n",
    "]\n",
    "\n",
    "output_features = [\n",
    "    'cnt'\n",
    "]\n",
    "\n",
    "X_train, X_test, y_train, y_test = train_test_split(\n",
    "    data[input_features],\n",
    "    data[output_features]\n",
    ")"
   ]
  },
  {
   "cell_type": "code",
   "execution_count": 83,
   "metadata": {},
   "outputs": [
    {
     "data": {
      "text/html": [
       "<div>\n",
       "<style scoped>\n",
       "    .dataframe tbody tr th:only-of-type {\n",
       "        vertical-align: middle;\n",
       "    }\n",
       "\n",
       "    .dataframe tbody tr th {\n",
       "        vertical-align: top;\n",
       "    }\n",
       "\n",
       "    .dataframe thead th {\n",
       "        text-align: right;\n",
       "    }\n",
       "</style>\n",
       "<table border=\"1\" class=\"dataframe\">\n",
       "  <thead>\n",
       "    <tr style=\"text-align: right;\">\n",
       "      <th></th>\n",
       "      <th>instant</th>\n",
       "      <th>yr</th>\n",
       "      <th>mnth</th>\n",
       "      <th>hr</th>\n",
       "      <th>holiday</th>\n",
       "      <th>temp</th>\n",
       "      <th>atemp</th>\n",
       "      <th>hum</th>\n",
       "      <th>windspeed</th>\n",
       "      <th>casual</th>\n",
       "      <th>registered</th>\n",
       "      <th>cnt</th>\n",
       "    </tr>\n",
       "  </thead>\n",
       "  <tbody>\n",
       "    <tr>\n",
       "      <td>count</td>\n",
       "      <td>15844.000000</td>\n",
       "      <td>15844.000000</td>\n",
       "      <td>15844.000000</td>\n",
       "      <td>15844.000000</td>\n",
       "      <td>15844.000000</td>\n",
       "      <td>14460.000000</td>\n",
       "      <td>14359.000000</td>\n",
       "      <td>14432.000000</td>\n",
       "      <td>14380.000000</td>\n",
       "      <td>14427.000000</td>\n",
       "      <td>14464.000000</td>\n",
       "      <td>14404.000000</td>\n",
       "    </tr>\n",
       "    <tr>\n",
       "      <td>mean</td>\n",
       "      <td>8685.450139</td>\n",
       "      <td>0.502398</td>\n",
       "      <td>6.533893</td>\n",
       "      <td>11.540141</td>\n",
       "      <td>0.028276</td>\n",
       "      <td>0.497055</td>\n",
       "      <td>0.475303</td>\n",
       "      <td>0.627277</td>\n",
       "      <td>0.190771</td>\n",
       "      <td>35.616206</td>\n",
       "      <td>153.360689</td>\n",
       "      <td>188.965079</td>\n",
       "    </tr>\n",
       "    <tr>\n",
       "      <td>std</td>\n",
       "      <td>5024.618789</td>\n",
       "      <td>0.500010</td>\n",
       "      <td>3.436448</td>\n",
       "      <td>6.903705</td>\n",
       "      <td>0.165765</td>\n",
       "      <td>0.192496</td>\n",
       "      <td>0.171555</td>\n",
       "      <td>0.193173</td>\n",
       "      <td>0.122578</td>\n",
       "      <td>49.294489</td>\n",
       "      <td>150.992671</td>\n",
       "      <td>181.347796</td>\n",
       "    </tr>\n",
       "    <tr>\n",
       "      <td>min</td>\n",
       "      <td>1.000000</td>\n",
       "      <td>0.000000</td>\n",
       "      <td>1.000000</td>\n",
       "      <td>0.000000</td>\n",
       "      <td>0.000000</td>\n",
       "      <td>0.020000</td>\n",
       "      <td>0.015200</td>\n",
       "      <td>0.000000</td>\n",
       "      <td>0.000000</td>\n",
       "      <td>0.000000</td>\n",
       "      <td>0.000000</td>\n",
       "      <td>1.000000</td>\n",
       "    </tr>\n",
       "    <tr>\n",
       "      <td>25%</td>\n",
       "      <td>4327.500000</td>\n",
       "      <td>0.000000</td>\n",
       "      <td>4.000000</td>\n",
       "      <td>6.000000</td>\n",
       "      <td>0.000000</td>\n",
       "      <td>0.340000</td>\n",
       "      <td>0.333300</td>\n",
       "      <td>0.480000</td>\n",
       "      <td>0.104500</td>\n",
       "      <td>4.000000</td>\n",
       "      <td>34.000000</td>\n",
       "      <td>39.000000</td>\n",
       "    </tr>\n",
       "    <tr>\n",
       "      <td>50%</td>\n",
       "      <td>8690.500000</td>\n",
       "      <td>1.000000</td>\n",
       "      <td>7.000000</td>\n",
       "      <td>12.000000</td>\n",
       "      <td>0.000000</td>\n",
       "      <td>0.500000</td>\n",
       "      <td>0.484800</td>\n",
       "      <td>0.630000</td>\n",
       "      <td>0.194000</td>\n",
       "      <td>17.000000</td>\n",
       "      <td>115.000000</td>\n",
       "      <td>142.000000</td>\n",
       "    </tr>\n",
       "    <tr>\n",
       "      <td>75%</td>\n",
       "      <td>13041.250000</td>\n",
       "      <td>1.000000</td>\n",
       "      <td>10.000000</td>\n",
       "      <td>18.000000</td>\n",
       "      <td>0.000000</td>\n",
       "      <td>0.660000</td>\n",
       "      <td>0.621200</td>\n",
       "      <td>0.780000</td>\n",
       "      <td>0.253700</td>\n",
       "      <td>48.000000</td>\n",
       "      <td>219.000000</td>\n",
       "      <td>281.000000</td>\n",
       "    </tr>\n",
       "    <tr>\n",
       "      <td>max</td>\n",
       "      <td>17378.000000</td>\n",
       "      <td>1.000000</td>\n",
       "      <td>12.000000</td>\n",
       "      <td>23.000000</td>\n",
       "      <td>1.000000</td>\n",
       "      <td>1.000000</td>\n",
       "      <td>1.000000</td>\n",
       "      <td>1.000000</td>\n",
       "      <td>0.850700</td>\n",
       "      <td>367.000000</td>\n",
       "      <td>886.000000</td>\n",
       "      <td>977.000000</td>\n",
       "    </tr>\n",
       "  </tbody>\n",
       "</table>\n",
       "</div>"
      ],
      "text/plain": [
       "            instant            yr          mnth            hr       holiday  \\\n",
       "count  15844.000000  15844.000000  15844.000000  15844.000000  15844.000000   \n",
       "mean    8685.450139      0.502398      6.533893     11.540141      0.028276   \n",
       "std     5024.618789      0.500010      3.436448      6.903705      0.165765   \n",
       "min        1.000000      0.000000      1.000000      0.000000      0.000000   \n",
       "25%     4327.500000      0.000000      4.000000      6.000000      0.000000   \n",
       "50%     8690.500000      1.000000      7.000000     12.000000      0.000000   \n",
       "75%    13041.250000      1.000000     10.000000     18.000000      0.000000   \n",
       "max    17378.000000      1.000000     12.000000     23.000000      1.000000   \n",
       "\n",
       "               temp         atemp           hum     windspeed        casual  \\\n",
       "count  14460.000000  14359.000000  14432.000000  14380.000000  14427.000000   \n",
       "mean       0.497055      0.475303      0.627277      0.190771     35.616206   \n",
       "std        0.192496      0.171555      0.193173      0.122578     49.294489   \n",
       "min        0.020000      0.015200      0.000000      0.000000      0.000000   \n",
       "25%        0.340000      0.333300      0.480000      0.104500      4.000000   \n",
       "50%        0.500000      0.484800      0.630000      0.194000     17.000000   \n",
       "75%        0.660000      0.621200      0.780000      0.253700     48.000000   \n",
       "max        1.000000      1.000000      1.000000      0.850700    367.000000   \n",
       "\n",
       "         registered           cnt  \n",
       "count  14464.000000  14404.000000  \n",
       "mean     153.360689    188.965079  \n",
       "std      150.992671    181.347796  \n",
       "min        0.000000      1.000000  \n",
       "25%       34.000000     39.000000  \n",
       "50%      115.000000    142.000000  \n",
       "75%      219.000000    281.000000  \n",
       "max      886.000000    977.000000  "
      ]
     },
     "execution_count": 83,
     "metadata": {},
     "output_type": "execute_result"
    }
   ],
   "source": [
    "data.describe()"
   ]
  },
  {
   "cell_type": "code",
   "execution_count": 84,
   "metadata": {},
   "outputs": [],
   "source": [
    "categorical_columns = data[[\"season\", \"weekday\", \"workingday\", \"weathersit\"]]\n",
    "numeric_columns = data[[\"cnt\", \"registered\", \"casual\", \"windspeed\", \"hum\", \"atemp\", \"temp\", \"instant\"]]\n",
    "date_columns = data[[\"yr\", \"mnth\", \"holiday\", \"hr\"]]"
   ]
  },
  {
   "cell_type": "markdown",
   "metadata": {},
   "source": [
    "Imputieren der numerische Daten"
   ]
  },
  {
   "cell_type": "code",
   "execution_count": 85,
   "metadata": {
    "ExecuteTime": {
     "end_time": "2020-03-19T23:12:01.192030Z",
     "start_time": "2020-03-19T23:12:01.162110Z"
    }
   },
   "outputs": [
    {
     "data": {
      "text/plain": [
       "array([[1.6000e+01, 1.3000e+01, 3.0000e+00, ..., 2.8790e-01, 5.0000e-01,\n",
       "        1.0000e+00],\n",
       "       [4.0000e+01, 3.2000e+01, 8.0000e+00, ..., 2.7270e-01, 2.2000e-01,\n",
       "        2.0000e+00],\n",
       "       [3.2000e+01, 2.7000e+01, 5.0000e+00, ..., 2.7270e-01, 2.2000e-01,\n",
       "        3.0000e+00],\n",
       "       ...,\n",
       "       [8.9000e+01, 8.1000e+01, 8.0000e+00, ..., 4.8480e-01, 2.6000e-01,\n",
       "        1.7376e+04],\n",
       "       [9.0000e+01, 8.3000e+01, 7.0000e+00, ..., 2.5760e-01, 2.6000e-01,\n",
       "        1.7377e+04],\n",
       "       [6.1000e+01, 4.8000e+01, 1.3000e+01, ..., 2.7270e-01, 2.6000e-01,\n",
       "        1.7378e+04]])"
      ]
     },
     "execution_count": 85,
     "metadata": {},
     "output_type": "execute_result"
    }
   ],
   "source": [
    "imputer = SimpleImputer(strategy=\"median\")\n",
    "imputer.fit(data[[\"cnt\", \"registered\", \"casual\", \"windspeed\", \"hum\", \"atemp\", \"temp\", \"instant\"]])\n",
    "imputed_data = imputer.transform(data[[\"cnt\", \"registered\", \"casual\", \"windspeed\", \"hum\", \"atemp\", \"temp\", \"instant\"]])\n",
    "imputed_data"
   ]
  },
  {
   "cell_type": "markdown",
   "metadata": {},
   "source": [
    "Skalieren der numerischen Daten"
   ]
  },
  {
   "cell_type": "code",
   "execution_count": 86,
   "metadata": {
    "ExecuteTime": {
     "end_time": "2020-03-19T23:12:01.202032Z",
     "start_time": "2020-03-19T23:12:01.196020Z"
    }
   },
   "outputs": [
    {
     "data": {
      "text/plain": [
       "array([[1.53688525e-02, 1.46726862e-02, 8.17438692e-03, ...,\n",
       "        2.76909017e-01, 4.89795918e-01, 0.00000000e+00],\n",
       "       [3.99590164e-02, 3.61173815e-02, 2.17983651e-02, ...,\n",
       "        2.61474411e-01, 2.04081633e-01, 5.75473327e-05],\n",
       "       [3.17622951e-02, 3.04740406e-02, 1.36239782e-02, ...,\n",
       "        2.61474411e-01, 2.04081633e-01, 1.15094665e-04],\n",
       "       ...,\n",
       "       [9.01639344e-02, 9.14221219e-02, 2.17983651e-02, ...,\n",
       "        4.76848091e-01, 2.44897959e-01, 9.99884905e-01],\n",
       "       [9.11885246e-02, 9.36794582e-02, 1.90735695e-02, ...,\n",
       "        2.46141348e-01, 2.44897959e-01, 9.99942453e-01],\n",
       "       [6.14754098e-02, 5.41760722e-02, 3.54223433e-02, ...,\n",
       "        2.61474411e-01, 2.44897959e-01, 1.00000000e+00]])"
      ]
     },
     "execution_count": 86,
     "metadata": {},
     "output_type": "execute_result"
    }
   ],
   "source": [
    "scaler = MinMaxScaler()\n",
    "scaler.fit(imputed_data)\n",
    "scaled_data = scaler.transform(imputed_data)\n",
    "scaled_data"
   ]
  },
  {
   "cell_type": "markdown",
   "metadata": {},
   "source": [
    "One Hot Encoding der kategorischen Variablen"
   ]
  },
  {
   "cell_type": "code",
   "execution_count": 87,
   "metadata": {},
   "outputs": [],
   "source": [
    "one_hot_encoder = OneHotEncoder()\n",
    "data_to_encode = data[[\"season\", \"weekday\", \"workingday\", \"weathersit\"]]\n",
    "\n",
    "encoded_data = one_hot_encoder.fit_transform(data_to_encode)"
   ]
  },
  {
   "cell_type": "markdown",
   "metadata": {},
   "source": [
    "Column Selector um numerische und kategorische Daten zu unterscheiden"
   ]
  },
  {
   "cell_type": "code",
   "execution_count": 88,
   "metadata": {
    "ExecuteTime": {
     "end_time": "2020-03-19T23:12:01.290765Z",
     "start_time": "2020-03-19T23:12:01.283787Z"
    }
   },
   "outputs": [],
   "source": [
    "class ColumnSelector:\n",
    "    \n",
    "    def __init__(self, select_numeric=True):\n",
    "        self.select_numeric = select_numeric\n",
    "    \n",
    "    def fit(self, X, y=None):\n",
    "        return self\n",
    "    \n",
    "    def transform(self, X, y=None):\n",
    "        if self.select_numeric:\n",
    "            return X.select_dtypes(include=[\"number\"])\n",
    "        elif not self.select_numeric:\n",
    "            return X.select_dtypes(exclude=[\"number\"])"
   ]
  },
  {
   "cell_type": "code",
   "execution_count": 89,
   "metadata": {
    "ExecuteTime": {
     "end_time": "2020-03-19T23:12:01.316696Z",
     "start_time": "2020-03-19T23:12:01.295752Z"
    }
   },
   "outputs": [],
   "source": [
    "num_pipeline = Pipeline(steps=[\n",
    "    (\"select numbers\", ColumnSelector(select_numeric=True)),\n",
    "    (\"impute data\", SimpleImputer(strategy=\"median\")),\n",
    "    (\"scale data\", MinMaxScaler())\n",
    "])"
   ]
  },
  {
   "cell_type": "code",
   "execution_count": 90,
   "metadata": {
    "ExecuteTime": {
     "end_time": "2020-03-19T23:12:01.340427Z",
     "start_time": "2020-03-19T23:12:01.318691Z"
    }
   },
   "outputs": [],
   "source": [
    "non_num_pipeline = Pipeline(steps=[\n",
    "    (\"select non numeric\", ColumnSelector(select_numeric=False)),\n",
    "    (\"encode data\", OneHotEncoder())\n",
    "])"
   ]
  },
  {
   "cell_type": "code",
   "execution_count": 91,
   "metadata": {
    "ExecuteTime": {
     "end_time": "2020-03-19T23:12:01.442156Z",
     "start_time": "2020-03-19T23:12:01.342421Z"
    }
   },
   "outputs": [
    {
     "data": {
      "text/plain": [
       "<15844x17 sparse matrix of type '<class 'numpy.float64'>'\n",
       "\twith 63376 stored elements in Compressed Sparse Row format>"
      ]
     },
     "execution_count": 91,
     "metadata": {},
     "output_type": "execute_result"
    }
   ],
   "source": [
    "num_pipeline.fit(data)\n",
    "non_num_pipeline.fit(data)\n",
    "\n",
    "num_pipeline.transform(data)\n",
    "non_num_pipeline.transform(data)"
   ]
  },
  {
   "cell_type": "markdown",
   "metadata": {},
   "source": [
    "Feature Union der numerischen und nicht numerischen Daten aus der Pipeline"
   ]
  },
  {
   "cell_type": "code",
   "execution_count": 18,
   "metadata": {
    "ExecuteTime": {
     "end_time": "2020-03-19T23:12:01.449139Z",
     "start_time": "2020-03-19T23:12:01.446147Z"
    }
   },
   "outputs": [],
   "source": [
    "from sklearn.pipeline import FeatureUnion"
   ]
  },
  {
   "cell_type": "code",
   "execution_count": 92,
   "metadata": {
    "ExecuteTime": {
     "end_time": "2020-03-19T23:12:01.469871Z",
     "start_time": "2020-03-19T23:12:01.452129Z"
    }
   },
   "outputs": [],
   "source": [
    "X_pipeline = FeatureUnion(transformer_list=[\n",
    "    (\"numeric pipeline\", Pipeline(steps=[\n",
    "        (\"select numbers\", ColumnSelector(select_numeric=True)),\n",
    "        (\"impute data\", SimpleImputer(strategy=\"median\")),\n",
    "        (\"scale data\", MinMaxScaler())\n",
    "    ])),\n",
    "    (\"non_numeric pipeline\", Pipeline(steps=[\n",
    "        (\"select non numeric\", ColumnSelector(select_numeric=False)),\n",
    "        (\"encode data\", OneHotEncoder())\n",
    "    ]))\n",
    "])"
   ]
  },
  {
   "cell_type": "code",
   "execution_count": 95,
   "metadata": {
    "ExecuteTime": {
     "end_time": "2020-03-19T23:12:01.557642Z",
     "start_time": "2020-03-19T23:12:01.471865Z"
    }
   },
   "outputs": [],
   "source": [
    "X_pipeline.fit(X_train)\n",
    "X_train_p = X_pipeline.transform(X_train)\n",
    "X_test_p = X_pipeline.transform(X_test)"
   ]
  },
  {
   "cell_type": "code",
   "execution_count": 97,
   "metadata": {
    "ExecuteTime": {
     "end_time": "2020-03-19T23:12:01.566616Z",
     "start_time": "2020-03-19T23:12:01.560630Z"
    }
   },
   "outputs": [],
   "source": [
    "y_pipeline = Pipeline(steps=[\n",
    "    (\"scale data\", MinMaxScaler())\n",
    "])"
   ]
  },
  {
   "cell_type": "code",
   "execution_count": 98,
   "metadata": {
    "ExecuteTime": {
     "end_time": "2020-03-19T23:12:01.603504Z",
     "start_time": "2020-03-19T23:12:01.569604Z"
    }
   },
   "outputs": [],
   "source": [
    "y_pipeline.fit(y_train)\n",
    "y_train_p = y_pipeline.transform(y_train)\n",
    "y_test_p = y_pipeline.transform(y_test)"
   ]
  },
  {
   "cell_type": "code",
   "execution_count": null,
   "metadata": {},
   "outputs": [],
   "source": []
  }
 ],
 "metadata": {
  "kernelspec": {
   "display_name": "Python 3",
   "language": "python",
   "name": "python3"
  },
  "language_info": {
   "codemirror_mode": {
    "name": "ipython",
    "version": 3
   },
   "file_extension": ".py",
   "mimetype": "text/x-python",
   "name": "python",
   "nbconvert_exporter": "python",
   "pygments_lexer": "ipython3",
   "version": "3.7.4"
  }
 },
 "nbformat": 4,
 "nbformat_minor": 2
}
