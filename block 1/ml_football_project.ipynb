{
 "cells": [
  {
   "cell_type": "code",
   "execution_count": 8,
   "metadata": {},
   "outputs": [],
   "source": [
    "import pandas as pd\n",
    "import seaborn as sns\n",
    "from matplotlib import pyplot as plt"
   ]
  },
  {
   "cell_type": "code",
   "execution_count": 9,
   "metadata": {},
   "outputs": [
    {
     "name": "stdout",
     "output_type": "stream",
     "text": [
      "<class 'pandas.core.frame.DataFrame'>\n",
      "RangeIndex: 214 entries, 0 to 213\n",
      "Columns: 105 entries, Div to AvgCAHA\n",
      "dtypes: float64(82), int64(16), object(7)\n",
      "memory usage: 175.7+ KB\n"
     ]
    }
   ],
   "source": [
    "data = pd.read_csv(\"DeutscheBundesliga_19_20.csv\")\n",
    "data.info()"
   ]
  },
  {
   "cell_type": "markdown",
   "metadata": {},
   "source": [
    "## Erklärungen zu den Spalten\n",
    "\n",
    "\n",
    "Div = League Division\n",
    "Date = Match Date (dd/mm/yy)\n",
    "Time = Time of match kick off/\n",
    "HomeTeam = Home Team/\n",
    "AwayTeam = Away Team/\n",
    "FTHG and HG = Full Time Home Team Goals\n",
    "FTAG and AG = Full Time Away Team Goals\n",
    "FTR and Res = Full Time Result (H=Home Win, D=Draw, A=Away Win)\n",
    "HTHG = Half Time Home Team Goals\n",
    "HTAG = Half Time Away Team Goals\n",
    "HTR = Half Time Result (H=Home Win, D=Draw, A=Away Win)\n",
    "\n",
    "Match Statistics (where available)\n",
    "Attendance = Crowd Attendance\n",
    "Referee = Match Referee\n",
    "HS = Home Team Shots\n",
    "AS = Away Team Shots\n",
    "HST = Home Team Shots on Target\n",
    "AST = Away Team Shots on Target\n",
    "HHW = Home Team Hit Woodwork\n",
    "AHW = Away Team Hit Woodwork\n",
    "HC = Home Team Corners\n",
    "AC = Away Team Corners\n",
    "HF = Home Team Fouls Committed\n",
    "AF = Away Team Fouls Committed\n",
    "HFKC = Home Team Free Kicks Conceded\n",
    "AFKC = Away Team Free Kicks Conceded\n",
    "HO = Home Team Offsides\n",
    "AO = Away Team Offsides\n",
    "HY = Home Team Yellow Cards\n",
    "AY = Away Team Yellow Cards\n",
    "HR = Home Team Red Cards\n",
    "AR = Away Team Red Cards\n",
    "HBP = Home Team Bookings Points (10 = yellow, 25 = red)\n",
    "ABP = Away Team Bookings Points (10 = yellow, 25 = red)\n",
    "\n",
    "Note that Free Kicks Conceeded includes fouls, offsides and any other offense commmitted and will always be equal to or higher than the number of fouls. Fouls make up the vast majority of Free Kicks Conceded. Free Kicks Conceded are shown when specific data on Fouls are not available (France 2nd, Belgium 1st and Greece 1st divisions).\n",
    "\n",
    "Note also that English and Scottish yellow cards do not include the initial yellow card when a second is shown to a player converting it into a red, but this is included as a yellow (plus red) for European games.\n",
    "\n",
    "\n",
    "Key to 1X2 (match) betting odds data:\n",
    "\n",
    "B365H = Bet365 home win odds\n",
    "B365D = Bet365 draw odds\n",
    "B365A = Bet365 away win odds\n",
    "BSH = Blue Square home win odds\n",
    "BSD = Blue Square draw odds\n",
    "BSA = Blue Square away win odds\n",
    "BWH = Bet&Win home win odds\n",
    "BWD = Bet&Win draw odds\n",
    "BWA = Bet&Win away win odds\n",
    "GBH = Gamebookers home win odds\n",
    "GBD = Gamebookers draw odds\n",
    "GBA = Gamebookers away win odds\n",
    "IWH = Interwetten home win odds\n",
    "IWD = Interwetten draw odds\n",
    "IWA = Interwetten away win odds\n",
    "LBH = Ladbrokes home win odds\n",
    "LBD = Ladbrokes draw odds\n",
    "LBA = Ladbrokes away win odds\n",
    "PSH and PH = Pinnacle home win odds\n",
    "PSD and PD = Pinnacle draw odds\n",
    "PSA and PA = Pinnacle away win odds\n",
    "SOH = Sporting Odds home win odds\n",
    "SOD = Sporting Odds draw odds\n",
    "SOA = Sporting Odds away win odds\n",
    "SBH = Sportingbet home win odds\n",
    "SBD = Sportingbet draw odds\n",
    "SBA = Sportingbet away win odds\n",
    "SJH = Stan James home win odds\n",
    "SJD = Stan James draw odds\n",
    "SJA = Stan James away win odds\n",
    "SYH = Stanleybet home win odds\n",
    "SYD = Stanleybet draw odds\n",
    "SYA = Stanleybet away win odds\n",
    "VCH = VC Bet home win odds\n",
    "VCD = VC Bet draw odds\n",
    "VCA = VC Bet away win odds\n",
    "WHH = William Hill home win odds\n",
    "WHD = William Hill draw odds\n",
    "WHA = William Hill away win odds\n",
    "\n",
    "Bb1X2 = Number of BetBrain bookmakers used to calculate match odds averages and maximums\n",
    "BbMxH = Betbrain maximum home win odds\n",
    "BbAvH = Betbrain average home win odds\n",
    "BbMxD = Betbrain maximum draw odds\n",
    "BbAvD = Betbrain average draw win odds\n",
    "BbMxA = Betbrain maximum away win odds\n",
    "BbAvA = Betbrain average away win odds\n",
    "\n",
    "MaxH = Market maximum home win odds\n",
    "MaxD = Market maximum draw win odds\n",
    "MaxA = Market maximum away win odds\n",
    "AvgH = Market average home win odds\n",
    "AvgD = Market average draw win odds\n",
    "AvgA = Market average away win odds\n",
    "\n",
    "\n",
    "\n",
    "Key to total goals betting odds:\n",
    "\n",
    "BbOU = Number of BetBrain bookmakers used to calculate over/under 2.5 goals (total goals) averages and maximums\n",
    "BbMx>2.5 = Betbrain maximum over 2.5 goals\n",
    "BbAv>2.5 = Betbrain average over 2.5 goals\n",
    "BbMx<2.5 = Betbrain maximum under 2.5 goals\n",
    "BbAv<2.5 = Betbrain average under 2.5 goals\n",
    "\n",
    "GB>2.5 = Gamebookers over 2.5 goals\n",
    "GB<2.5 = Gamebookers under 2.5 goals\n",
    "B365>2.5 = Bet365 over 2.5 goals\n",
    "B365<2.5 = Bet365 under 2.5 goals\n",
    "P>2.5 = Pinnacle over 2.5 goals\n",
    "P<2.5 = Pinnacle under 2.5 goals\n",
    "Max>2.5 = Market maximum over 2.5 goals\n",
    "Max<2.5 = Market maximum under 2.5 goals\n",
    "Avg>2.5 = Market average over 2.5 goals\n",
    "Avg<2.5 = Market average under 2.5 goals\n",
    "\n",
    "\n",
    "\n",
    "Key to Asian handicap betting odds:\n",
    "\n",
    "BbAH = Number of BetBrain bookmakers used to Asian handicap averages and maximums\n",
    "BbAHh = Betbrain size of handicap (home team)\n",
    "AHh = Market size of handicap (home team) (since 2019/2020)\n",
    "BbMxAHH = Betbrain maximum Asian handicap home team odds\n",
    "BbAvAHH = Betbrain average Asian handicap home team odds\n",
    "BbMxAHA = Betbrain maximum Asian handicap away team odds\n",
    "BbAvAHA = Betbrain average Asian handicap away team odds\n",
    "\n",
    "GBAHH = Gamebookers Asian handicap home team odds\n",
    "GBAHA = Gamebookers Asian handicap away team odds\n",
    "GBAH = Gamebookers size of handicap (home team)\n",
    "LBAHH = Ladbrokes Asian handicap home team odds\n",
    "LBAHA = Ladbrokes Asian handicap away team odds\n",
    "LBAH = Ladbrokes size of handicap (home team)\n",
    "B365AHH = Bet365 Asian handicap home team odds\n",
    "B365AHA = Bet365 Asian handicap away team odds\n",
    "B365AH = Bet365 size of handicap (home team)\n",
    "PAHH = Pinnacle Asian handicap home team odds\n",
    "PAHA = Pinnacle Asian handicap away team odds\n",
    "MaxAHH = Market maximum Asian handicap home team odds\n",
    "MaxAHA = Market maximum Asian handicap away team odds\t\n",
    "AvgAHH = Market average Asian handicap home team odds\n",
    "AvgAHA = Market average Asian handicap away team odds\n",
    "\n",
    "\n",
    "\n",
    "Closing odds (last odds before match starts)\n",
    "\n",
    "As above but with an additional \"C\" character following the bookmaker abbreviation/Max/Avg\n",
    "\n",
    "Football-Data would like to acknowledge the following sources which have been utilised in the compilation of Football-Data's results and odds files."
   ]
  },
  {
   "cell_type": "code",
   "execution_count": 10,
   "metadata": {},
   "outputs": [
    {
     "data": {
      "text/html": [
       "<div>\n",
       "<style scoped>\n",
       "    .dataframe tbody tr th:only-of-type {\n",
       "        vertical-align: middle;\n",
       "    }\n",
       "\n",
       "    .dataframe tbody tr th {\n",
       "        vertical-align: top;\n",
       "    }\n",
       "\n",
       "    .dataframe thead th {\n",
       "        text-align: right;\n",
       "    }\n",
       "</style>\n",
       "<table border=\"1\" class=\"dataframe\">\n",
       "  <thead>\n",
       "    <tr style=\"text-align: right;\">\n",
       "      <th></th>\n",
       "      <th>FTHG</th>\n",
       "      <th>FTAG</th>\n",
       "      <th>HTHG</th>\n",
       "      <th>HTAG</th>\n",
       "      <th>HS</th>\n",
       "      <th>AS</th>\n",
       "      <th>HST</th>\n",
       "      <th>AST</th>\n",
       "      <th>HF</th>\n",
       "      <th>AF</th>\n",
       "      <th>...</th>\n",
       "      <th>AvgC&lt;2.5</th>\n",
       "      <th>AHCh</th>\n",
       "      <th>B365CAHH</th>\n",
       "      <th>B365CAHA</th>\n",
       "      <th>PCAHH</th>\n",
       "      <th>PCAHA</th>\n",
       "      <th>MaxCAHH</th>\n",
       "      <th>MaxCAHA</th>\n",
       "      <th>AvgCAHH</th>\n",
       "      <th>AvgCAHA</th>\n",
       "    </tr>\n",
       "  </thead>\n",
       "  <tbody>\n",
       "    <tr>\n",
       "      <td>count</td>\n",
       "      <td>214.000000</td>\n",
       "      <td>214.000000</td>\n",
       "      <td>214.000000</td>\n",
       "      <td>214.000000</td>\n",
       "      <td>214.000000</td>\n",
       "      <td>214.000000</td>\n",
       "      <td>214.000000</td>\n",
       "      <td>214.000000</td>\n",
       "      <td>214.000000</td>\n",
       "      <td>214.000000</td>\n",
       "      <td>...</td>\n",
       "      <td>214.000000</td>\n",
       "      <td>214.000000</td>\n",
       "      <td>214.000000</td>\n",
       "      <td>214.000000</td>\n",
       "      <td>214.000000</td>\n",
       "      <td>214.000000</td>\n",
       "      <td>214.000000</td>\n",
       "      <td>214.000000</td>\n",
       "      <td>214.000000</td>\n",
       "      <td>214.000000</td>\n",
       "    </tr>\n",
       "    <tr>\n",
       "      <td>mean</td>\n",
       "      <td>1.747664</td>\n",
       "      <td>1.528037</td>\n",
       "      <td>0.700935</td>\n",
       "      <td>0.682243</td>\n",
       "      <td>14.691589</td>\n",
       "      <td>12.415888</td>\n",
       "      <td>5.331776</td>\n",
       "      <td>4.532710</td>\n",
       "      <td>11.070093</td>\n",
       "      <td>11.658879</td>\n",
       "      <td>...</td>\n",
       "      <td>2.625935</td>\n",
       "      <td>-0.300234</td>\n",
       "      <td>1.951028</td>\n",
       "      <td>1.961963</td>\n",
       "      <td>1.957009</td>\n",
       "      <td>1.963271</td>\n",
       "      <td>2.009299</td>\n",
       "      <td>2.033832</td>\n",
       "      <td>1.931168</td>\n",
       "      <td>1.944065</td>\n",
       "    </tr>\n",
       "    <tr>\n",
       "      <td>std</td>\n",
       "      <td>1.401498</td>\n",
       "      <td>1.362357</td>\n",
       "      <td>0.824678</td>\n",
       "      <td>0.867765</td>\n",
       "      <td>4.989964</td>\n",
       "      <td>4.818775</td>\n",
       "      <td>2.796245</td>\n",
       "      <td>2.439186</td>\n",
       "      <td>3.840694</td>\n",
       "      <td>3.801469</td>\n",
       "      <td>...</td>\n",
       "      <td>0.669458</td>\n",
       "      <td>1.012591</td>\n",
       "      <td>0.095184</td>\n",
       "      <td>0.093662</td>\n",
       "      <td>0.094518</td>\n",
       "      <td>0.093350</td>\n",
       "      <td>0.093352</td>\n",
       "      <td>0.114126</td>\n",
       "      <td>0.087763</td>\n",
       "      <td>0.087365</td>\n",
       "    </tr>\n",
       "    <tr>\n",
       "      <td>min</td>\n",
       "      <td>0.000000</td>\n",
       "      <td>0.000000</td>\n",
       "      <td>0.000000</td>\n",
       "      <td>0.000000</td>\n",
       "      <td>3.000000</td>\n",
       "      <td>1.000000</td>\n",
       "      <td>0.000000</td>\n",
       "      <td>0.000000</td>\n",
       "      <td>3.000000</td>\n",
       "      <td>2.000000</td>\n",
       "      <td>...</td>\n",
       "      <td>1.780000</td>\n",
       "      <td>-3.250000</td>\n",
       "      <td>1.670000</td>\n",
       "      <td>1.670000</td>\n",
       "      <td>1.720000</td>\n",
       "      <td>1.720000</td>\n",
       "      <td>1.800000</td>\n",
       "      <td>1.800000</td>\n",
       "      <td>1.700000</td>\n",
       "      <td>1.720000</td>\n",
       "    </tr>\n",
       "    <tr>\n",
       "      <td>25%</td>\n",
       "      <td>1.000000</td>\n",
       "      <td>0.000000</td>\n",
       "      <td>0.000000</td>\n",
       "      <td>0.000000</td>\n",
       "      <td>11.000000</td>\n",
       "      <td>9.000000</td>\n",
       "      <td>3.000000</td>\n",
       "      <td>3.000000</td>\n",
       "      <td>8.000000</td>\n",
       "      <td>9.000000</td>\n",
       "      <td>...</td>\n",
       "      <td>2.180000</td>\n",
       "      <td>-0.937500</td>\n",
       "      <td>1.900000</td>\n",
       "      <td>1.910000</td>\n",
       "      <td>1.892500</td>\n",
       "      <td>1.902500</td>\n",
       "      <td>1.950000</td>\n",
       "      <td>1.960000</td>\n",
       "      <td>1.872500</td>\n",
       "      <td>1.880000</td>\n",
       "    </tr>\n",
       "    <tr>\n",
       "      <td>50%</td>\n",
       "      <td>2.000000</td>\n",
       "      <td>1.000000</td>\n",
       "      <td>1.000000</td>\n",
       "      <td>0.000000</td>\n",
       "      <td>14.000000</td>\n",
       "      <td>12.000000</td>\n",
       "      <td>5.000000</td>\n",
       "      <td>4.000000</td>\n",
       "      <td>11.000000</td>\n",
       "      <td>12.000000</td>\n",
       "      <td>...</td>\n",
       "      <td>2.420000</td>\n",
       "      <td>-0.250000</td>\n",
       "      <td>1.955000</td>\n",
       "      <td>1.975000</td>\n",
       "      <td>1.950000</td>\n",
       "      <td>1.970000</td>\n",
       "      <td>2.000000</td>\n",
       "      <td>2.020000</td>\n",
       "      <td>1.920000</td>\n",
       "      <td>1.950000</td>\n",
       "    </tr>\n",
       "    <tr>\n",
       "      <td>75%</td>\n",
       "      <td>2.000000</td>\n",
       "      <td>2.000000</td>\n",
       "      <td>1.000000</td>\n",
       "      <td>1.000000</td>\n",
       "      <td>18.000000</td>\n",
       "      <td>15.000000</td>\n",
       "      <td>7.000000</td>\n",
       "      <td>6.000000</td>\n",
       "      <td>13.000000</td>\n",
       "      <td>14.750000</td>\n",
       "      <td>...</td>\n",
       "      <td>2.887500</td>\n",
       "      <td>0.250000</td>\n",
       "      <td>2.020000</td>\n",
       "      <td>2.030000</td>\n",
       "      <td>2.010000</td>\n",
       "      <td>2.020000</td>\n",
       "      <td>2.070000</td>\n",
       "      <td>2.100000</td>\n",
       "      <td>1.990000</td>\n",
       "      <td>1.997500</td>\n",
       "    </tr>\n",
       "    <tr>\n",
       "      <td>max</td>\n",
       "      <td>8.000000</td>\n",
       "      <td>6.000000</td>\n",
       "      <td>5.000000</td>\n",
       "      <td>4.000000</td>\n",
       "      <td>29.000000</td>\n",
       "      <td>26.000000</td>\n",
       "      <td>14.000000</td>\n",
       "      <td>12.000000</td>\n",
       "      <td>23.000000</td>\n",
       "      <td>22.000000</td>\n",
       "      <td>...</td>\n",
       "      <td>6.230000</td>\n",
       "      <td>2.750000</td>\n",
       "      <td>2.150000</td>\n",
       "      <td>2.150000</td>\n",
       "      <td>2.240000</td>\n",
       "      <td>2.240000</td>\n",
       "      <td>2.280000</td>\n",
       "      <td>2.700000</td>\n",
       "      <td>2.210000</td>\n",
       "      <td>2.220000</td>\n",
       "    </tr>\n",
       "  </tbody>\n",
       "</table>\n",
       "<p>8 rows × 98 columns</p>\n",
       "</div>"
      ],
      "text/plain": [
       "             FTHG        FTAG        HTHG        HTAG          HS          AS  \\\n",
       "count  214.000000  214.000000  214.000000  214.000000  214.000000  214.000000   \n",
       "mean     1.747664    1.528037    0.700935    0.682243   14.691589   12.415888   \n",
       "std      1.401498    1.362357    0.824678    0.867765    4.989964    4.818775   \n",
       "min      0.000000    0.000000    0.000000    0.000000    3.000000    1.000000   \n",
       "25%      1.000000    0.000000    0.000000    0.000000   11.000000    9.000000   \n",
       "50%      2.000000    1.000000    1.000000    0.000000   14.000000   12.000000   \n",
       "75%      2.000000    2.000000    1.000000    1.000000   18.000000   15.000000   \n",
       "max      8.000000    6.000000    5.000000    4.000000   29.000000   26.000000   \n",
       "\n",
       "              HST         AST          HF          AF  ...    AvgC<2.5  \\\n",
       "count  214.000000  214.000000  214.000000  214.000000  ...  214.000000   \n",
       "mean     5.331776    4.532710   11.070093   11.658879  ...    2.625935   \n",
       "std      2.796245    2.439186    3.840694    3.801469  ...    0.669458   \n",
       "min      0.000000    0.000000    3.000000    2.000000  ...    1.780000   \n",
       "25%      3.000000    3.000000    8.000000    9.000000  ...    2.180000   \n",
       "50%      5.000000    4.000000   11.000000   12.000000  ...    2.420000   \n",
       "75%      7.000000    6.000000   13.000000   14.750000  ...    2.887500   \n",
       "max     14.000000   12.000000   23.000000   22.000000  ...    6.230000   \n",
       "\n",
       "             AHCh    B365CAHH    B365CAHA       PCAHH       PCAHA     MaxCAHH  \\\n",
       "count  214.000000  214.000000  214.000000  214.000000  214.000000  214.000000   \n",
       "mean    -0.300234    1.951028    1.961963    1.957009    1.963271    2.009299   \n",
       "std      1.012591    0.095184    0.093662    0.094518    0.093350    0.093352   \n",
       "min     -3.250000    1.670000    1.670000    1.720000    1.720000    1.800000   \n",
       "25%     -0.937500    1.900000    1.910000    1.892500    1.902500    1.950000   \n",
       "50%     -0.250000    1.955000    1.975000    1.950000    1.970000    2.000000   \n",
       "75%      0.250000    2.020000    2.030000    2.010000    2.020000    2.070000   \n",
       "max      2.750000    2.150000    2.150000    2.240000    2.240000    2.280000   \n",
       "\n",
       "          MaxCAHA     AvgCAHH     AvgCAHA  \n",
       "count  214.000000  214.000000  214.000000  \n",
       "mean     2.033832    1.931168    1.944065  \n",
       "std      0.114126    0.087763    0.087365  \n",
       "min      1.800000    1.700000    1.720000  \n",
       "25%      1.960000    1.872500    1.880000  \n",
       "50%      2.020000    1.920000    1.950000  \n",
       "75%      2.100000    1.990000    1.997500  \n",
       "max      2.700000    2.210000    2.220000  \n",
       "\n",
       "[8 rows x 98 columns]"
      ]
     },
     "execution_count": 10,
     "metadata": {},
     "output_type": "execute_result"
    }
   ],
   "source": [
    "data.describe()"
   ]
  },
  {
   "cell_type": "code",
   "execution_count": 11,
   "metadata": {},
   "outputs": [
    {
     "data": {
      "text/html": [
       "<div>\n",
       "<style scoped>\n",
       "    .dataframe tbody tr th:only-of-type {\n",
       "        vertical-align: middle;\n",
       "    }\n",
       "\n",
       "    .dataframe tbody tr th {\n",
       "        vertical-align: top;\n",
       "    }\n",
       "\n",
       "    .dataframe thead th {\n",
       "        text-align: right;\n",
       "    }\n",
       "</style>\n",
       "<table border=\"1\" class=\"dataframe\">\n",
       "  <thead>\n",
       "    <tr style=\"text-align: right;\">\n",
       "      <th></th>\n",
       "      <th>Div</th>\n",
       "      <th>Date</th>\n",
       "      <th>Time</th>\n",
       "      <th>HomeTeam</th>\n",
       "      <th>AwayTeam</th>\n",
       "      <th>FTHG</th>\n",
       "      <th>FTAG</th>\n",
       "      <th>FTR</th>\n",
       "      <th>HTHG</th>\n",
       "      <th>HTAG</th>\n",
       "      <th>...</th>\n",
       "      <th>AvgC&lt;2.5</th>\n",
       "      <th>AHCh</th>\n",
       "      <th>B365CAHH</th>\n",
       "      <th>B365CAHA</th>\n",
       "      <th>PCAHH</th>\n",
       "      <th>PCAHA</th>\n",
       "      <th>MaxCAHH</th>\n",
       "      <th>MaxCAHA</th>\n",
       "      <th>AvgCAHH</th>\n",
       "      <th>AvgCAHA</th>\n",
       "    </tr>\n",
       "  </thead>\n",
       "  <tbody>\n",
       "    <tr>\n",
       "      <td>0</td>\n",
       "      <td>D1</td>\n",
       "      <td>16/08/2019</td>\n",
       "      <td>19:30</td>\n",
       "      <td>Bayern Munich</td>\n",
       "      <td>Hertha</td>\n",
       "      <td>2</td>\n",
       "      <td>2</td>\n",
       "      <td>D</td>\n",
       "      <td>1</td>\n",
       "      <td>2</td>\n",
       "      <td>...</td>\n",
       "      <td>3.40</td>\n",
       "      <td>-2.25</td>\n",
       "      <td>2.03</td>\n",
       "      <td>1.90</td>\n",
       "      <td>1.99</td>\n",
       "      <td>1.93</td>\n",
       "      <td>2.04</td>\n",
       "      <td>1.93</td>\n",
       "      <td>1.98</td>\n",
       "      <td>1.91</td>\n",
       "    </tr>\n",
       "    <tr>\n",
       "      <td>1</td>\n",
       "      <td>D1</td>\n",
       "      <td>17/08/2019</td>\n",
       "      <td>14:30</td>\n",
       "      <td>Dortmund</td>\n",
       "      <td>Augsburg</td>\n",
       "      <td>5</td>\n",
       "      <td>1</td>\n",
       "      <td>H</td>\n",
       "      <td>1</td>\n",
       "      <td>1</td>\n",
       "      <td>...</td>\n",
       "      <td>3.31</td>\n",
       "      <td>-2.25</td>\n",
       "      <td>1.92</td>\n",
       "      <td>2.01</td>\n",
       "      <td>1.92</td>\n",
       "      <td>2.00</td>\n",
       "      <td>1.98</td>\n",
       "      <td>2.04</td>\n",
       "      <td>1.91</td>\n",
       "      <td>1.97</td>\n",
       "    </tr>\n",
       "    <tr>\n",
       "      <td>2</td>\n",
       "      <td>D1</td>\n",
       "      <td>17/08/2019</td>\n",
       "      <td>14:30</td>\n",
       "      <td>Freiburg</td>\n",
       "      <td>Mainz</td>\n",
       "      <td>3</td>\n",
       "      <td>0</td>\n",
       "      <td>H</td>\n",
       "      <td>0</td>\n",
       "      <td>0</td>\n",
       "      <td>...</td>\n",
       "      <td>1.89</td>\n",
       "      <td>0.00</td>\n",
       "      <td>1.92</td>\n",
       "      <td>2.01</td>\n",
       "      <td>1.94</td>\n",
       "      <td>1.97</td>\n",
       "      <td>1.97</td>\n",
       "      <td>2.06</td>\n",
       "      <td>1.90</td>\n",
       "      <td>1.99</td>\n",
       "    </tr>\n",
       "    <tr>\n",
       "      <td>3</td>\n",
       "      <td>D1</td>\n",
       "      <td>17/08/2019</td>\n",
       "      <td>14:30</td>\n",
       "      <td>Leverkusen</td>\n",
       "      <td>Paderborn</td>\n",
       "      <td>3</td>\n",
       "      <td>2</td>\n",
       "      <td>H</td>\n",
       "      <td>2</td>\n",
       "      <td>2</td>\n",
       "      <td>...</td>\n",
       "      <td>3.58</td>\n",
       "      <td>-2.00</td>\n",
       "      <td>2.07</td>\n",
       "      <td>1.86</td>\n",
       "      <td>2.05</td>\n",
       "      <td>1.86</td>\n",
       "      <td>2.15</td>\n",
       "      <td>1.91</td>\n",
       "      <td>2.03</td>\n",
       "      <td>1.85</td>\n",
       "    </tr>\n",
       "    <tr>\n",
       "      <td>4</td>\n",
       "      <td>D1</td>\n",
       "      <td>17/08/2019</td>\n",
       "      <td>14:30</td>\n",
       "      <td>Werder Bremen</td>\n",
       "      <td>Fortuna Dusseldorf</td>\n",
       "      <td>1</td>\n",
       "      <td>3</td>\n",
       "      <td>A</td>\n",
       "      <td>0</td>\n",
       "      <td>1</td>\n",
       "      <td>...</td>\n",
       "      <td>2.26</td>\n",
       "      <td>-0.75</td>\n",
       "      <td>1.92</td>\n",
       "      <td>2.01</td>\n",
       "      <td>1.92</td>\n",
       "      <td>2.00</td>\n",
       "      <td>1.95</td>\n",
       "      <td>2.11</td>\n",
       "      <td>1.89</td>\n",
       "      <td>2.00</td>\n",
       "    </tr>\n",
       "  </tbody>\n",
       "</table>\n",
       "<p>5 rows × 105 columns</p>\n",
       "</div>"
      ],
      "text/plain": [
       "  Div        Date   Time       HomeTeam            AwayTeam  FTHG  FTAG FTR  \\\n",
       "0  D1  16/08/2019  19:30  Bayern Munich              Hertha     2     2   D   \n",
       "1  D1  17/08/2019  14:30       Dortmund            Augsburg     5     1   H   \n",
       "2  D1  17/08/2019  14:30       Freiburg               Mainz     3     0   H   \n",
       "3  D1  17/08/2019  14:30     Leverkusen           Paderborn     3     2   H   \n",
       "4  D1  17/08/2019  14:30  Werder Bremen  Fortuna Dusseldorf     1     3   A   \n",
       "\n",
       "   HTHG  HTAG  ... AvgC<2.5  AHCh  B365CAHH  B365CAHA  PCAHH  PCAHA  MaxCAHH  \\\n",
       "0     1     2  ...     3.40 -2.25      2.03      1.90   1.99   1.93     2.04   \n",
       "1     1     1  ...     3.31 -2.25      1.92      2.01   1.92   2.00     1.98   \n",
       "2     0     0  ...     1.89  0.00      1.92      2.01   1.94   1.97     1.97   \n",
       "3     2     2  ...     3.58 -2.00      2.07      1.86   2.05   1.86     2.15   \n",
       "4     0     1  ...     2.26 -0.75      1.92      2.01   1.92   2.00     1.95   \n",
       "\n",
       "   MaxCAHA  AvgCAHH  AvgCAHA  \n",
       "0     1.93     1.98     1.91  \n",
       "1     2.04     1.91     1.97  \n",
       "2     2.06     1.90     1.99  \n",
       "3     1.91     2.03     1.85  \n",
       "4     2.11     1.89     2.00  \n",
       "\n",
       "[5 rows x 105 columns]"
      ]
     },
     "execution_count": 11,
     "metadata": {},
     "output_type": "execute_result"
    }
   ],
   "source": [
    "data.head()"
   ]
  },
  {
   "cell_type": "code",
   "execution_count": 12,
   "metadata": {},
   "outputs": [
    {
     "data": {
      "text/plain": [
       "['Div',\n",
       " 'Date',\n",
       " 'Time',\n",
       " 'HomeTeam',\n",
       " 'AwayTeam',\n",
       " 'FTHG',\n",
       " 'FTAG',\n",
       " 'FTR',\n",
       " 'HTHG',\n",
       " 'HTAG',\n",
       " 'HTR',\n",
       " 'HS',\n",
       " 'AS',\n",
       " 'HST',\n",
       " 'AST',\n",
       " 'HF',\n",
       " 'AF',\n",
       " 'HC',\n",
       " 'AC',\n",
       " 'HY',\n",
       " 'AY',\n",
       " 'HR',\n",
       " 'AR',\n",
       " 'B365H',\n",
       " 'B365D',\n",
       " 'B365A',\n",
       " 'BWH',\n",
       " 'BWD',\n",
       " 'BWA',\n",
       " 'IWH',\n",
       " 'IWD',\n",
       " 'IWA',\n",
       " 'PSH',\n",
       " 'PSD',\n",
       " 'PSA',\n",
       " 'WHH',\n",
       " 'WHD',\n",
       " 'WHA',\n",
       " 'VCH',\n",
       " 'VCD',\n",
       " 'VCA',\n",
       " 'MaxH',\n",
       " 'MaxD',\n",
       " 'MaxA',\n",
       " 'AvgH',\n",
       " 'AvgD',\n",
       " 'AvgA',\n",
       " 'B365>2.5',\n",
       " 'B365<2.5',\n",
       " 'P>2.5',\n",
       " 'P<2.5',\n",
       " 'Max>2.5',\n",
       " 'Max<2.5',\n",
       " 'Avg>2.5',\n",
       " 'Avg<2.5',\n",
       " 'AHh',\n",
       " 'B365AHH',\n",
       " 'B365AHA',\n",
       " 'PAHH',\n",
       " 'PAHA',\n",
       " 'MaxAHH',\n",
       " 'MaxAHA',\n",
       " 'AvgAHH',\n",
       " 'AvgAHA',\n",
       " 'B365CH',\n",
       " 'B365CD',\n",
       " 'B365CA',\n",
       " 'BWCH',\n",
       " 'BWCD',\n",
       " 'BWCA',\n",
       " 'IWCH',\n",
       " 'IWCD',\n",
       " 'IWCA',\n",
       " 'PSCH',\n",
       " 'PSCD',\n",
       " 'PSCA',\n",
       " 'WHCH',\n",
       " 'WHCD',\n",
       " 'WHCA',\n",
       " 'VCCH',\n",
       " 'VCCD',\n",
       " 'VCCA',\n",
       " 'MaxCH',\n",
       " 'MaxCD',\n",
       " 'MaxCA',\n",
       " 'AvgCH',\n",
       " 'AvgCD',\n",
       " 'AvgCA',\n",
       " 'B365C>2.5',\n",
       " 'B365C<2.5',\n",
       " 'PC>2.5',\n",
       " 'PC<2.5',\n",
       " 'MaxC>2.5',\n",
       " 'MaxC<2.5',\n",
       " 'AvgC>2.5',\n",
       " 'AvgC<2.5',\n",
       " 'AHCh',\n",
       " 'B365CAHH',\n",
       " 'B365CAHA',\n",
       " 'PCAHH',\n",
       " 'PCAHA',\n",
       " 'MaxCAHH',\n",
       " 'MaxCAHA',\n",
       " 'AvgCAHH',\n",
       " 'AvgCAHA']"
      ]
     },
     "execution_count": 12,
     "metadata": {},
     "output_type": "execute_result"
    }
   ],
   "source": [
    "list(data)"
   ]
  },
  {
   "cell_type": "code",
   "execution_count": 13,
   "metadata": {},
   "outputs": [],
   "source": [
    "data_wo_bet = data[['Div',\n",
    " 'Date',\n",
    " 'Time',\n",
    " 'HomeTeam',\n",
    " 'AwayTeam',\n",
    " 'FTHG',\n",
    " 'FTAG',\n",
    " 'FTR',\n",
    " 'HTHG',\n",
    " 'HTAG',\n",
    " 'HTR',\n",
    " 'HS',\n",
    " 'AS',\n",
    " 'HST',\n",
    " 'AST',\n",
    " 'HF',\n",
    " 'AF',\n",
    " 'HC',\n",
    " 'AC',\n",
    " 'HY',\n",
    " 'AY',\n",
    " 'HR',\n",
    " 'AR']]"
   ]
  },
  {
   "cell_type": "code",
   "execution_count": 14,
   "metadata": {},
   "outputs": [
    {
     "data": {
      "text/plain": [
       "Div         0\n",
       "Date        0\n",
       "Time        0\n",
       "HomeTeam    0\n",
       "AwayTeam    0\n",
       "FTHG        0\n",
       "FTAG        0\n",
       "FTR         0\n",
       "HTHG        0\n",
       "HTAG        0\n",
       "HTR         0\n",
       "HS          0\n",
       "AS          0\n",
       "HST         0\n",
       "AST         0\n",
       "HF          0\n",
       "AF          0\n",
       "HC          0\n",
       "AC          0\n",
       "HY          0\n",
       "AY          0\n",
       "HR          0\n",
       "AR          0\n",
       "dtype: int64"
      ]
     },
     "execution_count": 14,
     "metadata": {},
     "output_type": "execute_result"
    }
   ],
   "source": [
    "data_wo_bet.isna().sum()"
   ]
  },
  {
   "cell_type": "code",
   "execution_count": 15,
   "metadata": {},
   "outputs": [
    {
     "data": {
      "text/html": [
       "<div>\n",
       "<style scoped>\n",
       "    .dataframe tbody tr th:only-of-type {\n",
       "        vertical-align: middle;\n",
       "    }\n",
       "\n",
       "    .dataframe tbody tr th {\n",
       "        vertical-align: top;\n",
       "    }\n",
       "\n",
       "    .dataframe thead th {\n",
       "        text-align: right;\n",
       "    }\n",
       "</style>\n",
       "<table border=\"1\" class=\"dataframe\">\n",
       "  <thead>\n",
       "    <tr style=\"text-align: right;\">\n",
       "      <th></th>\n",
       "      <th>Div</th>\n",
       "      <th>Date</th>\n",
       "      <th>Time</th>\n",
       "      <th>HomeTeam</th>\n",
       "      <th>AwayTeam</th>\n",
       "      <th>FTHG</th>\n",
       "      <th>FTAG</th>\n",
       "      <th>FTR</th>\n",
       "      <th>HTHG</th>\n",
       "      <th>HTAG</th>\n",
       "      <th>...</th>\n",
       "      <th>HST</th>\n",
       "      <th>AST</th>\n",
       "      <th>HF</th>\n",
       "      <th>AF</th>\n",
       "      <th>HC</th>\n",
       "      <th>AC</th>\n",
       "      <th>HY</th>\n",
       "      <th>AY</th>\n",
       "      <th>HR</th>\n",
       "      <th>AR</th>\n",
       "    </tr>\n",
       "  </thead>\n",
       "  <tbody>\n",
       "    <tr>\n",
       "      <td>209</td>\n",
       "      <td>D1</td>\n",
       "      <td>29/02/2020</td>\n",
       "      <td>14:30</td>\n",
       "      <td>Hoffenheim</td>\n",
       "      <td>Bayern Munich</td>\n",
       "      <td>0</td>\n",
       "      <td>6</td>\n",
       "      <td>A</td>\n",
       "      <td>0</td>\n",
       "      <td>4</td>\n",
       "      <td>...</td>\n",
       "      <td>1</td>\n",
       "      <td>11</td>\n",
       "      <td>3</td>\n",
       "      <td>7</td>\n",
       "      <td>1</td>\n",
       "      <td>7</td>\n",
       "      <td>0</td>\n",
       "      <td>0</td>\n",
       "      <td>0</td>\n",
       "      <td>0</td>\n",
       "    </tr>\n",
       "    <tr>\n",
       "      <td>210</td>\n",
       "      <td>D1</td>\n",
       "      <td>29/02/2020</td>\n",
       "      <td>14:30</td>\n",
       "      <td>Mainz</td>\n",
       "      <td>Paderborn</td>\n",
       "      <td>2</td>\n",
       "      <td>0</td>\n",
       "      <td>H</td>\n",
       "      <td>2</td>\n",
       "      <td>0</td>\n",
       "      <td>...</td>\n",
       "      <td>3</td>\n",
       "      <td>4</td>\n",
       "      <td>5</td>\n",
       "      <td>15</td>\n",
       "      <td>5</td>\n",
       "      <td>8</td>\n",
       "      <td>1</td>\n",
       "      <td>3</td>\n",
       "      <td>0</td>\n",
       "      <td>0</td>\n",
       "    </tr>\n",
       "    <tr>\n",
       "      <td>211</td>\n",
       "      <td>D1</td>\n",
       "      <td>29/02/2020</td>\n",
       "      <td>17:30</td>\n",
       "      <td>FC Koln</td>\n",
       "      <td>Schalke 04</td>\n",
       "      <td>3</td>\n",
       "      <td>0</td>\n",
       "      <td>H</td>\n",
       "      <td>2</td>\n",
       "      <td>0</td>\n",
       "      <td>...</td>\n",
       "      <td>6</td>\n",
       "      <td>1</td>\n",
       "      <td>7</td>\n",
       "      <td>8</td>\n",
       "      <td>4</td>\n",
       "      <td>2</td>\n",
       "      <td>1</td>\n",
       "      <td>2</td>\n",
       "      <td>0</td>\n",
       "      <td>0</td>\n",
       "    </tr>\n",
       "    <tr>\n",
       "      <td>212</td>\n",
       "      <td>D1</td>\n",
       "      <td>01/03/2020</td>\n",
       "      <td>12:30</td>\n",
       "      <td>Union Berlin</td>\n",
       "      <td>Wolfsburg</td>\n",
       "      <td>2</td>\n",
       "      <td>2</td>\n",
       "      <td>D</td>\n",
       "      <td>1</td>\n",
       "      <td>0</td>\n",
       "      <td>...</td>\n",
       "      <td>3</td>\n",
       "      <td>3</td>\n",
       "      <td>8</td>\n",
       "      <td>13</td>\n",
       "      <td>1</td>\n",
       "      <td>6</td>\n",
       "      <td>1</td>\n",
       "      <td>2</td>\n",
       "      <td>0</td>\n",
       "      <td>0</td>\n",
       "    </tr>\n",
       "    <tr>\n",
       "      <td>213</td>\n",
       "      <td>D1</td>\n",
       "      <td>01/03/2020</td>\n",
       "      <td>14:30</td>\n",
       "      <td>RB Leipzig</td>\n",
       "      <td>Leverkusen</td>\n",
       "      <td>1</td>\n",
       "      <td>1</td>\n",
       "      <td>D</td>\n",
       "      <td>1</td>\n",
       "      <td>1</td>\n",
       "      <td>...</td>\n",
       "      <td>2</td>\n",
       "      <td>6</td>\n",
       "      <td>4</td>\n",
       "      <td>12</td>\n",
       "      <td>8</td>\n",
       "      <td>5</td>\n",
       "      <td>0</td>\n",
       "      <td>3</td>\n",
       "      <td>0</td>\n",
       "      <td>0</td>\n",
       "    </tr>\n",
       "  </tbody>\n",
       "</table>\n",
       "<p>5 rows × 23 columns</p>\n",
       "</div>"
      ],
      "text/plain": [
       "    Div        Date   Time      HomeTeam       AwayTeam  FTHG  FTAG FTR  HTHG  \\\n",
       "209  D1  29/02/2020  14:30    Hoffenheim  Bayern Munich     0     6   A     0   \n",
       "210  D1  29/02/2020  14:30         Mainz      Paderborn     2     0   H     2   \n",
       "211  D1  29/02/2020  17:30       FC Koln     Schalke 04     3     0   H     2   \n",
       "212  D1  01/03/2020  12:30  Union Berlin      Wolfsburg     2     2   D     1   \n",
       "213  D1  01/03/2020  14:30    RB Leipzig     Leverkusen     1     1   D     1   \n",
       "\n",
       "     HTAG  ... HST  AST  HF  AF  HC  AC  HY  AY  HR  AR  \n",
       "209     4  ...   1   11   3   7   1   7   0   0   0   0  \n",
       "210     0  ...   3    4   5  15   5   8   1   3   0   0  \n",
       "211     0  ...   6    1   7   8   4   2   1   2   0   0  \n",
       "212     0  ...   3    3   8  13   1   6   1   2   0   0  \n",
       "213     1  ...   2    6   4  12   8   5   0   3   0   0  \n",
       "\n",
       "[5 rows x 23 columns]"
      ]
     },
     "execution_count": 15,
     "metadata": {},
     "output_type": "execute_result"
    }
   ],
   "source": [
    "data_wo_bet.tail()"
   ]
  },
  {
   "cell_type": "code",
   "execution_count": 16,
   "metadata": {},
   "outputs": [
    {
     "data": {
      "text/html": [
       "<div>\n",
       "<style scoped>\n",
       "    .dataframe tbody tr th:only-of-type {\n",
       "        vertical-align: middle;\n",
       "    }\n",
       "\n",
       "    .dataframe tbody tr th {\n",
       "        vertical-align: top;\n",
       "    }\n",
       "\n",
       "    .dataframe thead th {\n",
       "        text-align: right;\n",
       "    }\n",
       "</style>\n",
       "<table border=\"1\" class=\"dataframe\">\n",
       "  <thead>\n",
       "    <tr style=\"text-align: right;\">\n",
       "      <th></th>\n",
       "      <th>FTHG</th>\n",
       "      <th>FTAG</th>\n",
       "      <th>HTHG</th>\n",
       "      <th>HTAG</th>\n",
       "      <th>HS</th>\n",
       "      <th>AS</th>\n",
       "      <th>HST</th>\n",
       "      <th>AST</th>\n",
       "      <th>HF</th>\n",
       "      <th>AF</th>\n",
       "      <th>HC</th>\n",
       "      <th>AC</th>\n",
       "      <th>HY</th>\n",
       "      <th>AY</th>\n",
       "      <th>HR</th>\n",
       "      <th>AR</th>\n",
       "    </tr>\n",
       "  </thead>\n",
       "  <tbody>\n",
       "    <tr>\n",
       "      <td>FTHG</td>\n",
       "      <td>1.000000</td>\n",
       "      <td>-0.306096</td>\n",
       "      <td>0.685877</td>\n",
       "      <td>-0.178189</td>\n",
       "      <td>0.270103</td>\n",
       "      <td>-0.184597</td>\n",
       "      <td>0.583320</td>\n",
       "      <td>-0.237911</td>\n",
       "      <td>-0.114446</td>\n",
       "      <td>-0.109640</td>\n",
       "      <td>-0.035657</td>\n",
       "      <td>-0.154099</td>\n",
       "      <td>-0.156621</td>\n",
       "      <td>-0.070906</td>\n",
       "      <td>-0.079069</td>\n",
       "      <td>-0.029661</td>\n",
       "    </tr>\n",
       "    <tr>\n",
       "      <td>FTAG</td>\n",
       "      <td>-0.306096</td>\n",
       "      <td>1.000000</td>\n",
       "      <td>-0.180545</td>\n",
       "      <td>0.658856</td>\n",
       "      <td>-0.166540</td>\n",
       "      <td>0.281054</td>\n",
       "      <td>-0.235994</td>\n",
       "      <td>0.571912</td>\n",
       "      <td>0.016222</td>\n",
       "      <td>-0.142735</td>\n",
       "      <td>-0.026345</td>\n",
       "      <td>0.030133</td>\n",
       "      <td>0.057841</td>\n",
       "      <td>-0.087890</td>\n",
       "      <td>0.065262</td>\n",
       "      <td>-0.069482</td>\n",
       "    </tr>\n",
       "    <tr>\n",
       "      <td>HTHG</td>\n",
       "      <td>0.685877</td>\n",
       "      <td>-0.180545</td>\n",
       "      <td>1.000000</td>\n",
       "      <td>-0.172779</td>\n",
       "      <td>0.104118</td>\n",
       "      <td>-0.091421</td>\n",
       "      <td>0.342510</td>\n",
       "      <td>-0.123481</td>\n",
       "      <td>-0.067464</td>\n",
       "      <td>-0.100085</td>\n",
       "      <td>-0.092018</td>\n",
       "      <td>-0.033894</td>\n",
       "      <td>-0.133731</td>\n",
       "      <td>-0.113232</td>\n",
       "      <td>-0.069711</td>\n",
       "      <td>-0.077902</td>\n",
       "    </tr>\n",
       "    <tr>\n",
       "      <td>HTAG</td>\n",
       "      <td>-0.178189</td>\n",
       "      <td>0.658856</td>\n",
       "      <td>-0.172779</td>\n",
       "      <td>1.000000</td>\n",
       "      <td>-0.032496</td>\n",
       "      <td>0.144026</td>\n",
       "      <td>-0.058895</td>\n",
       "      <td>0.379786</td>\n",
       "      <td>0.071513</td>\n",
       "      <td>-0.085671</td>\n",
       "      <td>0.044609</td>\n",
       "      <td>-0.036211</td>\n",
       "      <td>0.047149</td>\n",
       "      <td>-0.012956</td>\n",
       "      <td>0.085439</td>\n",
       "      <td>-0.006322</td>\n",
       "    </tr>\n",
       "    <tr>\n",
       "      <td>HS</td>\n",
       "      <td>0.270103</td>\n",
       "      <td>-0.166540</td>\n",
       "      <td>0.104118</td>\n",
       "      <td>-0.032496</td>\n",
       "      <td>1.000000</td>\n",
       "      <td>-0.277360</td>\n",
       "      <td>0.658776</td>\n",
       "      <td>-0.274189</td>\n",
       "      <td>0.019506</td>\n",
       "      <td>0.012495</td>\n",
       "      <td>0.583745</td>\n",
       "      <td>-0.298452</td>\n",
       "      <td>-0.041631</td>\n",
       "      <td>0.040583</td>\n",
       "      <td>-0.083348</td>\n",
       "      <td>0.076662</td>\n",
       "    </tr>\n",
       "    <tr>\n",
       "      <td>AS</td>\n",
       "      <td>-0.184597</td>\n",
       "      <td>0.281054</td>\n",
       "      <td>-0.091421</td>\n",
       "      <td>0.144026</td>\n",
       "      <td>-0.277360</td>\n",
       "      <td>1.000000</td>\n",
       "      <td>-0.160111</td>\n",
       "      <td>0.654099</td>\n",
       "      <td>0.111556</td>\n",
       "      <td>-0.084484</td>\n",
       "      <td>-0.229151</td>\n",
       "      <td>0.507750</td>\n",
       "      <td>0.173288</td>\n",
       "      <td>0.050083</td>\n",
       "      <td>0.032685</td>\n",
       "      <td>-0.035809</td>\n",
       "    </tr>\n",
       "    <tr>\n",
       "      <td>HST</td>\n",
       "      <td>0.583320</td>\n",
       "      <td>-0.235994</td>\n",
       "      <td>0.342510</td>\n",
       "      <td>-0.058895</td>\n",
       "      <td>0.658776</td>\n",
       "      <td>-0.160111</td>\n",
       "      <td>1.000000</td>\n",
       "      <td>-0.207755</td>\n",
       "      <td>-0.059880</td>\n",
       "      <td>-0.059086</td>\n",
       "      <td>0.272526</td>\n",
       "      <td>-0.215294</td>\n",
       "      <td>-0.074278</td>\n",
       "      <td>0.070329</td>\n",
       "      <td>-0.004927</td>\n",
       "      <td>0.051509</td>\n",
       "    </tr>\n",
       "    <tr>\n",
       "      <td>AST</td>\n",
       "      <td>-0.237911</td>\n",
       "      <td>0.571912</td>\n",
       "      <td>-0.123481</td>\n",
       "      <td>0.379786</td>\n",
       "      <td>-0.274189</td>\n",
       "      <td>0.654099</td>\n",
       "      <td>-0.207755</td>\n",
       "      <td>1.000000</td>\n",
       "      <td>0.048115</td>\n",
       "      <td>-0.096257</td>\n",
       "      <td>-0.175238</td>\n",
       "      <td>0.252321</td>\n",
       "      <td>0.121718</td>\n",
       "      <td>0.028839</td>\n",
       "      <td>0.062092</td>\n",
       "      <td>-0.039483</td>\n",
       "    </tr>\n",
       "    <tr>\n",
       "      <td>HF</td>\n",
       "      <td>-0.114446</td>\n",
       "      <td>0.016222</td>\n",
       "      <td>-0.067464</td>\n",
       "      <td>0.071513</td>\n",
       "      <td>0.019506</td>\n",
       "      <td>0.111556</td>\n",
       "      <td>-0.059880</td>\n",
       "      <td>0.048115</td>\n",
       "      <td>1.000000</td>\n",
       "      <td>0.204870</td>\n",
       "      <td>-0.121531</td>\n",
       "      <td>0.017747</td>\n",
       "      <td>0.441466</td>\n",
       "      <td>0.144795</td>\n",
       "      <td>0.189041</td>\n",
       "      <td>0.078478</td>\n",
       "    </tr>\n",
       "    <tr>\n",
       "      <td>AF</td>\n",
       "      <td>-0.109640</td>\n",
       "      <td>-0.142735</td>\n",
       "      <td>-0.100085</td>\n",
       "      <td>-0.085671</td>\n",
       "      <td>0.012495</td>\n",
       "      <td>-0.084484</td>\n",
       "      <td>-0.059086</td>\n",
       "      <td>-0.096257</td>\n",
       "      <td>0.204870</td>\n",
       "      <td>1.000000</td>\n",
       "      <td>0.014391</td>\n",
       "      <td>-0.017144</td>\n",
       "      <td>0.173316</td>\n",
       "      <td>0.461123</td>\n",
       "      <td>0.082316</td>\n",
       "      <td>0.107091</td>\n",
       "    </tr>\n",
       "    <tr>\n",
       "      <td>HC</td>\n",
       "      <td>-0.035657</td>\n",
       "      <td>-0.026345</td>\n",
       "      <td>-0.092018</td>\n",
       "      <td>0.044609</td>\n",
       "      <td>0.583745</td>\n",
       "      <td>-0.229151</td>\n",
       "      <td>0.272526</td>\n",
       "      <td>-0.175238</td>\n",
       "      <td>-0.121531</td>\n",
       "      <td>0.014391</td>\n",
       "      <td>1.000000</td>\n",
       "      <td>-0.286111</td>\n",
       "      <td>-0.037188</td>\n",
       "      <td>0.023168</td>\n",
       "      <td>0.039346</td>\n",
       "      <td>0.007692</td>\n",
       "    </tr>\n",
       "    <tr>\n",
       "      <td>AC</td>\n",
       "      <td>-0.154099</td>\n",
       "      <td>0.030133</td>\n",
       "      <td>-0.033894</td>\n",
       "      <td>-0.036211</td>\n",
       "      <td>-0.298452</td>\n",
       "      <td>0.507750</td>\n",
       "      <td>-0.215294</td>\n",
       "      <td>0.252321</td>\n",
       "      <td>0.017747</td>\n",
       "      <td>-0.017144</td>\n",
       "      <td>-0.286111</td>\n",
       "      <td>1.000000</td>\n",
       "      <td>0.027971</td>\n",
       "      <td>0.046782</td>\n",
       "      <td>0.059729</td>\n",
       "      <td>-0.026849</td>\n",
       "    </tr>\n",
       "    <tr>\n",
       "      <td>HY</td>\n",
       "      <td>-0.156621</td>\n",
       "      <td>0.057841</td>\n",
       "      <td>-0.133731</td>\n",
       "      <td>0.047149</td>\n",
       "      <td>-0.041631</td>\n",
       "      <td>0.173288</td>\n",
       "      <td>-0.074278</td>\n",
       "      <td>0.121718</td>\n",
       "      <td>0.441466</td>\n",
       "      <td>0.173316</td>\n",
       "      <td>-0.037188</td>\n",
       "      <td>0.027971</td>\n",
       "      <td>1.000000</td>\n",
       "      <td>0.243736</td>\n",
       "      <td>0.192470</td>\n",
       "      <td>0.095222</td>\n",
       "    </tr>\n",
       "    <tr>\n",
       "      <td>AY</td>\n",
       "      <td>-0.070906</td>\n",
       "      <td>-0.087890</td>\n",
       "      <td>-0.113232</td>\n",
       "      <td>-0.012956</td>\n",
       "      <td>0.040583</td>\n",
       "      <td>0.050083</td>\n",
       "      <td>0.070329</td>\n",
       "      <td>0.028839</td>\n",
       "      <td>0.144795</td>\n",
       "      <td>0.461123</td>\n",
       "      <td>0.023168</td>\n",
       "      <td>0.046782</td>\n",
       "      <td>0.243736</td>\n",
       "      <td>1.000000</td>\n",
       "      <td>0.048528</td>\n",
       "      <td>0.253635</td>\n",
       "    </tr>\n",
       "    <tr>\n",
       "      <td>HR</td>\n",
       "      <td>-0.079069</td>\n",
       "      <td>0.065262</td>\n",
       "      <td>-0.069711</td>\n",
       "      <td>0.085439</td>\n",
       "      <td>-0.083348</td>\n",
       "      <td>0.032685</td>\n",
       "      <td>-0.004927</td>\n",
       "      <td>0.062092</td>\n",
       "      <td>0.189041</td>\n",
       "      <td>0.082316</td>\n",
       "      <td>0.039346</td>\n",
       "      <td>0.059729</td>\n",
       "      <td>0.192470</td>\n",
       "      <td>0.048528</td>\n",
       "      <td>1.000000</td>\n",
       "      <td>0.153942</td>\n",
       "    </tr>\n",
       "    <tr>\n",
       "      <td>AR</td>\n",
       "      <td>-0.029661</td>\n",
       "      <td>-0.069482</td>\n",
       "      <td>-0.077902</td>\n",
       "      <td>-0.006322</td>\n",
       "      <td>0.076662</td>\n",
       "      <td>-0.035809</td>\n",
       "      <td>0.051509</td>\n",
       "      <td>-0.039483</td>\n",
       "      <td>0.078478</td>\n",
       "      <td>0.107091</td>\n",
       "      <td>0.007692</td>\n",
       "      <td>-0.026849</td>\n",
       "      <td>0.095222</td>\n",
       "      <td>0.253635</td>\n",
       "      <td>0.153942</td>\n",
       "      <td>1.000000</td>\n",
       "    </tr>\n",
       "  </tbody>\n",
       "</table>\n",
       "</div>"
      ],
      "text/plain": [
       "          FTHG      FTAG      HTHG      HTAG        HS        AS       HST  \\\n",
       "FTHG  1.000000 -0.306096  0.685877 -0.178189  0.270103 -0.184597  0.583320   \n",
       "FTAG -0.306096  1.000000 -0.180545  0.658856 -0.166540  0.281054 -0.235994   \n",
       "HTHG  0.685877 -0.180545  1.000000 -0.172779  0.104118 -0.091421  0.342510   \n",
       "HTAG -0.178189  0.658856 -0.172779  1.000000 -0.032496  0.144026 -0.058895   \n",
       "HS    0.270103 -0.166540  0.104118 -0.032496  1.000000 -0.277360  0.658776   \n",
       "AS   -0.184597  0.281054 -0.091421  0.144026 -0.277360  1.000000 -0.160111   \n",
       "HST   0.583320 -0.235994  0.342510 -0.058895  0.658776 -0.160111  1.000000   \n",
       "AST  -0.237911  0.571912 -0.123481  0.379786 -0.274189  0.654099 -0.207755   \n",
       "HF   -0.114446  0.016222 -0.067464  0.071513  0.019506  0.111556 -0.059880   \n",
       "AF   -0.109640 -0.142735 -0.100085 -0.085671  0.012495 -0.084484 -0.059086   \n",
       "HC   -0.035657 -0.026345 -0.092018  0.044609  0.583745 -0.229151  0.272526   \n",
       "AC   -0.154099  0.030133 -0.033894 -0.036211 -0.298452  0.507750 -0.215294   \n",
       "HY   -0.156621  0.057841 -0.133731  0.047149 -0.041631  0.173288 -0.074278   \n",
       "AY   -0.070906 -0.087890 -0.113232 -0.012956  0.040583  0.050083  0.070329   \n",
       "HR   -0.079069  0.065262 -0.069711  0.085439 -0.083348  0.032685 -0.004927   \n",
       "AR   -0.029661 -0.069482 -0.077902 -0.006322  0.076662 -0.035809  0.051509   \n",
       "\n",
       "           AST        HF        AF        HC        AC        HY        AY  \\\n",
       "FTHG -0.237911 -0.114446 -0.109640 -0.035657 -0.154099 -0.156621 -0.070906   \n",
       "FTAG  0.571912  0.016222 -0.142735 -0.026345  0.030133  0.057841 -0.087890   \n",
       "HTHG -0.123481 -0.067464 -0.100085 -0.092018 -0.033894 -0.133731 -0.113232   \n",
       "HTAG  0.379786  0.071513 -0.085671  0.044609 -0.036211  0.047149 -0.012956   \n",
       "HS   -0.274189  0.019506  0.012495  0.583745 -0.298452 -0.041631  0.040583   \n",
       "AS    0.654099  0.111556 -0.084484 -0.229151  0.507750  0.173288  0.050083   \n",
       "HST  -0.207755 -0.059880 -0.059086  0.272526 -0.215294 -0.074278  0.070329   \n",
       "AST   1.000000  0.048115 -0.096257 -0.175238  0.252321  0.121718  0.028839   \n",
       "HF    0.048115  1.000000  0.204870 -0.121531  0.017747  0.441466  0.144795   \n",
       "AF   -0.096257  0.204870  1.000000  0.014391 -0.017144  0.173316  0.461123   \n",
       "HC   -0.175238 -0.121531  0.014391  1.000000 -0.286111 -0.037188  0.023168   \n",
       "AC    0.252321  0.017747 -0.017144 -0.286111  1.000000  0.027971  0.046782   \n",
       "HY    0.121718  0.441466  0.173316 -0.037188  0.027971  1.000000  0.243736   \n",
       "AY    0.028839  0.144795  0.461123  0.023168  0.046782  0.243736  1.000000   \n",
       "HR    0.062092  0.189041  0.082316  0.039346  0.059729  0.192470  0.048528   \n",
       "AR   -0.039483  0.078478  0.107091  0.007692 -0.026849  0.095222  0.253635   \n",
       "\n",
       "            HR        AR  \n",
       "FTHG -0.079069 -0.029661  \n",
       "FTAG  0.065262 -0.069482  \n",
       "HTHG -0.069711 -0.077902  \n",
       "HTAG  0.085439 -0.006322  \n",
       "HS   -0.083348  0.076662  \n",
       "AS    0.032685 -0.035809  \n",
       "HST  -0.004927  0.051509  \n",
       "AST   0.062092 -0.039483  \n",
       "HF    0.189041  0.078478  \n",
       "AF    0.082316  0.107091  \n",
       "HC    0.039346  0.007692  \n",
       "AC    0.059729 -0.026849  \n",
       "HY    0.192470  0.095222  \n",
       "AY    0.048528  0.253635  \n",
       "HR    1.000000  0.153942  \n",
       "AR    0.153942  1.000000  "
      ]
     },
     "execution_count": 16,
     "metadata": {},
     "output_type": "execute_result"
    }
   ],
   "source": [
    "data_wo_bet.corr()"
   ]
  },
  {
   "cell_type": "code",
   "execution_count": 17,
   "metadata": {},
   "outputs": [
    {
     "data": {
      "text/plain": [
       "<seaborn.axisgrid.PairGrid at 0x1a17df8390>"
      ]
     },
     "execution_count": 17,
     "metadata": {},
     "output_type": "execute_result"
    },
    {
     "data": {
      "image/png": "[encoded data removed]",
      "text/plain": [
       "<Figure size 2880x2880 with 272 Axes>"
      ]
     },
     "metadata": {
      "needs_background": "light"
     },
     "output_type": "display_data"
    }
   ],
   "source": [
    "sns.pairplot(data_wo_bet.select_dtypes(include=[\"number\"]).dropna())"
   ]
  },
  {
   "cell_type": "code",
   "execution_count": 18,
   "metadata": {},
   "outputs": [
    {
     "data": {
      "text/plain": [
       "<seaborn.matrix.ClusterGrid at 0x1a203f9650>"
      ]
     },
     "execution_count": 18,
     "metadata": {},
     "output_type": "execute_result"
    },
    {
     "data": {
      "image/png": "[encoded data removed]",
      "text/plain": [
       "<Figure size 720x720 with 4 Axes>"
      ]
     },
     "metadata": {
      "needs_background": "light"
     },
     "output_type": "display_data"
    }
   ],
   "source": [
    "sns.clustermap(data_wo_bet.select_dtypes(include=[\"number\"]).dropna().corr())"
   ]
  },
  {
   "cell_type": "code",
   "execution_count": 19,
   "metadata": {
    "scrolled": true
   },
   "outputs": [
    {
     "data": {
      "image/png": "[encoded data removed]",
      "text/plain": [
       "<Figure size 1440x576 with 16 Axes>"
      ]
     },
     "metadata": {
      "needs_background": "light"
     },
     "output_type": "display_data"
    }
   ],
   "source": [
    "data_wo_bet.hist(bins=50, figsize=(20,8))\n",
    "plt.show()"
   ]
  },
  {
   "cell_type": "markdown",
   "metadata": {},
   "source": [
    "## Daten für Schritt 1 - Sieg/Niederlage/Unentschieden\n",
    "#### Entfernen weiterer Spalten"
   ]
  },
  {
   "cell_type": "code",
   "execution_count": 20,
   "metadata": {},
   "outputs": [],
   "source": [
    "minimal_data = data_wo_bet[[\"Div\", \"Date\", \"HomeTeam\", \"AwayTeam\", \"FTHG\", \"FTAG\", \"FTR\"]]"
   ]
  },
  {
   "cell_type": "code",
   "execution_count": 21,
   "metadata": {
    "scrolled": true
   },
   "outputs": [
    {
     "data": {
      "text/html": [
       "<div>\n",
       "<style scoped>\n",
       "    .dataframe tbody tr th:only-of-type {\n",
       "        vertical-align: middle;\n",
       "    }\n",
       "\n",
       "    .dataframe tbody tr th {\n",
       "        vertical-align: top;\n",
       "    }\n",
       "\n",
       "    .dataframe thead th {\n",
       "        text-align: right;\n",
       "    }\n",
       "</style>\n",
       "<table border=\"1\" class=\"dataframe\">\n",
       "  <thead>\n",
       "    <tr style=\"text-align: right;\">\n",
       "      <th></th>\n",
       "      <th>Div</th>\n",
       "      <th>Date</th>\n",
       "      <th>HomeTeam</th>\n",
       "      <th>AwayTeam</th>\n",
       "      <th>FTHG</th>\n",
       "      <th>FTAG</th>\n",
       "      <th>FTR</th>\n",
       "    </tr>\n",
       "  </thead>\n",
       "  <tbody>\n",
       "    <tr>\n",
       "      <td>0</td>\n",
       "      <td>D1</td>\n",
       "      <td>16/08/2019</td>\n",
       "      <td>Bayern Munich</td>\n",
       "      <td>Hertha</td>\n",
       "      <td>2</td>\n",
       "      <td>2</td>\n",
       "      <td>D</td>\n",
       "    </tr>\n",
       "    <tr>\n",
       "      <td>1</td>\n",
       "      <td>D1</td>\n",
       "      <td>17/08/2019</td>\n",
       "      <td>Dortmund</td>\n",
       "      <td>Augsburg</td>\n",
       "      <td>5</td>\n",
       "      <td>1</td>\n",
       "      <td>H</td>\n",
       "    </tr>\n",
       "    <tr>\n",
       "      <td>2</td>\n",
       "      <td>D1</td>\n",
       "      <td>17/08/2019</td>\n",
       "      <td>Freiburg</td>\n",
       "      <td>Mainz</td>\n",
       "      <td>3</td>\n",
       "      <td>0</td>\n",
       "      <td>H</td>\n",
       "    </tr>\n",
       "    <tr>\n",
       "      <td>3</td>\n",
       "      <td>D1</td>\n",
       "      <td>17/08/2019</td>\n",
       "      <td>Leverkusen</td>\n",
       "      <td>Paderborn</td>\n",
       "      <td>3</td>\n",
       "      <td>2</td>\n",
       "      <td>H</td>\n",
       "    </tr>\n",
       "    <tr>\n",
       "      <td>4</td>\n",
       "      <td>D1</td>\n",
       "      <td>17/08/2019</td>\n",
       "      <td>Werder Bremen</td>\n",
       "      <td>Fortuna Dusseldorf</td>\n",
       "      <td>1</td>\n",
       "      <td>3</td>\n",
       "      <td>A</td>\n",
       "    </tr>\n",
       "  </tbody>\n",
       "</table>\n",
       "</div>"
      ],
      "text/plain": [
       "  Div        Date       HomeTeam            AwayTeam  FTHG  FTAG FTR\n",
       "0  D1  16/08/2019  Bayern Munich              Hertha     2     2   D\n",
       "1  D1  17/08/2019       Dortmund            Augsburg     5     1   H\n",
       "2  D1  17/08/2019       Freiburg               Mainz     3     0   H\n",
       "3  D1  17/08/2019     Leverkusen           Paderborn     3     2   H\n",
       "4  D1  17/08/2019  Werder Bremen  Fortuna Dusseldorf     1     3   A"
      ]
     },
     "execution_count": 21,
     "metadata": {},
     "output_type": "execute_result"
    }
   ],
   "source": [
    "minimal_data.head()"
   ]
  },
  {
   "cell_type": "markdown",
   "metadata": {},
   "source": [
    "### One Hot Encoding des Fulltime Results\n",
    "#### Manuell"
   ]
  },
  {
   "cell_type": "code",
   "execution_count": 22,
   "metadata": {},
   "outputs": [
    {
     "data": {
      "text/html": [
       "<div>\n",
       "<style scoped>\n",
       "    .dataframe tbody tr th:only-of-type {\n",
       "        vertical-align: middle;\n",
       "    }\n",
       "\n",
       "    .dataframe tbody tr th {\n",
       "        vertical-align: top;\n",
       "    }\n",
       "\n",
       "    .dataframe thead th {\n",
       "        text-align: right;\n",
       "    }\n",
       "</style>\n",
       "<table border=\"1\" class=\"dataframe\">\n",
       "  <thead>\n",
       "    <tr style=\"text-align: right;\">\n",
       "      <th></th>\n",
       "      <th>A</th>\n",
       "      <th>D</th>\n",
       "      <th>H</th>\n",
       "    </tr>\n",
       "  </thead>\n",
       "  <tbody>\n",
       "    <tr>\n",
       "      <td>0</td>\n",
       "      <td>0</td>\n",
       "      <td>1</td>\n",
       "      <td>0</td>\n",
       "    </tr>\n",
       "    <tr>\n",
       "      <td>1</td>\n",
       "      <td>0</td>\n",
       "      <td>0</td>\n",
       "      <td>1</td>\n",
       "    </tr>\n",
       "    <tr>\n",
       "      <td>2</td>\n",
       "      <td>0</td>\n",
       "      <td>0</td>\n",
       "      <td>1</td>\n",
       "    </tr>\n",
       "    <tr>\n",
       "      <td>3</td>\n",
       "      <td>0</td>\n",
       "      <td>0</td>\n",
       "      <td>1</td>\n",
       "    </tr>\n",
       "    <tr>\n",
       "      <td>4</td>\n",
       "      <td>1</td>\n",
       "      <td>0</td>\n",
       "      <td>0</td>\n",
       "    </tr>\n",
       "  </tbody>\n",
       "</table>\n",
       "</div>"
      ],
      "text/plain": [
       "   A  D  H\n",
       "0  0  1  0\n",
       "1  0  0  1\n",
       "2  0  0  1\n",
       "3  0  0  1\n",
       "4  1  0  0"
      ]
     },
     "execution_count": 22,
     "metadata": {},
     "output_type": "execute_result"
    }
   ],
   "source": [
    "encoded_data = pd.get_dummies(minimal_data[\"FTR\"])\n",
    "encoded_data.head()"
   ]
  },
  {
   "cell_type": "code",
   "execution_count": 23,
   "metadata": {},
   "outputs": [],
   "source": [
    "#encoded_data.loc[:,\"A\"]\n"
   ]
  },
  {
   "cell_type": "code",
   "execution_count": 24,
   "metadata": {},
   "outputs": [
    {
     "data": {
      "text/html": [
       "<div>\n",
       "<style scoped>\n",
       "    .dataframe tbody tr th:only-of-type {\n",
       "        vertical-align: middle;\n",
       "    }\n",
       "\n",
       "    .dataframe tbody tr th {\n",
       "        vertical-align: top;\n",
       "    }\n",
       "\n",
       "    .dataframe thead th {\n",
       "        text-align: right;\n",
       "    }\n",
       "</style>\n",
       "<table border=\"1\" class=\"dataframe\">\n",
       "  <thead>\n",
       "    <tr style=\"text-align: right;\">\n",
       "      <th></th>\n",
       "      <th>Div</th>\n",
       "      <th>Date</th>\n",
       "      <th>HomeTeam</th>\n",
       "      <th>AwayTeam</th>\n",
       "      <th>FTHG</th>\n",
       "      <th>FTAG</th>\n",
       "      <th>FTR</th>\n",
       "      <th>Away_Win</th>\n",
       "      <th>Home_Win</th>\n",
       "      <th>Draw</th>\n",
       "    </tr>\n",
       "  </thead>\n",
       "  <tbody>\n",
       "    <tr>\n",
       "      <td>0</td>\n",
       "      <td>D1</td>\n",
       "      <td>16/08/2019</td>\n",
       "      <td>Bayern Munich</td>\n",
       "      <td>Hertha</td>\n",
       "      <td>2</td>\n",
       "      <td>2</td>\n",
       "      <td>D</td>\n",
       "      <td>0</td>\n",
       "      <td>0</td>\n",
       "      <td>1</td>\n",
       "    </tr>\n",
       "    <tr>\n",
       "      <td>1</td>\n",
       "      <td>D1</td>\n",
       "      <td>17/08/2019</td>\n",
       "      <td>Dortmund</td>\n",
       "      <td>Augsburg</td>\n",
       "      <td>5</td>\n",
       "      <td>1</td>\n",
       "      <td>H</td>\n",
       "      <td>0</td>\n",
       "      <td>1</td>\n",
       "      <td>0</td>\n",
       "    </tr>\n",
       "    <tr>\n",
       "      <td>2</td>\n",
       "      <td>D1</td>\n",
       "      <td>17/08/2019</td>\n",
       "      <td>Freiburg</td>\n",
       "      <td>Mainz</td>\n",
       "      <td>3</td>\n",
       "      <td>0</td>\n",
       "      <td>H</td>\n",
       "      <td>0</td>\n",
       "      <td>1</td>\n",
       "      <td>0</td>\n",
       "    </tr>\n",
       "    <tr>\n",
       "      <td>3</td>\n",
       "      <td>D1</td>\n",
       "      <td>17/08/2019</td>\n",
       "      <td>Leverkusen</td>\n",
       "      <td>Paderborn</td>\n",
       "      <td>3</td>\n",
       "      <td>2</td>\n",
       "      <td>H</td>\n",
       "      <td>0</td>\n",
       "      <td>1</td>\n",
       "      <td>0</td>\n",
       "    </tr>\n",
       "    <tr>\n",
       "      <td>4</td>\n",
       "      <td>D1</td>\n",
       "      <td>17/08/2019</td>\n",
       "      <td>Werder Bremen</td>\n",
       "      <td>Fortuna Dusseldorf</td>\n",
       "      <td>1</td>\n",
       "      <td>3</td>\n",
       "      <td>A</td>\n",
       "      <td>1</td>\n",
       "      <td>0</td>\n",
       "      <td>0</td>\n",
       "    </tr>\n",
       "  </tbody>\n",
       "</table>\n",
       "</div>"
      ],
      "text/plain": [
       "  Div        Date       HomeTeam            AwayTeam  FTHG  FTAG FTR  \\\n",
       "0  D1  16/08/2019  Bayern Munich              Hertha     2     2   D   \n",
       "1  D1  17/08/2019       Dortmund            Augsburg     5     1   H   \n",
       "2  D1  17/08/2019       Freiburg               Mainz     3     0   H   \n",
       "3  D1  17/08/2019     Leverkusen           Paderborn     3     2   H   \n",
       "4  D1  17/08/2019  Werder Bremen  Fortuna Dusseldorf     1     3   A   \n",
       "\n",
       "   Away_Win  Home_Win  Draw  \n",
       "0         0         0     1  \n",
       "1         0         1     0  \n",
       "2         0         1     0  \n",
       "3         0         1     0  \n",
       "4         1         0     0  "
      ]
     },
     "execution_count": 24,
     "metadata": {},
     "output_type": "execute_result"
    }
   ],
   "source": [
    "#encoded_data = pd.get_dummies(minimal_data[\"FTR\"])\n",
    "pd.options.mode.chained_assignment = None\n",
    "minimal_data[\"Away_Win\"] = encoded_data.loc[:,\"A\"]\n",
    "minimal_data[\"Home_Win\"] = encoded_data.loc[:,\"H\"]\n",
    "minimal_data[\"Draw\"] = encoded_data.loc[:,\"D\"]\n",
    "minimal_data.head()"
   ]
  },
  {
   "cell_type": "markdown",
   "metadata": {},
   "source": [
    "#### Ratio Spalten erstellen"
   ]
  },
  {
   "cell_type": "code",
   "execution_count": 25,
   "metadata": {},
   "outputs": [
    {
     "data": {
      "text/html": [
       "<div>\n",
       "<style scoped>\n",
       "    .dataframe tbody tr th:only-of-type {\n",
       "        vertical-align: middle;\n",
       "    }\n",
       "\n",
       "    .dataframe tbody tr th {\n",
       "        vertical-align: top;\n",
       "    }\n",
       "\n",
       "    .dataframe thead th {\n",
       "        text-align: right;\n",
       "    }\n",
       "</style>\n",
       "<table border=\"1\" class=\"dataframe\">\n",
       "  <thead>\n",
       "    <tr style=\"text-align: right;\">\n",
       "      <th></th>\n",
       "      <th>Div</th>\n",
       "      <th>Date</th>\n",
       "      <th>HomeTeam</th>\n",
       "      <th>AwayTeam</th>\n",
       "      <th>FTHG</th>\n",
       "      <th>FTAG</th>\n",
       "      <th>FTR</th>\n",
       "      <th>Away_Win</th>\n",
       "      <th>Home_Win</th>\n",
       "      <th>Draw</th>\n",
       "      <th>Home_Win_Ratio</th>\n",
       "      <th>Away_Win_Ratio</th>\n",
       "      <th>Draw_Ratio</th>\n",
       "    </tr>\n",
       "  </thead>\n",
       "  <tbody>\n",
       "    <tr>\n",
       "      <td>0</td>\n",
       "      <td>D1</td>\n",
       "      <td>16/08/2019</td>\n",
       "      <td>Bayern Munich</td>\n",
       "      <td>Hertha</td>\n",
       "      <td>2</td>\n",
       "      <td>2</td>\n",
       "      <td>D</td>\n",
       "      <td>0</td>\n",
       "      <td>0</td>\n",
       "      <td>1</td>\n",
       "      <td>0.00</td>\n",
       "      <td>0.0</td>\n",
       "      <td>1.00</td>\n",
       "    </tr>\n",
       "    <tr>\n",
       "      <td>1</td>\n",
       "      <td>D1</td>\n",
       "      <td>17/08/2019</td>\n",
       "      <td>Dortmund</td>\n",
       "      <td>Augsburg</td>\n",
       "      <td>5</td>\n",
       "      <td>1</td>\n",
       "      <td>H</td>\n",
       "      <td>0</td>\n",
       "      <td>1</td>\n",
       "      <td>0</td>\n",
       "      <td>0.50</td>\n",
       "      <td>0.0</td>\n",
       "      <td>0.50</td>\n",
       "    </tr>\n",
       "    <tr>\n",
       "      <td>2</td>\n",
       "      <td>D1</td>\n",
       "      <td>17/08/2019</td>\n",
       "      <td>Freiburg</td>\n",
       "      <td>Mainz</td>\n",
       "      <td>3</td>\n",
       "      <td>0</td>\n",
       "      <td>H</td>\n",
       "      <td>0</td>\n",
       "      <td>1</td>\n",
       "      <td>0</td>\n",
       "      <td>0.67</td>\n",
       "      <td>0.0</td>\n",
       "      <td>0.33</td>\n",
       "    </tr>\n",
       "    <tr>\n",
       "      <td>3</td>\n",
       "      <td>D1</td>\n",
       "      <td>17/08/2019</td>\n",
       "      <td>Leverkusen</td>\n",
       "      <td>Paderborn</td>\n",
       "      <td>3</td>\n",
       "      <td>2</td>\n",
       "      <td>H</td>\n",
       "      <td>0</td>\n",
       "      <td>1</td>\n",
       "      <td>0</td>\n",
       "      <td>0.75</td>\n",
       "      <td>0.0</td>\n",
       "      <td>0.25</td>\n",
       "    </tr>\n",
       "    <tr>\n",
       "      <td>4</td>\n",
       "      <td>D1</td>\n",
       "      <td>17/08/2019</td>\n",
       "      <td>Werder Bremen</td>\n",
       "      <td>Fortuna Dusseldorf</td>\n",
       "      <td>1</td>\n",
       "      <td>3</td>\n",
       "      <td>A</td>\n",
       "      <td>1</td>\n",
       "      <td>0</td>\n",
       "      <td>0</td>\n",
       "      <td>0.60</td>\n",
       "      <td>0.2</td>\n",
       "      <td>0.20</td>\n",
       "    </tr>\n",
       "  </tbody>\n",
       "</table>\n",
       "</div>"
      ],
      "text/plain": [
       "  Div        Date       HomeTeam            AwayTeam  FTHG  FTAG FTR  \\\n",
       "0  D1  16/08/2019  Bayern Munich              Hertha     2     2   D   \n",
       "1  D1  17/08/2019       Dortmund            Augsburg     5     1   H   \n",
       "2  D1  17/08/2019       Freiburg               Mainz     3     0   H   \n",
       "3  D1  17/08/2019     Leverkusen           Paderborn     3     2   H   \n",
       "4  D1  17/08/2019  Werder Bremen  Fortuna Dusseldorf     1     3   A   \n",
       "\n",
       "   Away_Win  Home_Win  Draw  Home_Win_Ratio  Away_Win_Ratio  Draw_Ratio  \n",
       "0         0         0     1            0.00             0.0        1.00  \n",
       "1         0         1     0            0.50             0.0        0.50  \n",
       "2         0         1     0            0.67             0.0        0.33  \n",
       "3         0         1     0            0.75             0.0        0.25  \n",
       "4         1         0     0            0.60             0.2        0.20  "
      ]
     },
     "execution_count": 25,
     "metadata": {},
     "output_type": "execute_result"
    }
   ],
   "source": [
    "minimal_data[\"Home_Win_Ratio\"] = round(minimal_data[\"Home_Win\"].cumsum()/(minimal_data.index + 1),2)\n",
    "minimal_data[\"Away_Win_Ratio\"] = round(minimal_data[\"Away_Win\"].cumsum()/(minimal_data.index + 1),2)\n",
    "minimal_data[\"Draw_Ratio\"] = round(minimal_data[\"Draw\"].cumsum()/(minimal_data.index + 1), 2)\n",
    "minimal_data.head()"
   ]
  },
  {
   "cell_type": "markdown",
   "metadata": {},
   "source": [
    "#### Liste mit den Teams erstellen"
   ]
  },
  {
   "cell_type": "code",
   "execution_count": 26,
   "metadata": {},
   "outputs": [],
   "source": [
    "list_teams = minimal_data[\"HomeTeam\"].unique()"
   ]
  },
  {
   "cell_type": "markdown",
   "metadata": {},
   "source": [
    "## Train Test Splitting\n"
   ]
  },
  {
   "cell_type": "code",
   "execution_count": 27,
   "metadata": {},
   "outputs": [],
   "source": [
    "Input_Features = minimal_data[[\"HomeTeam\",\"AwayTeam\",\n",
    "                               \"FTHG\", \"FTAG\", \"Home_Win_Ratio\",\n",
    "                               \"Away_Win_Ratio\", \"Draw_Ratio\"]]\n",
    "\n",
    "Output_Feature = minimal_data[[\"FTR\"]]"
   ]
  },
  {
   "cell_type": "markdown",
   "metadata": {},
   "source": [
    "#### Hinrunde dient als Trainingsdatensatz"
   ]
  },
  {
   "cell_type": "code",
   "execution_count": 28,
   "metadata": {},
   "outputs": [],
   "source": [
    "X_train = Input_Features.loc[:152]\n",
    "X_test = Input_Features.loc[153:]"
   ]
  },
  {
   "cell_type": "code",
   "execution_count": 29,
   "metadata": {},
   "outputs": [],
   "source": [
    "y_train = Output_Feature.loc[:152]\n",
    "y_test = Output_Feature.loc[153:]"
   ]
  },
  {
   "cell_type": "markdown",
   "metadata": {},
   "source": [
    "## Data Preprocessing\n",
    "#### Über Pipeline"
   ]
  },
  {
   "cell_type": "code",
   "execution_count": 30,
   "metadata": {},
   "outputs": [],
   "source": [
    "from sklearn.pipeline import FeatureUnion, Pipeline\n",
    "from sklearn.preprocessing import MinMaxScaler, OneHotEncoder, LabelEncoder\n",
    "from sklearn import preprocessing"
   ]
  },
  {
   "cell_type": "code",
   "execution_count": 31,
   "metadata": {},
   "outputs": [],
   "source": [
    "class ColumnSelector:\n",
    "    \n",
    "    def __init__(self, select_numeric=True):\n",
    "        self.select_numeric = select_numeric\n",
    "    \n",
    "    def fit(self, X, y=None):\n",
    "        return self\n",
    "    \n",
    "    def transform(self, X, y=None):\n",
    "        if self.select_numeric:\n",
    "            return X.select_dtypes(include=[\"number\"])\n",
    "        elif not self.select_numeric:\n",
    "            return X.select_dtypes(exclude=[\"number\"])\n",
    "        \n",
    "class MyLEncoder():\n",
    "\n",
    "    def transform(self, X, y=None, **fit_params):\n",
    "        enc = preprocessing.LabelEncoder()\n",
    "        encc = enc.fit(X)\n",
    "        enc_data = enc.transform(X)\n",
    "\n",
    "        return enc_data\n",
    "\n",
    "    def fit_transform(self, X, y=None, **fit_params):\n",
    "        self.fit(X, y, **fit_params)\n",
    "        return self.transform(X)\n",
    "\n",
    "    def fit(self, X, y=None, **fit_params):\n",
    "        return self"
   ]
  },
  {
   "cell_type": "markdown",
   "metadata": {},
   "source": [
    "#### Numerische Daten skalieren und kategorische Daten One Hot encoden"
   ]
  },
  {
   "cell_type": "code",
   "execution_count": 32,
   "metadata": {},
   "outputs": [],
   "source": [
    "X_pipeline = FeatureUnion(transformer_list=[\n",
    "    (\"numeric pipeline\", Pipeline(steps=[\n",
    "        (\"select numbers\", ColumnSelector(select_numeric=True)),\n",
    "        (\"scale data\", MinMaxScaler())\n",
    "    ])),\n",
    "    (\"non_numeric pipeline\", Pipeline(steps=[\n",
    "        (\"select non numeric\", ColumnSelector(select_numeric=False)),\n",
    "        (\"encode data\", OneHotEncoder())\n",
    "    ]))\n",
    "])"
   ]
  },
  {
   "cell_type": "markdown",
   "metadata": {},
   "source": [
    "#### Full Time Result Label encoden"
   ]
  },
  {
   "cell_type": "code",
   "execution_count": 33,
   "metadata": {},
   "outputs": [],
   "source": [
    "y_pipeline = Pipeline(steps=[\n",
    "    (\"encode data\", MyLEncoder())\n",
    "])"
   ]
  },
  {
   "cell_type": "code",
   "execution_count": 34,
   "metadata": {},
   "outputs": [],
   "source": [
    "X_pipeline.fit(X_train)\n",
    "X_train_p = X_pipeline.transform(X_train)\n",
    "X_test_p = X_pipeline.transform(X_test)"
   ]
  },
  {
   "cell_type": "code",
   "execution_count": 35,
   "metadata": {},
   "outputs": [],
   "source": [
    "y_pipeline.fit(y_train)\n",
    "y_train_p = y_pipeline.transform(y_train.values.ravel())\n",
    "y_test_p = y_pipeline.transform(y_test.values.ravel())"
   ]
  },
  {
   "cell_type": "code",
   "execution_count": 36,
   "metadata": {},
   "outputs": [
    {
     "data": {
      "text/plain": [
       "array([1, 2, 2, 2, 0, 2, 1, 2, 0, 0, 1, 0, 2, 0, 0, 0, 2, 0, 0, 2, 0, 1,\n",
       "       2, 1, 2, 2, 2, 1, 2, 2, 0, 2, 0, 1, 0, 0, 2, 2, 1, 2, 2, 0, 2, 1,\n",
       "       1, 0, 0, 0, 0, 0, 0, 1, 0, 0, 2, 0, 1, 1, 0, 1, 2, 2, 1, 2, 1, 2,\n",
       "       1, 2, 1, 2, 2, 2, 2, 2, 2, 0, 2, 1, 1, 1, 2, 2, 2, 2, 0, 2, 1, 2,\n",
       "       2, 0, 0, 0, 0, 0, 1, 2, 2, 0, 2, 1, 0, 0, 1, 2, 0, 2, 2, 0, 2, 1,\n",
       "       0, 1, 0, 0, 2, 0, 2, 1, 2, 2, 2, 2, 2, 2, 2, 0, 0, 2, 2, 2, 0, 1,\n",
       "       0, 2, 2, 0, 2, 1, 0, 0, 0, 0, 2, 1, 2, 2, 2, 0, 2, 1, 1, 2, 2])"
      ]
     },
     "execution_count": 36,
     "metadata": {},
     "output_type": "execute_result"
    }
   ],
   "source": [
    "y_train_p"
   ]
  },
  {
   "cell_type": "code",
   "execution_count": 37,
   "metadata": {},
   "outputs": [],
   "source": [
    "# 0 = \"Away Win\" ,1 = \"Draw\", 2 = \"Home Win\""
   ]
  },
  {
   "cell_type": "markdown",
   "metadata": {},
   "source": [
    "## Klassifikation mit Logistischer Regression"
   ]
  },
  {
   "cell_type": "code",
   "execution_count": 38,
   "metadata": {},
   "outputs": [],
   "source": [
    "from sklearn.linear_model import LogisticRegression"
   ]
  },
  {
   "cell_type": "code",
   "execution_count": 39,
   "metadata": {},
   "outputs": [
    {
     "data": {
      "text/plain": [
       "LogisticRegression(C=1.0, class_weight=None, dual=False, fit_intercept=True,\n",
       "                   intercept_scaling=1, l1_ratio=None, max_iter=100,\n",
       "                   multi_class='multinomial', n_jobs=None, penalty='l2',\n",
       "                   random_state=None, solver='newton-cg', tol=0.0001, verbose=0,\n",
       "                   warm_start=False)"
      ]
     },
     "execution_count": 39,
     "metadata": {},
     "output_type": "execute_result"
    }
   ],
   "source": [
    "log_model = LogisticRegression(multi_class=\"multinomial\", solver=\"newton-cg\")\n",
    "log_model.fit(X_train_p, y_train_p)"
   ]
  },
  {
   "cell_type": "code",
   "execution_count": 40,
   "metadata": {},
   "outputs": [
    {
     "data": {
      "text/plain": [
       "0.7540983606557377"
      ]
     },
     "execution_count": 40,
     "metadata": {},
     "output_type": "execute_result"
    }
   ],
   "source": [
    "log_prediction = log_model.predict(X_test_p)\n",
    "log_prediction_probs = log_model.predict_proba(X_test_p)\n",
    "log_model.score(X_test_p, y_test_p)"
   ]
  },
  {
   "cell_type": "markdown",
   "metadata": {},
   "source": [
    "## Decision Tree Classifier"
   ]
  },
  {
   "cell_type": "code",
   "execution_count": 41,
   "metadata": {},
   "outputs": [],
   "source": [
    "from sklearn.tree import DecisionTreeClassifier"
   ]
  },
  {
   "cell_type": "code",
   "execution_count": 42,
   "metadata": {},
   "outputs": [
    {
     "data": {
      "text/plain": [
       "DecisionTreeClassifier(class_weight=None, criterion='gini', max_depth=5,\n",
       "                       max_features=None, max_leaf_nodes=None,\n",
       "                       min_impurity_decrease=0.0, min_impurity_split=None,\n",
       "                       min_samples_leaf=2, min_samples_split=2,\n",
       "                       min_weight_fraction_leaf=0.0, presort=False,\n",
       "                       random_state=None, splitter='best')"
      ]
     },
     "execution_count": 42,
     "metadata": {},
     "output_type": "execute_result"
    }
   ],
   "source": [
    "decision_tree = DecisionTreeClassifier(max_depth= 5, min_samples_leaf= 2)\n",
    "decision_tree.fit(X_train_p, y_train_p)\n",
    "\n"
   ]
  },
  {
   "cell_type": "code",
   "execution_count": 43,
   "metadata": {},
   "outputs": [
    {
     "data": {
      "text/plain": [
       "0.9672131147540983"
      ]
     },
     "execution_count": 43,
     "metadata": {},
     "output_type": "execute_result"
    }
   ],
   "source": [
    "decision_tree_predict = decision_tree.predict(X_test_p)\n",
    "decision_tree_predict_probs = decision_tree.predict_proba(X_test_p)\n",
    "decision_tree.score(X_test_p, y_test_p)"
   ]
  },
  {
   "cell_type": "markdown",
   "metadata": {},
   "source": [
    "## Klassifikation Random Forest"
   ]
  },
  {
   "cell_type": "code",
   "execution_count": 44,
   "metadata": {},
   "outputs": [],
   "source": [
    "from sklearn.ensemble import RandomForestClassifier\n"
   ]
  },
  {
   "cell_type": "code",
   "execution_count": 45,
   "metadata": {},
   "outputs": [
    {
     "data": {
      "text/plain": [
       "RandomForestClassifier(bootstrap=True, class_weight=None, criterion='gini',\n",
       "                       max_depth=10, max_features='auto', max_leaf_nodes=None,\n",
       "                       min_impurity_decrease=0.0, min_impurity_split=None,\n",
       "                       min_samples_leaf=1, min_samples_split=2,\n",
       "                       min_weight_fraction_leaf=0.0, n_estimators=10,\n",
       "                       n_jobs=None, oob_score=False, random_state=191,\n",
       "                       verbose=0, warm_start=False)"
      ]
     },
     "execution_count": 45,
     "metadata": {},
     "output_type": "execute_result"
    }
   ],
   "source": [
    "rf_model = RandomForestClassifier(max_depth=10, random_state= 191, n_estimators=10)\n",
    "rf_model.fit(X_train_p, y_train_p)"
   ]
  },
  {
   "cell_type": "code",
   "execution_count": 46,
   "metadata": {},
   "outputs": [
    {
     "data": {
      "text/plain": [
       "0.8524590163934426"
      ]
     },
     "execution_count": 46,
     "metadata": {},
     "output_type": "execute_result"
    }
   ],
   "source": [
    "rf_prediction = rf_model.predict(X_test_p)\n",
    "rf_prediction_probs = rf_model.predict_proba(X_test_p)\n",
    "rf_model.score(X_test_p, y_test_p)"
   ]
  },
  {
   "cell_type": "markdown",
   "metadata": {},
   "source": [
    "## Übersichts Dataframe"
   ]
  },
  {
   "cell_type": "code",
   "execution_count": 47,
   "metadata": {},
   "outputs": [],
   "source": [
    "overview_resulttable = pd.DataFrame()"
   ]
  },
  {
   "cell_type": "code",
   "execution_count": 48,
   "metadata": {},
   "outputs": [],
   "source": [
    "overview_resulttable[[\"HomeTeam\", \"AwayTeam\"]] = X_test[[\"HomeTeam\", \"AwayTeam\"]]\n",
    "overview_resulttable[\"FTR\"] = y_test[\"FTR\"]\n",
    "overview_resulttable[\"Pred_LogReg\"] = log_prediction\n",
    "overview_resulttable[\"Pred_Dec_Tree\"] = decision_tree_predict\n",
    "overview_resulttable[\"Pred_RandomForest\"] = rf_prediction"
   ]
  },
  {
   "cell_type": "code",
   "execution_count": 49,
   "metadata": {},
   "outputs": [
    {
     "data": {
      "text/html": [
       "<div>\n",
       "<style scoped>\n",
       "    .dataframe tbody tr th:only-of-type {\n",
       "        vertical-align: middle;\n",
       "    }\n",
       "\n",
       "    .dataframe tbody tr th {\n",
       "        vertical-align: top;\n",
       "    }\n",
       "\n",
       "    .dataframe thead th {\n",
       "        text-align: right;\n",
       "    }\n",
       "</style>\n",
       "<table border=\"1\" class=\"dataframe\">\n",
       "  <thead>\n",
       "    <tr style=\"text-align: right;\">\n",
       "      <th></th>\n",
       "      <th>HomeTeam</th>\n",
       "      <th>AwayTeam</th>\n",
       "      <th>FTR</th>\n",
       "      <th>Pred_LogReg</th>\n",
       "      <th>Pred_Dec_Tree</th>\n",
       "      <th>Pred_RandomForest</th>\n",
       "    </tr>\n",
       "  </thead>\n",
       "  <tbody>\n",
       "    <tr>\n",
       "      <td>153</td>\n",
       "      <td>Schalke 04</td>\n",
       "      <td>M'gladbach</td>\n",
       "      <td>H</td>\n",
       "      <td>2</td>\n",
       "      <td>2</td>\n",
       "      <td>2</td>\n",
       "    </tr>\n",
       "    <tr>\n",
       "      <td>154</td>\n",
       "      <td>Augsburg</td>\n",
       "      <td>Dortmund</td>\n",
       "      <td>A</td>\n",
       "      <td>0</td>\n",
       "      <td>1</td>\n",
       "      <td>0</td>\n",
       "    </tr>\n",
       "    <tr>\n",
       "      <td>155</td>\n",
       "      <td>FC Koln</td>\n",
       "      <td>Wolfsburg</td>\n",
       "      <td>H</td>\n",
       "      <td>2</td>\n",
       "      <td>2</td>\n",
       "      <td>2</td>\n",
       "    </tr>\n",
       "    <tr>\n",
       "      <td>156</td>\n",
       "      <td>Fortuna Dusseldorf</td>\n",
       "      <td>Werder Bremen</td>\n",
       "      <td>A</td>\n",
       "      <td>1</td>\n",
       "      <td>0</td>\n",
       "      <td>0</td>\n",
       "    </tr>\n",
       "    <tr>\n",
       "      <td>157</td>\n",
       "      <td>Hoffenheim</td>\n",
       "      <td>Ein Frankfurt</td>\n",
       "      <td>A</td>\n",
       "      <td>2</td>\n",
       "      <td>0</td>\n",
       "      <td>0</td>\n",
       "    </tr>\n",
       "    <tr>\n",
       "      <td>...</td>\n",
       "      <td>...</td>\n",
       "      <td>...</td>\n",
       "      <td>...</td>\n",
       "      <td>...</td>\n",
       "      <td>...</td>\n",
       "      <td>...</td>\n",
       "    </tr>\n",
       "    <tr>\n",
       "      <td>209</td>\n",
       "      <td>Hoffenheim</td>\n",
       "      <td>Bayern Munich</td>\n",
       "      <td>A</td>\n",
       "      <td>0</td>\n",
       "      <td>0</td>\n",
       "      <td>0</td>\n",
       "    </tr>\n",
       "    <tr>\n",
       "      <td>210</td>\n",
       "      <td>Mainz</td>\n",
       "      <td>Paderborn</td>\n",
       "      <td>H</td>\n",
       "      <td>2</td>\n",
       "      <td>2</td>\n",
       "      <td>2</td>\n",
       "    </tr>\n",
       "    <tr>\n",
       "      <td>211</td>\n",
       "      <td>FC Koln</td>\n",
       "      <td>Schalke 04</td>\n",
       "      <td>H</td>\n",
       "      <td>2</td>\n",
       "      <td>2</td>\n",
       "      <td>2</td>\n",
       "    </tr>\n",
       "    <tr>\n",
       "      <td>212</td>\n",
       "      <td>Union Berlin</td>\n",
       "      <td>Wolfsburg</td>\n",
       "      <td>D</td>\n",
       "      <td>0</td>\n",
       "      <td>1</td>\n",
       "      <td>1</td>\n",
       "    </tr>\n",
       "    <tr>\n",
       "      <td>213</td>\n",
       "      <td>RB Leipzig</td>\n",
       "      <td>Leverkusen</td>\n",
       "      <td>D</td>\n",
       "      <td>2</td>\n",
       "      <td>1</td>\n",
       "      <td>1</td>\n",
       "    </tr>\n",
       "  </tbody>\n",
       "</table>\n",
       "<p>61 rows × 6 columns</p>\n",
       "</div>"
      ],
      "text/plain": [
       "               HomeTeam       AwayTeam FTR  Pred_LogReg  Pred_Dec_Tree  \\\n",
       "153          Schalke 04     M'gladbach   H            2              2   \n",
       "154            Augsburg       Dortmund   A            0              1   \n",
       "155             FC Koln      Wolfsburg   H            2              2   \n",
       "156  Fortuna Dusseldorf  Werder Bremen   A            1              0   \n",
       "157          Hoffenheim  Ein Frankfurt   A            2              0   \n",
       "..                  ...            ...  ..          ...            ...   \n",
       "209          Hoffenheim  Bayern Munich   A            0              0   \n",
       "210               Mainz      Paderborn   H            2              2   \n",
       "211             FC Koln     Schalke 04   H            2              2   \n",
       "212        Union Berlin      Wolfsburg   D            0              1   \n",
       "213          RB Leipzig     Leverkusen   D            2              1   \n",
       "\n",
       "     Pred_RandomForest  \n",
       "153                  2  \n",
       "154                  0  \n",
       "155                  2  \n",
       "156                  0  \n",
       "157                  0  \n",
       "..                 ...  \n",
       "209                  0  \n",
       "210                  2  \n",
       "211                  2  \n",
       "212                  1  \n",
       "213                  1  \n",
       "\n",
       "[61 rows x 6 columns]"
      ]
     },
     "execution_count": 49,
     "metadata": {},
     "output_type": "execute_result"
    }
   ],
   "source": [
    "# 0 = \"Away Win\" ,1 = \"Draw\", 2 = \"Home Win\"\n",
    "overview_resulttable"
   ]
  },
  {
   "cell_type": "markdown",
   "metadata": {},
   "source": [
    "### Verteilung Ergebnisse Logistische Regression"
   ]
  },
  {
   "cell_type": "code",
   "execution_count": 50,
   "metadata": {},
   "outputs": [
    {
     "data": {
      "text/plain": [
       "<matplotlib.axes._subplots.AxesSubplot at 0x1a24eca690>"
      ]
     },
     "execution_count": 50,
     "metadata": {},
     "output_type": "execute_result"
    },
    {
     "data": {
      "image/png": "[encoded data removed]",
      "text/plain": [
       "<Figure size 432x288 with 1 Axes>"
      ]
     },
     "metadata": {
      "needs_background": "light"
     },
     "output_type": "display_data"
    }
   ],
   "source": [
    "sns.distplot(overview_resulttable['Pred_LogReg'],kde = False, bins= 3 )"
   ]
  },
  {
   "cell_type": "markdown",
   "metadata": {},
   "source": [
    "### Verteilung Ergebnisse Decision Tree"
   ]
  },
  {
   "cell_type": "code",
   "execution_count": 51,
   "metadata": {},
   "outputs": [
    {
     "data": {
      "text/plain": [
       "<matplotlib.axes._subplots.AxesSubplot at 0x1a24f64c50>"
      ]
     },
     "execution_count": 51,
     "metadata": {},
     "output_type": "execute_result"
    },
    {
     "data": {
      "image/png": "[encoded data removed]",
      "text/plain": [
       "<Figure size 432x288 with 1 Axes>"
      ]
     },
     "metadata": {
      "needs_background": "light"
     },
     "output_type": "display_data"
    }
   ],
   "source": [
    "sns.distplot(overview_resulttable['Pred_Dec_Tree'],kde = False, bins= 3 )"
   ]
  },
  {
   "cell_type": "markdown",
   "metadata": {},
   "source": [
    "### Verteilung Ergebnisse Random Forest"
   ]
  },
  {
   "cell_type": "code",
   "execution_count": 52,
   "metadata": {},
   "outputs": [
    {
     "data": {
      "text/plain": [
       "<matplotlib.axes._subplots.AxesSubplot at 0x1a24fd6690>"
      ]
     },
     "execution_count": 52,
     "metadata": {},
     "output_type": "execute_result"
    },
    {
     "data": {
      "image/png": "[encoded data removed]",
      "text/plain": [
       "<Figure size 432x288 with 1 Axes>"
      ]
     },
     "metadata": {
      "needs_background": "light"
     },
     "output_type": "display_data"
    }
   ],
   "source": [
    "sns.distplot(overview_resulttable['Pred_RandomForest'],kde = False, bins= 3 )"
   ]
  },
  {
   "cell_type": "markdown",
   "metadata": {},
   "source": [
    "## FTR zurück encoden"
   ]
  },
  {
   "cell_type": "code",
   "execution_count": 53,
   "metadata": {},
   "outputs": [],
   "source": [
    "overview_resulttable[[\"Pred_LogReg\", \"Pred_Dec_Tree\" ,\"Pred_RandomForest\"]] = overview_resulttable[[\"Pred_LogReg\", \"Pred_Dec_Tree\" ,\"Pred_RandomForest\"]].replace(2, \"H\")"
   ]
  },
  {
   "cell_type": "code",
   "execution_count": 54,
   "metadata": {},
   "outputs": [],
   "source": [
    "overview_resulttable[[\"Pred_LogReg\", \"Pred_Dec_Tree\" ,\"Pred_RandomForest\"]] = overview_resulttable[[\"Pred_LogReg\", \"Pred_Dec_Tree\" ,\"Pred_RandomForest\"]].replace(1, \"D\")"
   ]
  },
  {
   "cell_type": "code",
   "execution_count": 55,
   "metadata": {},
   "outputs": [],
   "source": [
    "overview_resulttable[[\"Pred_LogReg\", \"Pred_Dec_Tree\" ,\"Pred_RandomForest\"]] = overview_resulttable[[\"Pred_LogReg\", \"Pred_Dec_Tree\" ,\"Pred_RandomForest\"]].replace(0, \"A\")"
   ]
  },
  {
   "cell_type": "code",
   "execution_count": 56,
   "metadata": {},
   "outputs": [
    {
     "data": {
      "text/html": [
       "<div>\n",
       "<style scoped>\n",
       "    .dataframe tbody tr th:only-of-type {\n",
       "        vertical-align: middle;\n",
       "    }\n",
       "\n",
       "    .dataframe tbody tr th {\n",
       "        vertical-align: top;\n",
       "    }\n",
       "\n",
       "    .dataframe thead th {\n",
       "        text-align: right;\n",
       "    }\n",
       "</style>\n",
       "<table border=\"1\" class=\"dataframe\">\n",
       "  <thead>\n",
       "    <tr style=\"text-align: right;\">\n",
       "      <th></th>\n",
       "      <th>HomeTeam</th>\n",
       "      <th>AwayTeam</th>\n",
       "      <th>FTR</th>\n",
       "      <th>Pred_LogReg</th>\n",
       "      <th>Pred_Dec_Tree</th>\n",
       "      <th>Pred_RandomForest</th>\n",
       "    </tr>\n",
       "  </thead>\n",
       "  <tbody>\n",
       "    <tr>\n",
       "      <td>153</td>\n",
       "      <td>Schalke 04</td>\n",
       "      <td>M'gladbach</td>\n",
       "      <td>H</td>\n",
       "      <td>H</td>\n",
       "      <td>H</td>\n",
       "      <td>H</td>\n",
       "    </tr>\n",
       "    <tr>\n",
       "      <td>154</td>\n",
       "      <td>Augsburg</td>\n",
       "      <td>Dortmund</td>\n",
       "      <td>A</td>\n",
       "      <td>A</td>\n",
       "      <td>D</td>\n",
       "      <td>A</td>\n",
       "    </tr>\n",
       "    <tr>\n",
       "      <td>155</td>\n",
       "      <td>FC Koln</td>\n",
       "      <td>Wolfsburg</td>\n",
       "      <td>H</td>\n",
       "      <td>H</td>\n",
       "      <td>H</td>\n",
       "      <td>H</td>\n",
       "    </tr>\n",
       "    <tr>\n",
       "      <td>156</td>\n",
       "      <td>Fortuna Dusseldorf</td>\n",
       "      <td>Werder Bremen</td>\n",
       "      <td>A</td>\n",
       "      <td>D</td>\n",
       "      <td>A</td>\n",
       "      <td>A</td>\n",
       "    </tr>\n",
       "    <tr>\n",
       "      <td>157</td>\n",
       "      <td>Hoffenheim</td>\n",
       "      <td>Ein Frankfurt</td>\n",
       "      <td>A</td>\n",
       "      <td>H</td>\n",
       "      <td>A</td>\n",
       "      <td>A</td>\n",
       "    </tr>\n",
       "    <tr>\n",
       "      <td>...</td>\n",
       "      <td>...</td>\n",
       "      <td>...</td>\n",
       "      <td>...</td>\n",
       "      <td>...</td>\n",
       "      <td>...</td>\n",
       "      <td>...</td>\n",
       "    </tr>\n",
       "    <tr>\n",
       "      <td>209</td>\n",
       "      <td>Hoffenheim</td>\n",
       "      <td>Bayern Munich</td>\n",
       "      <td>A</td>\n",
       "      <td>A</td>\n",
       "      <td>A</td>\n",
       "      <td>A</td>\n",
       "    </tr>\n",
       "    <tr>\n",
       "      <td>210</td>\n",
       "      <td>Mainz</td>\n",
       "      <td>Paderborn</td>\n",
       "      <td>H</td>\n",
       "      <td>H</td>\n",
       "      <td>H</td>\n",
       "      <td>H</td>\n",
       "    </tr>\n",
       "    <tr>\n",
       "      <td>211</td>\n",
       "      <td>FC Koln</td>\n",
       "      <td>Schalke 04</td>\n",
       "      <td>H</td>\n",
       "      <td>H</td>\n",
       "      <td>H</td>\n",
       "      <td>H</td>\n",
       "    </tr>\n",
       "    <tr>\n",
       "      <td>212</td>\n",
       "      <td>Union Berlin</td>\n",
       "      <td>Wolfsburg</td>\n",
       "      <td>D</td>\n",
       "      <td>A</td>\n",
       "      <td>D</td>\n",
       "      <td>D</td>\n",
       "    </tr>\n",
       "    <tr>\n",
       "      <td>213</td>\n",
       "      <td>RB Leipzig</td>\n",
       "      <td>Leverkusen</td>\n",
       "      <td>D</td>\n",
       "      <td>H</td>\n",
       "      <td>D</td>\n",
       "      <td>D</td>\n",
       "    </tr>\n",
       "  </tbody>\n",
       "</table>\n",
       "<p>61 rows × 6 columns</p>\n",
       "</div>"
      ],
      "text/plain": [
       "               HomeTeam       AwayTeam FTR Pred_LogReg Pred_Dec_Tree  \\\n",
       "153          Schalke 04     M'gladbach   H           H             H   \n",
       "154            Augsburg       Dortmund   A           A             D   \n",
       "155             FC Koln      Wolfsburg   H           H             H   \n",
       "156  Fortuna Dusseldorf  Werder Bremen   A           D             A   \n",
       "157          Hoffenheim  Ein Frankfurt   A           H             A   \n",
       "..                  ...            ...  ..         ...           ...   \n",
       "209          Hoffenheim  Bayern Munich   A           A             A   \n",
       "210               Mainz      Paderborn   H           H             H   \n",
       "211             FC Koln     Schalke 04   H           H             H   \n",
       "212        Union Berlin      Wolfsburg   D           A             D   \n",
       "213          RB Leipzig     Leverkusen   D           H             D   \n",
       "\n",
       "    Pred_RandomForest  \n",
       "153                 H  \n",
       "154                 A  \n",
       "155                 H  \n",
       "156                 A  \n",
       "157                 A  \n",
       "..                ...  \n",
       "209                 A  \n",
       "210                 H  \n",
       "211                 H  \n",
       "212                 D  \n",
       "213                 D  \n",
       "\n",
       "[61 rows x 6 columns]"
      ]
     },
     "execution_count": 56,
     "metadata": {},
     "output_type": "execute_result"
    }
   ],
   "source": [
    "overview_resulttable"
   ]
  },
  {
   "cell_type": "code",
   "execution_count": 57,
   "metadata": {},
   "outputs": [],
   "source": [
    "homewin_table = overview_resulttable[overview_resulttable[\"FTR\"] == \"H\"]\n",
    "draw_table = overview_resulttable[overview_resulttable[\"FTR\"] == \"D\"]\n",
    "awaywin_table = overview_resulttable[overview_resulttable[\"FTR\"] == \"A\"]"
   ]
  },
  {
   "cell_type": "markdown",
   "metadata": {},
   "source": [
    "## Iterieren durch das Dataframe \n",
    "### Korrekte Ergebnisse = 1, Falsche Ergebnisse = 0"
   ]
  },
  {
   "cell_type": "code",
   "execution_count": 58,
   "metadata": {},
   "outputs": [],
   "source": [
    "Cor_LogReg = []\n",
    "Cor_DecTree = []\n",
    "Cor_RandomForest = []"
   ]
  },
  {
   "cell_type": "code",
   "execution_count": 59,
   "metadata": {},
   "outputs": [],
   "source": [
    "for index, row in overview_resulttable.iterrows():\n",
    "    if row[\"FTR\"] == row[\"Pred_LogReg\"]:\n",
    "        Cor_LogReg.append(1)\n",
    "    else:\n",
    "        Cor_LogReg.append(0)"
   ]
  },
  {
   "cell_type": "code",
   "execution_count": 60,
   "metadata": {},
   "outputs": [],
   "source": [
    "for index, row in overview_resulttable.iterrows():\n",
    "    if row[\"FTR\"] == row[\"Pred_Dec_Tree\"]:\n",
    "        Cor_DecTree.append(1)\n",
    "    else:\n",
    "        Cor_DecTree.append(0)"
   ]
  },
  {
   "cell_type": "code",
   "execution_count": 61,
   "metadata": {},
   "outputs": [],
   "source": [
    "for index, row in overview_resulttable.iterrows():\n",
    "    if row[\"FTR\"] == row[\"Pred_RandomForest\"]:\n",
    "        Cor_RandomForest.append(1)\n",
    "    else:\n",
    "        Cor_RandomForest.append(0)"
   ]
  },
  {
   "cell_type": "code",
   "execution_count": 62,
   "metadata": {},
   "outputs": [],
   "source": [
    "overview_resulttable[\"Correct LogReg\"] = Cor_LogReg\n",
    "overview_resulttable[\"Correct DecTree\"] = Cor_DecTree\n",
    "overview_resulttable[\"Correct RandomForest\"] = Cor_RandomForest"
   ]
  },
  {
   "cell_type": "code",
   "execution_count": 63,
   "metadata": {},
   "outputs": [
    {
     "data": {
      "text/html": [
       "<div>\n",
       "<style scoped>\n",
       "    .dataframe tbody tr th:only-of-type {\n",
       "        vertical-align: middle;\n",
       "    }\n",
       "\n",
       "    .dataframe tbody tr th {\n",
       "        vertical-align: top;\n",
       "    }\n",
       "\n",
       "    .dataframe thead th {\n",
       "        text-align: right;\n",
       "    }\n",
       "</style>\n",
       "<table border=\"1\" class=\"dataframe\">\n",
       "  <thead>\n",
       "    <tr style=\"text-align: right;\">\n",
       "      <th></th>\n",
       "      <th>HomeTeam</th>\n",
       "      <th>AwayTeam</th>\n",
       "      <th>FTR</th>\n",
       "      <th>Pred_LogReg</th>\n",
       "      <th>Pred_Dec_Tree</th>\n",
       "      <th>Pred_RandomForest</th>\n",
       "      <th>Correct LogReg</th>\n",
       "      <th>Correct DecTree</th>\n",
       "      <th>Correct RandomForest</th>\n",
       "    </tr>\n",
       "  </thead>\n",
       "  <tbody>\n",
       "    <tr>\n",
       "      <td>153</td>\n",
       "      <td>Schalke 04</td>\n",
       "      <td>M'gladbach</td>\n",
       "      <td>H</td>\n",
       "      <td>H</td>\n",
       "      <td>H</td>\n",
       "      <td>H</td>\n",
       "      <td>1</td>\n",
       "      <td>1</td>\n",
       "      <td>1</td>\n",
       "    </tr>\n",
       "    <tr>\n",
       "      <td>154</td>\n",
       "      <td>Augsburg</td>\n",
       "      <td>Dortmund</td>\n",
       "      <td>A</td>\n",
       "      <td>A</td>\n",
       "      <td>D</td>\n",
       "      <td>A</td>\n",
       "      <td>1</td>\n",
       "      <td>0</td>\n",
       "      <td>1</td>\n",
       "    </tr>\n",
       "    <tr>\n",
       "      <td>155</td>\n",
       "      <td>FC Koln</td>\n",
       "      <td>Wolfsburg</td>\n",
       "      <td>H</td>\n",
       "      <td>H</td>\n",
       "      <td>H</td>\n",
       "      <td>H</td>\n",
       "      <td>1</td>\n",
       "      <td>1</td>\n",
       "      <td>1</td>\n",
       "    </tr>\n",
       "    <tr>\n",
       "      <td>156</td>\n",
       "      <td>Fortuna Dusseldorf</td>\n",
       "      <td>Werder Bremen</td>\n",
       "      <td>A</td>\n",
       "      <td>D</td>\n",
       "      <td>A</td>\n",
       "      <td>A</td>\n",
       "      <td>0</td>\n",
       "      <td>1</td>\n",
       "      <td>1</td>\n",
       "    </tr>\n",
       "    <tr>\n",
       "      <td>157</td>\n",
       "      <td>Hoffenheim</td>\n",
       "      <td>Ein Frankfurt</td>\n",
       "      <td>A</td>\n",
       "      <td>H</td>\n",
       "      <td>A</td>\n",
       "      <td>A</td>\n",
       "      <td>0</td>\n",
       "      <td>1</td>\n",
       "      <td>1</td>\n",
       "    </tr>\n",
       "    <tr>\n",
       "      <td>...</td>\n",
       "      <td>...</td>\n",
       "      <td>...</td>\n",
       "      <td>...</td>\n",
       "      <td>...</td>\n",
       "      <td>...</td>\n",
       "      <td>...</td>\n",
       "      <td>...</td>\n",
       "      <td>...</td>\n",
       "      <td>...</td>\n",
       "    </tr>\n",
       "    <tr>\n",
       "      <td>209</td>\n",
       "      <td>Hoffenheim</td>\n",
       "      <td>Bayern Munich</td>\n",
       "      <td>A</td>\n",
       "      <td>A</td>\n",
       "      <td>A</td>\n",
       "      <td>A</td>\n",
       "      <td>1</td>\n",
       "      <td>1</td>\n",
       "      <td>1</td>\n",
       "    </tr>\n",
       "    <tr>\n",
       "      <td>210</td>\n",
       "      <td>Mainz</td>\n",
       "      <td>Paderborn</td>\n",
       "      <td>H</td>\n",
       "      <td>H</td>\n",
       "      <td>H</td>\n",
       "      <td>H</td>\n",
       "      <td>1</td>\n",
       "      <td>1</td>\n",
       "      <td>1</td>\n",
       "    </tr>\n",
       "    <tr>\n",
       "      <td>211</td>\n",
       "      <td>FC Koln</td>\n",
       "      <td>Schalke 04</td>\n",
       "      <td>H</td>\n",
       "      <td>H</td>\n",
       "      <td>H</td>\n",
       "      <td>H</td>\n",
       "      <td>1</td>\n",
       "      <td>1</td>\n",
       "      <td>1</td>\n",
       "    </tr>\n",
       "    <tr>\n",
       "      <td>212</td>\n",
       "      <td>Union Berlin</td>\n",
       "      <td>Wolfsburg</td>\n",
       "      <td>D</td>\n",
       "      <td>A</td>\n",
       "      <td>D</td>\n",
       "      <td>D</td>\n",
       "      <td>0</td>\n",
       "      <td>1</td>\n",
       "      <td>1</td>\n",
       "    </tr>\n",
       "    <tr>\n",
       "      <td>213</td>\n",
       "      <td>RB Leipzig</td>\n",
       "      <td>Leverkusen</td>\n",
       "      <td>D</td>\n",
       "      <td>H</td>\n",
       "      <td>D</td>\n",
       "      <td>D</td>\n",
       "      <td>0</td>\n",
       "      <td>1</td>\n",
       "      <td>1</td>\n",
       "    </tr>\n",
       "  </tbody>\n",
       "</table>\n",
       "<p>61 rows × 9 columns</p>\n",
       "</div>"
      ],
      "text/plain": [
       "               HomeTeam       AwayTeam FTR Pred_LogReg Pred_Dec_Tree  \\\n",
       "153          Schalke 04     M'gladbach   H           H             H   \n",
       "154            Augsburg       Dortmund   A           A             D   \n",
       "155             FC Koln      Wolfsburg   H           H             H   \n",
       "156  Fortuna Dusseldorf  Werder Bremen   A           D             A   \n",
       "157          Hoffenheim  Ein Frankfurt   A           H             A   \n",
       "..                  ...            ...  ..         ...           ...   \n",
       "209          Hoffenheim  Bayern Munich   A           A             A   \n",
       "210               Mainz      Paderborn   H           H             H   \n",
       "211             FC Koln     Schalke 04   H           H             H   \n",
       "212        Union Berlin      Wolfsburg   D           A             D   \n",
       "213          RB Leipzig     Leverkusen   D           H             D   \n",
       "\n",
       "    Pred_RandomForest  Correct LogReg  Correct DecTree  Correct RandomForest  \n",
       "153                 H               1                1                     1  \n",
       "154                 A               1                0                     1  \n",
       "155                 H               1                1                     1  \n",
       "156                 A               0                1                     1  \n",
       "157                 A               0                1                     1  \n",
       "..                ...             ...              ...                   ...  \n",
       "209                 A               1                1                     1  \n",
       "210                 H               1                1                     1  \n",
       "211                 H               1                1                     1  \n",
       "212                 D               0                1                     1  \n",
       "213                 D               0                1                     1  \n",
       "\n",
       "[61 rows x 9 columns]"
      ]
     },
     "execution_count": 63,
     "metadata": {},
     "output_type": "execute_result"
    }
   ],
   "source": [
    "overview_resulttable"
   ]
  },
  {
   "cell_type": "markdown",
   "metadata": {},
   "source": [
    "## Plots der Ergebnisse"
   ]
  },
  {
   "cell_type": "code",
   "execution_count": 64,
   "metadata": {},
   "outputs": [
    {
     "data": {
      "text/plain": [
       "Text(0.5, 1.0, 'Result Logistische Regression')"
      ]
     },
     "execution_count": 64,
     "metadata": {},
     "output_type": "execute_result"
    },
    {
     "data": {
      "image/png": "[encoded data removed]",
      "text/plain": [
       "<Figure size 432x288 with 1 Axes>"
      ]
     },
     "metadata": {
      "needs_background": "light"
     },
     "output_type": "display_data"
    }
   ],
   "source": [
    "lc = sns.countplot(x = \"Correct LogReg\", data=overview_resulttable)\n",
    "lc.set_title(\"Result Logistische Regression\")"
   ]
  },
  {
   "cell_type": "code",
   "execution_count": 65,
   "metadata": {},
   "outputs": [
    {
     "data": {
      "text/plain": [
       "Text(0.5, 1.0, 'Result Decision Tree')"
      ]
     },
     "execution_count": 65,
     "metadata": {},
     "output_type": "execute_result"
    },
    {
     "data": {
      "image/png": "[encoded data removed]",
      "text/plain": [
       "<Figure size 432x288 with 1 Axes>"
      ]
     },
     "metadata": {
      "needs_background": "light"
     },
     "output_type": "display_data"
    }
   ],
   "source": [
    "dt = sns.countplot(x = \"Correct DecTree\", data=overview_resulttable)\n",
    "dt.set_title(\"Result Decision Tree\")"
   ]
  },
  {
   "cell_type": "code",
   "execution_count": 66,
   "metadata": {},
   "outputs": [
    {
     "data": {
      "text/plain": [
       "Text(0.5, 1.0, 'Result Random Forest')"
      ]
     },
     "execution_count": 66,
     "metadata": {},
     "output_type": "execute_result"
    },
    {
     "data": {
      "image/png": "[encoded data removed]",
      "text/plain": [
       "<Figure size 432x288 with 1 Axes>"
      ]
     },
     "metadata": {
      "needs_background": "light"
     },
     "output_type": "display_data"
    }
   ],
   "source": [
    "rf = sns.countplot(x = \"Correct RandomForest\", data=overview_resulttable)\n",
    "rf.set_title(\"Result Random Forest\")"
   ]
  },
  {
   "cell_type": "markdown",
   "metadata": {},
   "source": [
    "# Features erweitern"
   ]
  },
  {
   "cell_type": "markdown",
   "metadata": {},
   "source": [
    "## Webscraping der Transfersummen pro Verein\n",
    "### Wir werden Trasnfersummen, die der jeweilige Verein in der Sommerpause ausgegeben hat, von transfermarkt.de srapen und in einem pandas dataframe speichern."
   ]
  },
  {
   "cell_type": "code",
   "execution_count": 67,
   "metadata": {},
   "outputs": [],
   "source": [
    "import requests\n",
    "\n",
    "from bs4 import BeautifulSoup\n",
    "\n"
   ]
  },
  {
   "cell_type": "code",
   "execution_count": 68,
   "metadata": {},
   "outputs": [
    {
     "data": {
      "text/plain": [
       "'Borussia Dortmund'"
      ]
     },
     "execution_count": 68,
     "metadata": {},
     "output_type": "execute_result"
    }
   ],
   "source": [
    "headers = {'User-Agent':\n",
    "           'Mozilla/5.0 (X11; Linux x86_64) AppleWebKit/537.36 (KHTML, like Gecko) Chrome/47.0.2526.106 Safari/537.36'}\n",
    "\n",
    "page = \"https://www.transfermarkt.at/transfers/einnahmenausgaben/statistik/plus/0?ids=a&sa=&saison_id=2019&saison_id_bis=2019&land_id=40&nat=&pos=&altersklasse=&w_s=&leihe=&intern=0\"\n",
    "pageTree = requests.get(page, headers=headers)\n",
    "pageSoup = BeautifulSoup(pageTree.content, 'html.parser')\n",
    "\n",
    "\n",
    "Clubs = pageSoup.find_all(\"a\", {\"class\": \"vereinprofil_tooltip\"})\n",
    "\n",
    "#Check first club\n",
    "Clubs[1].text"
   ]
  },
  {
   "cell_type": "code",
   "execution_count": 110,
   "metadata": {},
   "outputs": [
    {
     "data": {
      "text/plain": [
       "'-23,00 Mio. €'"
      ]
     },
     "execution_count": 110,
     "metadata": {},
     "output_type": "execute_result"
    }
   ],
   "source": [
    "Values = pageSoup.find_all(\"td\", {\"class\": \"rechts hauptlink\"})\n",
    "\n",
    "# Check erste Transfersumme\n",
    "Values[0].text"
   ]
  },
  {
   "cell_type": "code",
   "execution_count": 191,
   "metadata": {},
   "outputs": [
    {
     "data": {
      "text/html": [
       "<div>\n",
       "<style scoped>\n",
       "    .dataframe tbody tr th:only-of-type {\n",
       "        vertical-align: middle;\n",
       "    }\n",
       "\n",
       "    .dataframe tbody tr th {\n",
       "        vertical-align: top;\n",
       "    }\n",
       "\n",
       "    .dataframe thead th {\n",
       "        text-align: right;\n",
       "    }\n",
       "</style>\n",
       "<table border=\"1\" class=\"dataframe\">\n",
       "  <thead>\n",
       "    <tr style=\"text-align: right;\">\n",
       "      <th></th>\n",
       "      <th>Clubs</th>\n",
       "      <th>Values</th>\n",
       "    </tr>\n",
       "  </thead>\n",
       "  <tbody>\n",
       "    <tr>\n",
       "      <td>0</td>\n",
       "      <td>Borussia Dortmund</td>\n",
       "      <td>-23,00 Mio. €</td>\n",
       "    </tr>\n",
       "    <tr>\n",
       "      <td>1</td>\n",
       "      <td>FC Bayern München</td>\n",
       "      <td>-89,50 Mio. €</td>\n",
       "    </tr>\n",
       "    <tr>\n",
       "      <td>2</td>\n",
       "      <td>Hertha BSC</td>\n",
       "      <td>-86,26 Mio. €</td>\n",
       "    </tr>\n",
       "    <tr>\n",
       "      <td>3</td>\n",
       "      <td>Bayer 04 Leverkusen</td>\n",
       "      <td>-62,50 Mio. €</td>\n",
       "    </tr>\n",
       "    <tr>\n",
       "      <td>4</td>\n",
       "      <td>RasenBallsport Leipzig</td>\n",
       "      <td>-25,50 Mio. €</td>\n",
       "    </tr>\n",
       "  </tbody>\n",
       "</table>\n",
       "</div>"
      ],
      "text/plain": [
       "                    Clubs         Values\n",
       "0       Borussia Dortmund  -23,00 Mio. €\n",
       "1       FC Bayern München  -89,50 Mio. €\n",
       "2              Hertha BSC  -86,26 Mio. €\n",
       "3     Bayer 04 Leverkusen  -62,50 Mio. €\n",
       "4  RasenBallsport Leipzig  -25,50 Mio. €"
      ]
     },
     "execution_count": 191,
     "metadata": {},
     "output_type": "execute_result"
    }
   ],
   "source": [
    "#Create Dataframe with German Soccer Clubs and their expenses in the transfer period\n",
    "\n",
    "ClubList = []\n",
    "ValuesList = []\n",
    "\n",
    "\n",
    "for i in range(1,44,2):\n",
    "    ClubList.append(Clubs[i].text)\n",
    "for i in range(22):\n",
    "    ValuesList.append(Values[i].text)\n",
    "    \n",
    "df_transfer = pd.DataFrame({\"Clubs\":ClubList,\"Values\":ValuesList})\n",
    "\n",
    "df_transfer.head()"
   ]
  },
  {
   "cell_type": "markdown",
   "metadata": {},
   "source": [
    "### Hinzufügen vom SC Paderborn, weil Wert auf 2. Seite von transfermarkt.de steht"
   ]
  },
  {
   "cell_type": "code",
   "execution_count": 192,
   "metadata": {},
   "outputs": [],
   "source": [
    "df_transfer.loc[22] = ['SC Paderborn 07','5,30 Mio. €']"
   ]
  },
  {
   "cell_type": "code",
   "execution_count": 193,
   "metadata": {},
   "outputs": [
    {
     "data": {
      "text/plain": [
       "array(['Bayern Munich', 'Dortmund', 'Freiburg', 'Leverkusen',\n",
       "       'Werder Bremen', 'Wolfsburg', \"M'gladbach\", 'Ein Frankfurt',\n",
       "       'Union Berlin', 'FC Koln', 'Augsburg', 'Fortuna Dusseldorf',\n",
       "       'Hoffenheim', 'Mainz', 'Paderborn', 'Schalke 04', 'RB Leipzig',\n",
       "       'Hertha'], dtype=object)"
      ]
     },
     "execution_count": 193,
     "metadata": {},
     "output_type": "execute_result"
    }
   ],
   "source": [
    "list_teams"
   ]
  },
  {
   "cell_type": "code",
   "execution_count": 164,
   "metadata": {},
   "outputs": [
    {
     "data": {
      "text/plain": [
       "array(['Borussia Dortmund', 'FC Bayern München', 'Hertha BSC',\n",
       "       'Bayer 04 Leverkusen', 'RasenBallsport Leipzig',\n",
       "       'Eintracht Frankfurt', 'TSG 1899 Hoffenheim',\n",
       "       'Borussia Mönchengladbach', 'VfL Wolfsburg', 'FC Augsburg',\n",
       "       '1.FSV Mainz 05', 'FC Schalke 04', 'VfB Stuttgart', 'SC Freiburg',\n",
       "       '1.FC Köln', 'SV Werder Bremen', 'Fortuna Düsseldorf',\n",
       "       'Hamburger SV', '1.FC Nürnberg', '1.FC Union Berlin',\n",
       "       '1.FC Heidenheim 1846', 'Hannover 96', 'SC Paderborn 07'],\n",
       "      dtype=object)"
      ]
     },
     "execution_count": 164,
     "metadata": {},
     "output_type": "execute_result"
    }
   ],
   "source": [
    "df_transfer[\"Clubs\"].unique()"
   ]
  },
  {
   "cell_type": "code",
   "execution_count": 194,
   "metadata": {},
   "outputs": [
    {
     "data": {
      "text/html": [
       "<div>\n",
       "<style scoped>\n",
       "    .dataframe tbody tr th:only-of-type {\n",
       "        vertical-align: middle;\n",
       "    }\n",
       "\n",
       "    .dataframe tbody tr th {\n",
       "        vertical-align: top;\n",
       "    }\n",
       "\n",
       "    .dataframe thead th {\n",
       "        text-align: right;\n",
       "    }\n",
       "</style>\n",
       "<table border=\"1\" class=\"dataframe\">\n",
       "  <thead>\n",
       "    <tr style=\"text-align: right;\">\n",
       "      <th></th>\n",
       "      <th>Clubs</th>\n",
       "      <th>Values</th>\n",
       "    </tr>\n",
       "  </thead>\n",
       "  <tbody>\n",
       "    <tr>\n",
       "      <td>0</td>\n",
       "      <td>Borussia Dortmund</td>\n",
       "      <td>-23,00 Mio. €</td>\n",
       "    </tr>\n",
       "    <tr>\n",
       "      <td>1</td>\n",
       "      <td>FC Bayern München</td>\n",
       "      <td>-89,50 Mio. €</td>\n",
       "    </tr>\n",
       "    <tr>\n",
       "      <td>2</td>\n",
       "      <td>Hertha BSC</td>\n",
       "      <td>-86,26 Mio. €</td>\n",
       "    </tr>\n",
       "    <tr>\n",
       "      <td>3</td>\n",
       "      <td>Bayer 04 Leverkusen</td>\n",
       "      <td>-62,50 Mio. €</td>\n",
       "    </tr>\n",
       "    <tr>\n",
       "      <td>4</td>\n",
       "      <td>RasenBallsport Leipzig</td>\n",
       "      <td>-25,50 Mio. €</td>\n",
       "    </tr>\n",
       "  </tbody>\n",
       "</table>\n",
       "</div>"
      ],
      "text/plain": [
       "                    Clubs         Values\n",
       "0       Borussia Dortmund  -23,00 Mio. €\n",
       "1       FC Bayern München  -89,50 Mio. €\n",
       "2              Hertha BSC  -86,26 Mio. €\n",
       "3     Bayer 04 Leverkusen  -62,50 Mio. €\n",
       "4  RasenBallsport Leipzig  -25,50 Mio. €"
      ]
     },
     "execution_count": 194,
     "metadata": {},
     "output_type": "execute_result"
    }
   ],
   "source": [
    "df_transfer.head()"
   ]
  },
  {
   "cell_type": "markdown",
   "metadata": {},
   "source": [
    "###  Mannschaften der beiden DataFrames gleich benennen"
   ]
  },
  {
   "cell_type": "code",
   "execution_count": 195,
   "metadata": {},
   "outputs": [],
   "source": [
    "\n",
    "df_transfer.loc[df_transfer[\"Clubs\"] == \"Borussia Dortmund\",\"Clubs\"] = \"Dortmund\""
   ]
  },
  {
   "cell_type": "code",
   "execution_count": 196,
   "metadata": {},
   "outputs": [],
   "source": [
    "df_transfer.loc[df_transfer[\"Clubs\"] == \"FC Bayern München\",\"Clubs\"] = \"Bayern Munich\"\n",
    "df_transfer.loc[df_transfer[\"Clubs\"] == \"Hertha BSC\",\"Clubs\"] = \"Hertha\"\n",
    "df_transfer.loc[df_transfer[\"Clubs\"] == \"Bayer 04 Leverkusen\",\"Clubs\"] = \"Leverkusen\"\n",
    "df_transfer.loc[df_transfer[\"Clubs\"] == \"RasenBallsport Leipzig\",\"Clubs\"] = \"RB Leipzig\"\n",
    "df_transfer.loc[df_transfer[\"Clubs\"] == \"Eintracht Frankfurt\",\"Clubs\"] = \"Ein Frankfurt\"\n",
    "df_transfer.loc[df_transfer[\"Clubs\"] == \"TSG 1899 Hoffenheim\",\"Clubs\"] = \"Hoffenheim\"\n",
    "df_transfer.loc[df_transfer[\"Clubs\"] == \"Borussia Mönchengladbach\",\"Clubs\"] = \"M'gladbach\"\n",
    "df_transfer.loc[df_transfer[\"Clubs\"] == \"VfL Wolfsburg\",\"Clubs\"] = \"Wolfsburg\"\n",
    "df_transfer.loc[df_transfer[\"Clubs\"] == \"FC Augsburg\",\"Clubs\"] = \"Augsburg\"\n",
    "df_transfer.loc[df_transfer[\"Clubs\"] == \"1.FSV Mainz 05\",\"Clubs\"] = \"Mainz\"\n",
    "df_transfer.loc[df_transfer[\"Clubs\"] == \"FC Schalke 04\",\"Clubs\"] = \"Schalke 04\"\n",
    "df_transfer.loc[df_transfer[\"Clubs\"] == \"SC Freiburg\",\"Clubs\"] = \"Freiburg\"\n",
    "df_transfer.loc[df_transfer[\"Clubs\"] == \"1.FC Köln\",\"Clubs\"] = \"FC Koln\"\n",
    "df_transfer.loc[df_transfer[\"Clubs\"] == \"SV Werder Bremen\",\"Clubs\"] = \"Werder Bremen\"\n",
    "df_transfer.loc[df_transfer[\"Clubs\"] == \"Fortuna Düsseldorf\",\"Clubs\"] = \"Fortuna Dusseldorf\"\n",
    "df_transfer.loc[df_transfer[\"Clubs\"] == \"1.FC Union Berlin\",\"Clubs\"] = \"Union Berlin\"\n",
    "df_transfer.loc[df_transfer[\"Clubs\"] == \"SC Paderborn 07\",\"Clubs\"] = \"Paderborn\"\n",
    "\n"
   ]
  },
  {
   "cell_type": "markdown",
   "metadata": {},
   "source": [
    "### Transfersummen in Floats umwandeln"
   ]
  },
  {
   "cell_type": "code",
   "execution_count": 255,
   "metadata": {},
   "outputs": [],
   "source": [
    "list_transfervalues = []"
   ]
  },
  {
   "cell_type": "code",
   "execution_count": 256,
   "metadata": {},
   "outputs": [],
   "source": [
    "for index, row in df_transfer.iterrows():\n",
    "    list_transfervalues.append(row[\"Values\"][:4])"
   ]
  },
  {
   "cell_type": "code",
   "execution_count": 257,
   "metadata": {},
   "outputs": [],
   "source": [
    "list_transfervalues = [float(i.split()[0].replace(',', '.')) for i in list_transfervalues] "
   ]
  },
  {
   "cell_type": "code",
   "execution_count": 258,
   "metadata": {},
   "outputs": [],
   "source": [
    "df_transfer[\"Values_Mio\"] = list_transfervalues\n",
    "\n"
   ]
  },
  {
   "cell_type": "code",
   "execution_count": 259,
   "metadata": {},
   "outputs": [
    {
     "data": {
      "text/html": [
       "<div>\n",
       "<style scoped>\n",
       "    .dataframe tbody tr th:only-of-type {\n",
       "        vertical-align: middle;\n",
       "    }\n",
       "\n",
       "    .dataframe tbody tr th {\n",
       "        vertical-align: top;\n",
       "    }\n",
       "\n",
       "    .dataframe thead th {\n",
       "        text-align: right;\n",
       "    }\n",
       "</style>\n",
       "<table border=\"1\" class=\"dataframe\">\n",
       "  <thead>\n",
       "    <tr style=\"text-align: right;\">\n",
       "      <th></th>\n",
       "      <th>Clubs</th>\n",
       "      <th>Values</th>\n",
       "      <th>Values_Mio</th>\n",
       "    </tr>\n",
       "  </thead>\n",
       "  <tbody>\n",
       "    <tr>\n",
       "      <td>0</td>\n",
       "      <td>Dortmund</td>\n",
       "      <td>-23,00 Mio. €</td>\n",
       "      <td>-23.0</td>\n",
       "    </tr>\n",
       "    <tr>\n",
       "      <td>1</td>\n",
       "      <td>Bayern Munich</td>\n",
       "      <td>-89,50 Mio. €</td>\n",
       "      <td>-89.0</td>\n",
       "    </tr>\n",
       "    <tr>\n",
       "      <td>2</td>\n",
       "      <td>Hertha</td>\n",
       "      <td>-86,26 Mio. €</td>\n",
       "      <td>-86.0</td>\n",
       "    </tr>\n",
       "    <tr>\n",
       "      <td>3</td>\n",
       "      <td>Leverkusen</td>\n",
       "      <td>-62,50 Mio. €</td>\n",
       "      <td>-62.0</td>\n",
       "    </tr>\n",
       "    <tr>\n",
       "      <td>4</td>\n",
       "      <td>RB Leipzig</td>\n",
       "      <td>-25,50 Mio. €</td>\n",
       "      <td>-25.0</td>\n",
       "    </tr>\n",
       "  </tbody>\n",
       "</table>\n",
       "</div>"
      ],
      "text/plain": [
       "           Clubs         Values  Values_Mio\n",
       "0       Dortmund  -23,00 Mio. €       -23.0\n",
       "1  Bayern Munich  -89,50 Mio. €       -89.0\n",
       "2         Hertha  -86,26 Mio. €       -86.0\n",
       "3     Leverkusen  -62,50 Mio. €       -62.0\n",
       "4     RB Leipzig  -25,50 Mio. €       -25.0"
      ]
     },
     "execution_count": 259,
     "metadata": {},
     "output_type": "execute_result"
    }
   ],
   "source": [
    "df_transfer.head()"
   ]
  },
  {
   "cell_type": "markdown",
   "metadata": {},
   "source": [
    "## Transfersummen in das bestehende Dataframe mit aufnehmen durch Generieren neuer Spalten \n",
    "### Neue Spalten für Transferausgaben des Heimteams und des Auswärtsteams"
   ]
  },
  {
   "cell_type": "code",
   "execution_count": 326,
   "metadata": {},
   "outputs": [],
   "source": [
    "list_transfers_home = []\n",
    "list_transfers_away = []"
   ]
  },
  {
   "cell_type": "code",
   "execution_count": 327,
   "metadata": {},
   "outputs": [],
   "source": [
    "for index, row in minimal_data.iterrows():\n",
    "        list_transfers_home.append(df_transfer.loc[df_transfer[\"Clubs\"] == row[\"HomeTeam\"],:].Values_Mio.values)\n",
    "        \n"
   ]
  },
  {
   "cell_type": "code",
   "execution_count": 328,
   "metadata": {},
   "outputs": [],
   "source": [
    "for index, row in minimal_data.iterrows():\n",
    "        list_transfers_away.append(df_transfer.loc[df_transfer[\"Clubs\"] == row[\"AwayTeam\"],:].Values_Mio.values)\n",
    "        "
   ]
  },
  {
   "cell_type": "code",
   "execution_count": 329,
   "metadata": {},
   "outputs": [],
   "source": [
    "minimal_data[\"transfer_home\"]= list_transfers_home\n",
    "minimal_data[\"transfer_away\"]= list_transfers_away"
   ]
  },
  {
   "cell_type": "code",
   "execution_count": 330,
   "metadata": {},
   "outputs": [
    {
     "name": "stdout",
     "output_type": "stream",
     "text": [
      "<class 'pandas.core.frame.DataFrame'>\n",
      "RangeIndex: 214 entries, 0 to 213\n",
      "Data columns (total 15 columns):\n",
      "Div               214 non-null object\n",
      "Date              214 non-null object\n",
      "HomeTeam          214 non-null object\n",
      "AwayTeam          214 non-null object\n",
      "FTHG              214 non-null int64\n",
      "FTAG              214 non-null int64\n",
      "FTR               214 non-null object\n",
      "Away_Win          214 non-null uint8\n",
      "Home_Win          214 non-null uint8\n",
      "Draw              214 non-null uint8\n",
      "Home_Win_Ratio    214 non-null float64\n",
      "Away_Win_Ratio    214 non-null float64\n",
      "Draw_Ratio        214 non-null float64\n",
      "transfer_home     214 non-null object\n",
      "transfer_away     214 non-null object\n",
      "dtypes: float64(3), int64(2), object(7), uint8(3)\n",
      "memory usage: 20.8+ KB\n"
     ]
    }
   ],
   "source": [
    "minimal_data.info()"
   ]
  },
  {
   "cell_type": "markdown",
   "metadata": {},
   "source": [
    "## Transferausgaben in floats umwandeln"
   ]
  },
  {
   "cell_type": "code",
   "execution_count": 332,
   "metadata": {},
   "outputs": [],
   "source": [
    "minimal_data[\"transfer_home\"] = minimal_data.transfer_home.astype(float)\n",
    "minimal_data[\"transfer_away\"] = minimal_data.transfer_away.astype(float)"
   ]
  },
  {
   "cell_type": "code",
   "execution_count": 334,
   "metadata": {},
   "outputs": [
    {
     "data": {
      "text/html": [
       "<div>\n",
       "<style scoped>\n",
       "    .dataframe tbody tr th:only-of-type {\n",
       "        vertical-align: middle;\n",
       "    }\n",
       "\n",
       "    .dataframe tbody tr th {\n",
       "        vertical-align: top;\n",
       "    }\n",
       "\n",
       "    .dataframe thead th {\n",
       "        text-align: right;\n",
       "    }\n",
       "</style>\n",
       "<table border=\"1\" class=\"dataframe\">\n",
       "  <thead>\n",
       "    <tr style=\"text-align: right;\">\n",
       "      <th></th>\n",
       "      <th>Div</th>\n",
       "      <th>Date</th>\n",
       "      <th>HomeTeam</th>\n",
       "      <th>AwayTeam</th>\n",
       "      <th>FTHG</th>\n",
       "      <th>FTAG</th>\n",
       "      <th>FTR</th>\n",
       "      <th>Away_Win</th>\n",
       "      <th>Home_Win</th>\n",
       "      <th>Draw</th>\n",
       "      <th>Home_Win_Ratio</th>\n",
       "      <th>Away_Win_Ratio</th>\n",
       "      <th>Draw_Ratio</th>\n",
       "      <th>transfer_home</th>\n",
       "      <th>transfer_away</th>\n",
       "    </tr>\n",
       "  </thead>\n",
       "  <tbody>\n",
       "    <tr>\n",
       "      <td>0</td>\n",
       "      <td>D1</td>\n",
       "      <td>16/08/2019</td>\n",
       "      <td>Bayern Munich</td>\n",
       "      <td>Hertha</td>\n",
       "      <td>2</td>\n",
       "      <td>2</td>\n",
       "      <td>D</td>\n",
       "      <td>0</td>\n",
       "      <td>0</td>\n",
       "      <td>1</td>\n",
       "      <td>0.00</td>\n",
       "      <td>0.0</td>\n",
       "      <td>1.00</td>\n",
       "      <td>-89.0</td>\n",
       "      <td>-86.0</td>\n",
       "    </tr>\n",
       "    <tr>\n",
       "      <td>1</td>\n",
       "      <td>D1</td>\n",
       "      <td>17/08/2019</td>\n",
       "      <td>Dortmund</td>\n",
       "      <td>Augsburg</td>\n",
       "      <td>5</td>\n",
       "      <td>1</td>\n",
       "      <td>H</td>\n",
       "      <td>0</td>\n",
       "      <td>1</td>\n",
       "      <td>0</td>\n",
       "      <td>0.50</td>\n",
       "      <td>0.0</td>\n",
       "      <td>0.50</td>\n",
       "      <td>-23.0</td>\n",
       "      <td>-11.0</td>\n",
       "    </tr>\n",
       "    <tr>\n",
       "      <td>2</td>\n",
       "      <td>D1</td>\n",
       "      <td>17/08/2019</td>\n",
       "      <td>Freiburg</td>\n",
       "      <td>Mainz</td>\n",
       "      <td>3</td>\n",
       "      <td>0</td>\n",
       "      <td>H</td>\n",
       "      <td>0</td>\n",
       "      <td>1</td>\n",
       "      <td>0</td>\n",
       "      <td>0.67</td>\n",
       "      <td>0.0</td>\n",
       "      <td>0.33</td>\n",
       "      <td>-10.0</td>\n",
       "      <td>-3.0</td>\n",
       "    </tr>\n",
       "    <tr>\n",
       "      <td>3</td>\n",
       "      <td>D1</td>\n",
       "      <td>17/08/2019</td>\n",
       "      <td>Leverkusen</td>\n",
       "      <td>Paderborn</td>\n",
       "      <td>3</td>\n",
       "      <td>2</td>\n",
       "      <td>H</td>\n",
       "      <td>0</td>\n",
       "      <td>1</td>\n",
       "      <td>0</td>\n",
       "      <td>0.75</td>\n",
       "      <td>0.0</td>\n",
       "      <td>0.25</td>\n",
       "      <td>-62.0</td>\n",
       "      <td>5.3</td>\n",
       "    </tr>\n",
       "    <tr>\n",
       "      <td>4</td>\n",
       "      <td>D1</td>\n",
       "      <td>17/08/2019</td>\n",
       "      <td>Werder Bremen</td>\n",
       "      <td>Fortuna Dusseldorf</td>\n",
       "      <td>1</td>\n",
       "      <td>3</td>\n",
       "      <td>A</td>\n",
       "      <td>1</td>\n",
       "      <td>0</td>\n",
       "      <td>0</td>\n",
       "      <td>0.60</td>\n",
       "      <td>0.2</td>\n",
       "      <td>0.20</td>\n",
       "      <td>-15.0</td>\n",
       "      <td>-4.2</td>\n",
       "    </tr>\n",
       "  </tbody>\n",
       "</table>\n",
       "</div>"
      ],
      "text/plain": [
       "  Div        Date       HomeTeam            AwayTeam  FTHG  FTAG FTR  \\\n",
       "0  D1  16/08/2019  Bayern Munich              Hertha     2     2   D   \n",
       "1  D1  17/08/2019       Dortmund            Augsburg     5     1   H   \n",
       "2  D1  17/08/2019       Freiburg               Mainz     3     0   H   \n",
       "3  D1  17/08/2019     Leverkusen           Paderborn     3     2   H   \n",
       "4  D1  17/08/2019  Werder Bremen  Fortuna Dusseldorf     1     3   A   \n",
       "\n",
       "   Away_Win  Home_Win  Draw  Home_Win_Ratio  Away_Win_Ratio  Draw_Ratio  \\\n",
       "0         0         0     1            0.00             0.0        1.00   \n",
       "1         0         1     0            0.50             0.0        0.50   \n",
       "2         0         1     0            0.67             0.0        0.33   \n",
       "3         0         1     0            0.75             0.0        0.25   \n",
       "4         1         0     0            0.60             0.2        0.20   \n",
       "\n",
       "   transfer_home  transfer_away  \n",
       "0          -89.0          -86.0  \n",
       "1          -23.0          -11.0  \n",
       "2          -10.0           -3.0  \n",
       "3          -62.0            5.3  \n",
       "4          -15.0           -4.2  "
      ]
     },
     "execution_count": 334,
     "metadata": {},
     "output_type": "execute_result"
    }
   ],
   "source": [
    "minimal_data.head()"
   ]
  },
  {
   "cell_type": "markdown",
   "metadata": {},
   "source": [
    "## Weitere Features hinzufügen"
   ]
  },
  {
   "cell_type": "code",
   "execution_count": 354,
   "metadata": {},
   "outputs": [],
   "source": [
    "# Schüsse auf Tors HeimTeam in Prozent\n",
    "#minimal_data[\"HST\"] = data[\"HST\"]\n",
    "minimal_data[\"HomeShot_%\"] = round(data[\"HST\"] / (data[\"HST\"]+ data[\"AST\"]),2)\n",
    "# Schüsse aus Tor Auswärtsteam in Prozent \n",
    "minimal_data[\"Away_Shot_%\"] = round(data[\"AST\"] / (data[\"HST\"]+ data[\"AST\"]),2)"
   ]
  },
  {
   "cell_type": "code",
   "execution_count": 355,
   "metadata": {},
   "outputs": [],
   "source": [
    "# Ecken HeimTeam\n",
    "minimal_data[\"HomeCorners\"] = data[\"HC\"]\n",
    "# Ecken Auswärtsteam \n",
    "minimal_data[\"AwayCorners\"] = data[\"AC\"]"
   ]
  },
  {
   "cell_type": "markdown",
   "metadata": {},
   "source": [
    "## Quoten von Bet365 hinzufügen \n",
    "### Wir haben uns für diesen Wettanbieter entschieden, weil dies der bekannteste auf dem Markt ist. Wir hatten auch überlegt, ob wir jeweils die maximale am Markt verfügbare Quote zum Abgleich verwenden sollen, aber da man dazu dann mehrere Konten bei diversen Wettanbietern brauchen würden. So würd eman nur ein Konto bei Bet365 benötigen."
   ]
  },
  {
   "cell_type": "code",
   "execution_count": 356,
   "metadata": {},
   "outputs": [],
   "source": [
    "# Quote Heimsieg\n",
    "minimal_data[\"Odd_HW\"] = data[\"B365H\"]\n",
    "\n",
    "# Quote Unentschieden\n",
    "minimal_data[\"Odd_D\"] = data[\"B365D\"]\n",
    "\n",
    "# Quote Auswärtssieg\n",
    "minimal_data[\"Odd_AW\"] = data[\"B365A\"]\n"
   ]
  },
  {
   "cell_type": "markdown",
   "metadata": {},
   "source": [
    "## Umrechnung der Quoten in Wahrscheinlichkeiten"
   ]
  },
  {
   "cell_type": "code",
   "execution_count": 359,
   "metadata": {},
   "outputs": [],
   "source": [
    "# Wahrscheinlichkeit Heimsieg\n",
    "minimal_data[\"Prob_HW\"] = round(1 / data[\"B365H\"],3)\n",
    "\n",
    "# Wahrscheinlichkeit Unentschieden\n",
    "minimal_data[\"Prob_D\"] = round(1 / data[\"B365D\"], 3)\n",
    "\n",
    "# Wahrscheinlichkeit Auswärtssieg\n",
    "minimal_data[\"Prob_AW\"] = round(1 / data[\"B365A\"],3)\n"
   ]
  },
  {
   "cell_type": "code",
   "execution_count": 365,
   "metadata": {},
   "outputs": [
    {
     "data": {
      "text/plain": [
       "0.47878971962616806"
      ]
     },
     "execution_count": 365,
     "metadata": {},
     "output_type": "execute_result"
    }
   ],
   "source": [
    "minimal_data[\"Prob_HW\"].mean()"
   ]
  },
  {
   "cell_type": "code",
   "execution_count": 366,
   "metadata": {},
   "outputs": [
    {
     "data": {
      "text/plain": [
       "0.2399065420560748"
      ]
     },
     "execution_count": 366,
     "metadata": {},
     "output_type": "execute_result"
    }
   ],
   "source": [
    "minimal_data[\"Prob_D\"].mean()"
   ]
  },
  {
   "cell_type": "code",
   "execution_count": 367,
   "metadata": {},
   "outputs": [
    {
     "data": {
      "text/plain": [
       "0.3345233644859812"
      ]
     },
     "execution_count": 367,
     "metadata": {},
     "output_type": "execute_result"
    }
   ],
   "source": [
    "minimal_data[\"Prob_AW\"].mean()"
   ]
  },
  {
   "cell_type": "markdown",
   "metadata": {},
   "source": [
    "### Durchschnittlich ist ein Heimsieg mit knapp 48 % bei den Buchmachern, dass wahrscheinlichste Ereignis, vor Auswärtssieg mit 33, 5 % und dem Unentschieden mit 24 %"
   ]
  },
  {
   "cell_type": "markdown",
   "metadata": {},
   "source": [
    "### Ermitteln der Buchmachermarge"
   ]
  },
  {
   "cell_type": "code",
   "execution_count": 362,
   "metadata": {},
   "outputs": [],
   "source": [
    "minimal_data[\"bookie_margin\"] = round((minimal_data[\"Prob_HW\"] + minimal_data[\"Prob_D\"] + minimal_data[\"Prob_AW\"]) -1, 2)"
   ]
  },
  {
   "cell_type": "code",
   "execution_count": 363,
   "metadata": {},
   "outputs": [
    {
     "data": {
      "text/html": [
       "<div>\n",
       "<style scoped>\n",
       "    .dataframe tbody tr th:only-of-type {\n",
       "        vertical-align: middle;\n",
       "    }\n",
       "\n",
       "    .dataframe tbody tr th {\n",
       "        vertical-align: top;\n",
       "    }\n",
       "\n",
       "    .dataframe thead th {\n",
       "        text-align: right;\n",
       "    }\n",
       "</style>\n",
       "<table border=\"1\" class=\"dataframe\">\n",
       "  <thead>\n",
       "    <tr style=\"text-align: right;\">\n",
       "      <th></th>\n",
       "      <th>Div</th>\n",
       "      <th>Date</th>\n",
       "      <th>HomeTeam</th>\n",
       "      <th>AwayTeam</th>\n",
       "      <th>FTHG</th>\n",
       "      <th>FTAG</th>\n",
       "      <th>FTR</th>\n",
       "      <th>Away_Win</th>\n",
       "      <th>Home_Win</th>\n",
       "      <th>Draw</th>\n",
       "      <th>...</th>\n",
       "      <th>Away_Shot_%</th>\n",
       "      <th>HomeCorners</th>\n",
       "      <th>AwayCorners</th>\n",
       "      <th>Odd_HW</th>\n",
       "      <th>Odd_D</th>\n",
       "      <th>Odd_AW</th>\n",
       "      <th>Prob_HW</th>\n",
       "      <th>Prob_D</th>\n",
       "      <th>Prob_AW</th>\n",
       "      <th>bookie_margin</th>\n",
       "    </tr>\n",
       "  </thead>\n",
       "  <tbody>\n",
       "    <tr>\n",
       "      <td>0</td>\n",
       "      <td>D1</td>\n",
       "      <td>16/08/2019</td>\n",
       "      <td>Bayern Munich</td>\n",
       "      <td>Hertha</td>\n",
       "      <td>2</td>\n",
       "      <td>2</td>\n",
       "      <td>D</td>\n",
       "      <td>0</td>\n",
       "      <td>0</td>\n",
       "      <td>1</td>\n",
       "      <td>...</td>\n",
       "      <td>0.30</td>\n",
       "      <td>12</td>\n",
       "      <td>0</td>\n",
       "      <td>1.14</td>\n",
       "      <td>8.00</td>\n",
       "      <td>15.00</td>\n",
       "      <td>0.877</td>\n",
       "      <td>0.125</td>\n",
       "      <td>0.067</td>\n",
       "      <td>0.07</td>\n",
       "    </tr>\n",
       "    <tr>\n",
       "      <td>1</td>\n",
       "      <td>D1</td>\n",
       "      <td>17/08/2019</td>\n",
       "      <td>Dortmund</td>\n",
       "      <td>Augsburg</td>\n",
       "      <td>5</td>\n",
       "      <td>1</td>\n",
       "      <td>H</td>\n",
       "      <td>0</td>\n",
       "      <td>1</td>\n",
       "      <td>0</td>\n",
       "      <td>...</td>\n",
       "      <td>0.09</td>\n",
       "      <td>10</td>\n",
       "      <td>0</td>\n",
       "      <td>1.20</td>\n",
       "      <td>7.00</td>\n",
       "      <td>13.00</td>\n",
       "      <td>0.833</td>\n",
       "      <td>0.143</td>\n",
       "      <td>0.077</td>\n",
       "      <td>0.05</td>\n",
       "    </tr>\n",
       "    <tr>\n",
       "      <td>2</td>\n",
       "      <td>D1</td>\n",
       "      <td>17/08/2019</td>\n",
       "      <td>Freiburg</td>\n",
       "      <td>Mainz</td>\n",
       "      <td>3</td>\n",
       "      <td>0</td>\n",
       "      <td>H</td>\n",
       "      <td>0</td>\n",
       "      <td>1</td>\n",
       "      <td>0</td>\n",
       "      <td>...</td>\n",
       "      <td>0.38</td>\n",
       "      <td>5</td>\n",
       "      <td>5</td>\n",
       "      <td>2.25</td>\n",
       "      <td>3.25</td>\n",
       "      <td>3.40</td>\n",
       "      <td>0.444</td>\n",
       "      <td>0.308</td>\n",
       "      <td>0.294</td>\n",
       "      <td>0.05</td>\n",
       "    </tr>\n",
       "    <tr>\n",
       "      <td>3</td>\n",
       "      <td>D1</td>\n",
       "      <td>17/08/2019</td>\n",
       "      <td>Leverkusen</td>\n",
       "      <td>Paderborn</td>\n",
       "      <td>3</td>\n",
       "      <td>2</td>\n",
       "      <td>H</td>\n",
       "      <td>0</td>\n",
       "      <td>1</td>\n",
       "      <td>0</td>\n",
       "      <td>...</td>\n",
       "      <td>0.60</td>\n",
       "      <td>6</td>\n",
       "      <td>6</td>\n",
       "      <td>1.25</td>\n",
       "      <td>6.00</td>\n",
       "      <td>12.00</td>\n",
       "      <td>0.800</td>\n",
       "      <td>0.167</td>\n",
       "      <td>0.083</td>\n",
       "      <td>0.05</td>\n",
       "    </tr>\n",
       "    <tr>\n",
       "      <td>4</td>\n",
       "      <td>D1</td>\n",
       "      <td>17/08/2019</td>\n",
       "      <td>Werder Bremen</td>\n",
       "      <td>Fortuna Dusseldorf</td>\n",
       "      <td>1</td>\n",
       "      <td>3</td>\n",
       "      <td>A</td>\n",
       "      <td>1</td>\n",
       "      <td>0</td>\n",
       "      <td>0</td>\n",
       "      <td>...</td>\n",
       "      <td>0.41</td>\n",
       "      <td>14</td>\n",
       "      <td>5</td>\n",
       "      <td>1.75</td>\n",
       "      <td>3.75</td>\n",
       "      <td>4.75</td>\n",
       "      <td>0.571</td>\n",
       "      <td>0.267</td>\n",
       "      <td>0.211</td>\n",
       "      <td>0.05</td>\n",
       "    </tr>\n",
       "  </tbody>\n",
       "</table>\n",
       "<p>5 rows × 26 columns</p>\n",
       "</div>"
      ],
      "text/plain": [
       "  Div        Date       HomeTeam            AwayTeam  FTHG  FTAG FTR  \\\n",
       "0  D1  16/08/2019  Bayern Munich              Hertha     2     2   D   \n",
       "1  D1  17/08/2019       Dortmund            Augsburg     5     1   H   \n",
       "2  D1  17/08/2019       Freiburg               Mainz     3     0   H   \n",
       "3  D1  17/08/2019     Leverkusen           Paderborn     3     2   H   \n",
       "4  D1  17/08/2019  Werder Bremen  Fortuna Dusseldorf     1     3   A   \n",
       "\n",
       "   Away_Win  Home_Win  Draw  ...  Away_Shot_%  HomeCorners  AwayCorners  \\\n",
       "0         0         0     1  ...         0.30           12            0   \n",
       "1         0         1     0  ...         0.09           10            0   \n",
       "2         0         1     0  ...         0.38            5            5   \n",
       "3         0         1     0  ...         0.60            6            6   \n",
       "4         1         0     0  ...         0.41           14            5   \n",
       "\n",
       "   Odd_HW  Odd_D  Odd_AW  Prob_HW  Prob_D  Prob_AW  bookie_margin  \n",
       "0    1.14   8.00   15.00    0.877   0.125    0.067           0.07  \n",
       "1    1.20   7.00   13.00    0.833   0.143    0.077           0.05  \n",
       "2    2.25   3.25    3.40    0.444   0.308    0.294           0.05  \n",
       "3    1.25   6.00   12.00    0.800   0.167    0.083           0.05  \n",
       "4    1.75   3.75    4.75    0.571   0.267    0.211           0.05  \n",
       "\n",
       "[5 rows x 26 columns]"
      ]
     },
     "execution_count": 363,
     "metadata": {},
     "output_type": "execute_result"
    }
   ],
   "source": [
    "minimal_data.head()"
   ]
  },
  {
   "cell_type": "markdown",
   "metadata": {},
   "source": [
    "### Die Marge des Buchmachers beträgt im Schnitt knapp über 5 %"
   ]
  },
  {
   "cell_type": "code",
   "execution_count": 364,
   "metadata": {},
   "outputs": [
    {
     "data": {
      "text/plain": [
       "0.05308411214953277"
      ]
     },
     "execution_count": 364,
     "metadata": {},
     "output_type": "execute_result"
    }
   ],
   "source": [
    "minimal_data[\"bookie_margin\"].mean()"
   ]
  },
  {
   "cell_type": "markdown",
   "metadata": {},
   "source": []
  },
  {
   "cell_type": "code",
   "execution_count": null,
   "metadata": {},
   "outputs": [],
   "source": []
  }
 ],
 "metadata": {
  "kernelspec": {
   "display_name": "Python 3",
   "language": "python",
   "name": "python3"
  },
  "language_info": {
   "codemirror_mode": {
    "name": "ipython",
    "version": 3
   },
   "file_extension": ".py",
   "mimetype": "text/x-python",
   "name": "python",
   "nbconvert_exporter": "python",
   "pygments_lexer": "ipython3",
   "version": "3.7.4"
  }
 },
 "nbformat": 4,
 "nbformat_minor": 4
}
